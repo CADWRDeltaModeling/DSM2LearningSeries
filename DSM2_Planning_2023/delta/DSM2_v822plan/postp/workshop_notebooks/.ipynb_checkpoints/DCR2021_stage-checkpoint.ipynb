{
 "cells": [
  {
   "cell_type": "markdown",
   "metadata": {},
   "source": [
    "# Python Notebook to analyze DCR Stage data\n",
    "\n",
    "2023-9\n",
    "\n",
    "This tool is a proto-type to visualize Stage outputs for DSM2 DCR2021.\n",
    "\n",
    "The input files are post-processd (daily/monthly) DSS files."
   ]
  },
  {
   "cell_type": "code",
   "execution_count": 20,
   "metadata": {
    "ExecuteTime": {
     "end_time": "2023-09-19T16:59:46.282822Z",
     "start_time": "2023-09-19T16:59:45.735621Z"
    }
   },
   "outputs": [
    {
     "name": "stdout",
     "output_type": "stream",
     "text": [
      "The autoreload extension is already loaded. To reload it, use:\n",
      "  %reload_ext autoreload\n"
     ]
    }
   ],
   "source": [
    "%load_ext autoreload\n",
    "%autoreload 2"
   ]
  },
  {
   "cell_type": "code",
   "execution_count": 21,
   "metadata": {
    "ExecuteTime": {
     "end_time": "2023-09-19T16:59:46.619929Z",
     "start_time": "2023-09-19T16:59:46.284813Z"
    }
   },
   "outputs": [],
   "source": [
    "# Import modules\n",
    "import pandas as pd\n",
    "# import plotly.offline as py\n",
    "# py.init_notebook_mode(connected=True)\n",
    "import pydelmod.utilities as pdmu\n",
    "import pydelmod.nbplot as pdmn"
   ]
  },
  {
   "cell_type": "code",
   "execution_count": 22,
   "metadata": {
    "ExecuteTime": {
     "end_time": "2023-09-19T16:59:46.945207Z",
     "start_time": "2023-09-19T16:59:46.621921Z"
    }
   },
   "outputs": [],
   "source": [
    "# Read output locations\n",
    "fpath_output_locations = \"../info/DSM2_ec_loc.csv\"\n",
    "df_stations = pd.read_csv(fpath_output_locations, comment='#')\n",
    "df_stations['ID'] = [x.upper() for x in df_stations['ID']]\n",
    "station_ids = df_stations['ID'].values\n",
    "stations_to_read = df_stations['ID'].values"
   ]
  },
  {
   "cell_type": "markdown",
   "metadata": {},
   "source": [
    "# Build Dataframe for All the Analyzed Data\n",
    "\n",
    "Only one scenario's Water Year Types (WYT) are used among all scenarios;\n",
    "\n",
    "i.e. users need to confirm all scenarios share the same WYT; otherwise, WYT tabs are not suggest to use\n",
    "\n",
    "Note: different climate change scenarios could have different Water Year types"
   ]
  },
  {
   "cell_type": "code",
   "execution_count": 23,
   "metadata": {
    "ExecuteTime": {
     "end_time": "2023-09-19T17:00:10.615999Z",
     "start_time": "2023-09-19T16:59:46.947199Z"
    }
   },
   "outputs": [],
   "source": [
    "# Read in scenarios\n",
    "# dir2020dcp = 'D:/delta_dcp/dsm2v821/studies_dcp_2020/'\n",
    "# dir2040dcp = 'D:/delta_dcp/dsm2v821/studies_dcp_2040/'\n",
    "# dir2021dcr = 'D:/delta/LTO_DSM2_v822plan/DCR/'\n",
    "\n",
    "dir2021dcr = 'd:/DSM2_Planning_2023/delta/DSM2_v822plan/DCR/'\n",
    "dir2021ex = 'd:/DSM2_Planning_2023/delta/DSM2_v822plan/DCR/DCR2021EX/'\n",
    "dir2021fc = 'd:/DSM2_Planning_2023/delta/DSM2_v822plan/DCR/DCR2021FC/'\n",
    "\n",
    "# dir2020lto = dir2020lto_backup\n",
    "scenarios = [\n",
    "#              {'name': 'EX_2020_DCP', 'fpath': dir2020dcp+\"ex_2020/output/dcp_ex_2020_stage_p.DSS\"},\n",
    "##             {'name': 'DCR2021_EX2020',   'fpath': dir2021dcr+\"DCR2021EX/output/dcr2021ex_stage_p.DSS\"},\n",
    "#              {'name': 'NAA_2040_DCP', 'fpath': dir2040dcp+\"naa_2040/output/dcp_naa_2040slr18_stage_p.DSS\"},\n",
    "##             {'name': 'DCR2021_FC2040',   'fpath': dir2021dcr+\"DCR2021FC/output/dcr2021fc_stage_p.DSS\"},\n",
    "#              {'name': 'DCR2021CC',   'fpath': dir2021dcr+\"DCR2021CC/output/dcr2021cc_stage_p.DSS\"},\n",
    "    \n",
    "                {'name': 'EX_2021_DCR',     'fpath': dir2021ex+\"output/DCR2021EX_STAGE_p.dss\"},\n",
    "            {'name': 'FC_2021_DCR',     'fpath': dir2021fc+\"output/DCR2021FC_STAGE_p.dss\"}\n",
    "            ]\n",
    "# Read water year types\n",
    "# wyt_c3f2020 = dir2020dcp+\"ex_2020/timeseries/CALSIM/0_DCR19_12.30_120621_NDDOff_2020.DSS\"\n",
    "# wyt_c3f2020 = dir2020lto+\"1ex_2020/timeseries/CALSIM/LTO_Study1.6.DSS\"\n",
    "wyt_c3f2020 = dir2021dcr+\"DCR2021EX/timeseries/CALSIM/DCRBL_DV_6.68.DSS\"\n",
    "df_wyt2020 = pdmu.read_calsim3_wateryear_types(wyt_c3f2020)\n",
    "\n",
    "period93 = ['1922-10-1','2015-9-30']"
   ]
  },
  {
   "cell_type": "markdown",
   "metadata": {},
   "source": [
    "# Stage Daily Mean"
   ]
  },
  {
   "cell_type": "code",
   "execution_count": 24,
   "metadata": {
    "ExecuteTime": {
     "end_time": "2023-09-19T17:00:53.450709Z",
     "start_time": "2023-09-19T17:00:10.617990Z"
    }
   },
   "outputs": [],
   "source": [
    "df_davg = pdmu.prep_df(scenarios,stations_to_read,['STAGE-MEAN'],['1DAY'],df_wyt2020,period93)"
   ]
  },
  {
   "cell_type": "code",
   "execution_count": 25,
   "metadata": {
    "ExecuteTime": {
     "end_time": "2023-09-19T17:00:57.267007Z",
     "start_time": "2023-09-19T17:00:53.454691Z"
    },
    "scrolled": false
   },
   "outputs": [
    {
     "data": {
      "application/vnd.jupyter.widget-view+json": {
       "model_id": "b16824b7628e461dbf1fef8377a1ad18",
       "version_major": 2,
       "version_minor": 0
      },
      "text/plain": [
       "VBox(children=(FigureWidget({\n",
       "    'data': [{'line': {'shape': 'hv'},\n",
       "              'name': 'EX_2021_DCR',\n",
       "    …"
      ]
     },
     "metadata": {},
     "output_type": "display_data"
    }
   ],
   "source": [
    "options = {'yaxis_name': 'Daily Mean Stage (ft)', 'title': 'Stage Daily Mean Timelines'}\n",
    "pdmn.plot_step_w_variable_station_filters(df_davg, df_stations, options)"
   ]
  },
  {
   "cell_type": "code",
   "execution_count": 26,
   "metadata": {
    "ExecuteTime": {
     "end_time": "2023-09-19T17:00:59.356385Z",
     "start_time": "2023-09-19T17:00:57.272975Z"
    },
    "scrolled": false
   },
   "outputs": [
    {
     "data": {
      "application/vnd.jupyter.widget-view+json": {
       "model_id": "3f42df0813e642d0986433962e431303",
       "version_major": 2,
       "version_minor": 0
      },
      "text/plain": [
       "VBox(children=(FigureWidget({\n",
       "    'data': [{'name': 'EX_2021_DCR',\n",
       "              'type': 'bar',\n",
       "              …"
      ]
     },
     "metadata": {},
     "output_type": "display_data"
    }
   ],
   "source": [
    "options = {'yaxis_name': 'Daily Mean Stage (ft)', 'title': 'Stage Monthly Barcharts of Daily Mean'}\n",
    "pdmn.plot_bar_monthly_w_controls(df_davg, df_stations, options)"
   ]
  },
  {
   "cell_type": "code",
   "execution_count": 27,
   "metadata": {
    "ExecuteTime": {
     "end_time": "2023-09-19T17:01:01.524968Z",
     "start_time": "2023-09-19T17:00:59.360368Z"
    },
    "scrolled": false
   },
   "outputs": [
    {
     "data": {
      "application/vnd.jupyter.widget-view+json": {
       "model_id": "773bcaff3eab4e4188df0066cc239f9b",
       "version_major": 2,
       "version_minor": 0
      },
      "text/plain": [
       "VBox(children=(FigureWidget({\n",
       "    'data': [{'name': 'EX_2021_DCR',\n",
       "              'type': 'scatter',\n",
       "          …"
      ]
     },
     "metadata": {},
     "output_type": "display_data"
    }
   ],
   "source": [
    "options = {'yaxis_name': 'Daily Min Stage (ft)', 'title': 'Stage Daily Mean Exceedances'}\n",
    "pdmn.plot_exceedance_w_variable_station_filters(df_davg, df_stations, options)"
   ]
  },
  {
   "cell_type": "code",
   "execution_count": 28,
   "metadata": {
    "ExecuteTime": {
     "end_time": "2023-09-19T17:01:03.730344Z",
     "start_time": "2023-09-19T17:01:01.528950Z"
    },
    "scrolled": false
   },
   "outputs": [
    {
     "data": {
      "application/vnd.jupyter.widget-view+json": {
       "model_id": "9892b3ada56d4f1290d7e22371384ce2",
       "version_major": 2,
       "version_minor": 0
      },
      "text/plain": [
       "VBox(children=(FigureWidget({\n",
       "    'data': [{'name': 'EX_2021_DCR',\n",
       "              'type': 'box',\n",
       "              …"
      ]
     },
     "metadata": {},
     "output_type": "display_data"
    }
   ],
   "source": [
    "options = {'xaxis_name': 'Daily Min Stage (ft)', 'title': 'Stage Daily Mean Box-Whiskers'}\n",
    "pdmn.plot_box_w_variable_station_filters(df_davg, df_stations, options)"
   ]
  },
  {
   "cell_type": "markdown",
   "metadata": {},
   "source": [
    "### Stage Daily Mean Diff"
   ]
  },
  {
   "cell_type": "code",
   "execution_count": 29,
   "metadata": {
    "ExecuteTime": {
     "end_time": "2023-09-19T17:01:04.042595Z",
     "start_time": "2023-09-19T17:01:03.732336Z"
    }
   },
   "outputs": [],
   "source": [
    "# df_stage1 = df_davg[df_davg['scenario_name']=='EX_2020']\n",
    "# df_stage2 = df_davg[df_davg['scenario_name']=='PA6K_2020']\n",
    "# df_stage_dff = df_stage1\n",
    "# df_stage_dff['scenario_name'] = 'PA6K-EX_2020'\n",
    "# df_stage_dff['value'] = df_stage2['value'] - df_stage1['value']\n",
    "# # df_stage_dff"
   ]
  },
  {
   "cell_type": "code",
   "execution_count": 30,
   "metadata": {
    "ExecuteTime": {
     "end_time": "2023-09-19T17:01:04.350242Z",
     "start_time": "2023-09-19T17:01:04.044586Z"
    },
    "scrolled": false
   },
   "outputs": [],
   "source": [
    "# options = {'yaxis_name': 'Daily Min Stage Difference (ft)', 'title': 'Stage Daily Min Difference Timelines'}\n",
    "# pdmn.plot_step_w_variable_station_filters(df_stage_dff, df_stations, options)"
   ]
  },
  {
   "cell_type": "code",
   "execution_count": 31,
   "metadata": {
    "ExecuteTime": {
     "end_time": "2023-09-19T17:01:04.669398Z",
     "start_time": "2023-09-19T17:01:04.351238Z"
    }
   },
   "outputs": [],
   "source": [
    "# options = {'yaxis_name': 'Daily Mean Stage Difference (ft)', 'title': 'Stage Monthly Barcharts of Daily Mean Difference'}\n",
    "# pdmn.plot_bar_monthly_w_controls(df_stage_dff, df_stations, options)"
   ]
  },
  {
   "cell_type": "code",
   "execution_count": 32,
   "metadata": {
    "ExecuteTime": {
     "end_time": "2023-09-19T17:01:04.987998Z",
     "start_time": "2023-09-19T17:01:04.671390Z"
    }
   },
   "outputs": [],
   "source": [
    "# options = {'yaxis_name': 'Daily Mean Stage Difference (cfs)', 'title': 'Stage Daily Mean Difference Exceedances'}\n",
    "# pdmn.plot_exceedance_w_variable_station_filters(df_stage_dff, df_stations, options)"
   ]
  },
  {
   "cell_type": "code",
   "execution_count": 33,
   "metadata": {
    "ExecuteTime": {
     "end_time": "2023-09-19T17:01:05.294649Z",
     "start_time": "2023-09-19T17:01:04.989989Z"
    }
   },
   "outputs": [],
   "source": [
    "# options = {'xaxis_name': 'Daily Mean Stage Difference (ft)', 'title': 'Stage Daily Mean Difference Box-Whiskers'}\n",
    "# pdmn.plot_box_w_variable_station_filters(df_stage_dff, df_stations, options)"
   ]
  },
  {
   "cell_type": "markdown",
   "metadata": {},
   "source": [
    "# Stage Daily Min"
   ]
  },
  {
   "cell_type": "code",
   "execution_count": 34,
   "metadata": {
    "ExecuteTime": {
     "end_time": "2023-09-19T17:01:47.074263Z",
     "start_time": "2023-09-19T17:01:05.296640Z"
    }
   },
   "outputs": [],
   "source": [
    "df_dmin = pdmu.prep_df(scenarios,stations_to_read,['STAGE-MIN'],['1DAY'],df_wyt2020,period93)"
   ]
  },
  {
   "cell_type": "code",
   "execution_count": 35,
   "metadata": {
    "ExecuteTime": {
     "end_time": "2023-09-19T17:01:51.074044Z",
     "start_time": "2023-09-19T17:01:47.078246Z"
    },
    "scrolled": false
   },
   "outputs": [
    {
     "data": {
      "application/vnd.jupyter.widget-view+json": {
       "model_id": "5e1c686c91ce4eaba59562873d74d8ea",
       "version_major": 2,
       "version_minor": 0
      },
      "text/plain": [
       "VBox(children=(FigureWidget({\n",
       "    'data': [{'line': {'shape': 'hv'},\n",
       "              'name': 'EX_2021_DCR',\n",
       "    …"
      ]
     },
     "metadata": {},
     "output_type": "display_data"
    }
   ],
   "source": [
    "options = {'yaxis_name': 'Daily Min Stage (ft)', 'title': 'Stage Daily Min Timelines'}\n",
    "pdmn.plot_step_w_variable_station_filters(df_dmin, df_stations, options)"
   ]
  },
  {
   "cell_type": "code",
   "execution_count": 36,
   "metadata": {
    "ExecuteTime": {
     "end_time": "2023-09-19T17:01:53.062566Z",
     "start_time": "2023-09-19T17:01:51.078027Z"
    },
    "scrolled": false
   },
   "outputs": [
    {
     "data": {
      "application/vnd.jupyter.widget-view+json": {
       "model_id": "16de113ca6e34890ab4ce3770d23f7f4",
       "version_major": 2,
       "version_minor": 0
      },
      "text/plain": [
       "VBox(children=(FigureWidget({\n",
       "    'data': [{'name': 'EX_2021_DCR',\n",
       "              'type': 'bar',\n",
       "              …"
      ]
     },
     "metadata": {},
     "output_type": "display_data"
    }
   ],
   "source": [
    "options = {'yaxis_name': 'Daily Min Stage (ft)', 'title': 'Stage Monthly Barcharts of Daily Min'}\n",
    "pdmn.plot_bar_monthly_w_controls(df_dmin, df_stations, options)"
   ]
  },
  {
   "cell_type": "code",
   "execution_count": 37,
   "metadata": {
    "ExecuteTime": {
     "end_time": "2023-09-19T17:01:55.170460Z",
     "start_time": "2023-09-19T17:01:53.066548Z"
    },
    "scrolled": false
   },
   "outputs": [
    {
     "data": {
      "application/vnd.jupyter.widget-view+json": {
       "model_id": "068d49f901b949c98a88bc2b4b803843",
       "version_major": 2,
       "version_minor": 0
      },
      "text/plain": [
       "VBox(children=(FigureWidget({\n",
       "    'data': [{'name': 'EX_2021_DCR',\n",
       "              'type': 'scatter',\n",
       "          …"
      ]
     },
     "metadata": {},
     "output_type": "display_data"
    }
   ],
   "source": [
    "options = {'yaxis_name': 'Daily Min Stage (ft)', 'title': 'Stage Daily Min Exceedances'}\n",
    "pdmn.plot_exceedance_w_variable_station_filters(df_dmin, df_stations, options)"
   ]
  },
  {
   "cell_type": "code",
   "execution_count": 38,
   "metadata": {
    "ExecuteTime": {
     "end_time": "2023-09-19T17:01:57.301679Z",
     "start_time": "2023-09-19T17:01:55.174443Z"
    },
    "scrolled": false
   },
   "outputs": [
    {
     "data": {
      "application/vnd.jupyter.widget-view+json": {
       "model_id": "250e65211ed74bd4a8eb3921302d489a",
       "version_major": 2,
       "version_minor": 0
      },
      "text/plain": [
       "VBox(children=(FigureWidget({\n",
       "    'data': [{'name': 'EX_2021_DCR',\n",
       "              'type': 'box',\n",
       "              …"
      ]
     },
     "metadata": {},
     "output_type": "display_data"
    }
   ],
   "source": [
    "options = {'xaxis_name': 'Daily Min Stage (ft)', 'title': 'Stage Daily Min Box-Whiskers'}\n",
    "pdmn.plot_box_w_variable_station_filters(df_dmin, df_stations, options)"
   ]
  }
 ],
 "metadata": {
  "kernelspec": {
   "display_name": "Python 3",
   "language": "python",
   "name": "python3"
  },
  "language_info": {
   "codemirror_mode": {
    "name": "ipython",
    "version": 3
   },
   "file_extension": ".py",
   "mimetype": "text/x-python",
   "name": "python",
   "nbconvert_exporter": "python",
   "pygments_lexer": "ipython3",
   "version": "3.7.6"
  },
  "varInspector": {
   "cols": {
    "lenName": 16,
    "lenType": 16,
    "lenVar": 40
   },
   "kernels_config": {
    "python": {
     "delete_cmd_postfix": "",
     "delete_cmd_prefix": "del ",
     "library": "var_list.py",
     "varRefreshCmd": "print(var_dic_list())"
    },
    "r": {
     "delete_cmd_postfix": ") ",
     "delete_cmd_prefix": "rm(",
     "library": "var_list.r",
     "varRefreshCmd": "cat(var_dic_list()) "
    }
   },
   "types_to_exclude": [
    "module",
    "function",
    "builtin_function_or_method",
    "instance",
    "_Feature"
   ],
   "window_display": false
  }
 },
 "nbformat": 4,
 "nbformat_minor": 2
}
