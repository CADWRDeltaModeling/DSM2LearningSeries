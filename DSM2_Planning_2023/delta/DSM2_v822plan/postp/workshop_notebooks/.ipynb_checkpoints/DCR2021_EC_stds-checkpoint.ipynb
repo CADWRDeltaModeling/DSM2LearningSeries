{
 "cells": [
  {
   "cell_type": "markdown",
   "metadata": {},
   "source": [
    "# Python Notebook to Analyze EC Standards\n",
    "\n",
    "2023-9\n",
    "\n",
    "This tool is a proto-type to visualize EC standards for DSM2 DCR2021.\n",
    "\n",
    "The input files are post-processd (daily/monthly) DSS files."
   ]
  },
  {
   "cell_type": "code",
   "execution_count": 1,
   "metadata": {
    "ExecuteTime": {
     "end_time": "2023-09-18T23:53:14.270019Z",
     "start_time": "2023-09-18T23:53:14.214379Z"
    }
   },
   "outputs": [],
   "source": [
    "%load_ext autoreload\n",
    "%autoreload 2"
   ]
  },
  {
   "cell_type": "code",
   "execution_count": 2,
   "metadata": {
    "ExecuteTime": {
     "end_time": "2023-09-18T23:53:20.280415Z",
     "start_time": "2023-09-18T23:53:14.917689Z"
    }
   },
   "outputs": [],
   "source": [
    "# Import modules\n",
    "import pandas as pd\n",
    "# import plotly.offline as py\n",
    "# py.init_notebook_mode(connected=True)\n",
    "import pydelmod.utilities as pdmu\n",
    "import pydelmod.nbplot as pdmn"
   ]
  },
  {
   "cell_type": "code",
   "execution_count": 3,
   "metadata": {
    "ExecuteTime": {
     "end_time": "2023-09-18T23:53:20.513389Z",
     "start_time": "2023-09-18T23:53:20.391925Z"
    }
   },
   "outputs": [],
   "source": [
    "# Read output locations\n",
    "fpath_output_locations = \"../info/DSM2_ec_loc_stds.csv\"\n",
    "df_stations = pd.read_csv(fpath_output_locations, comment='#')\n",
    "df_stations['ID'] = [x.upper() for x in df_stations['ID']]\n",
    "station_ids = df_stations['ID'].values\n",
    "stations_to_read = df_stations['ID'].values"
   ]
  },
  {
   "cell_type": "markdown",
   "metadata": {},
   "source": [
    "# Build Dataframe for All the Analyzed Data\n",
    "\n",
    "Only one scenario's Water Year Types (WYT) are used among all scenarios;\n",
    "\n",
    "i.e. users need to confirm all scenarios share the same WYT; otherwise, WYT tabs and calculation are not suggest to use\n",
    "\n",
    "Note: different climate change scenarios could have different Water Year types"
   ]
  },
  {
   "cell_type": "code",
   "execution_count": 4,
   "metadata": {
    "ExecuteTime": {
     "end_time": "2023-09-18T23:53:42.872336Z",
     "start_time": "2023-09-18T23:53:20.624899Z"
    }
   },
   "outputs": [],
   "source": [
    "# Read in scenarios\n",
    "#dir2020dcp = 'D:/delta_dcp/dsm2v821/studies_dcp_2020/'\n",
    "#dir2040dcp = 'D:/delta_dcp/dsm2v821/studies_dcp_2040/'\n",
    "#dir2021dcr = 'D:/delta/LTO_DSM2_v822plan/DCR/'\n",
    "\n",
    "\n",
    "dir2021dcr = 'd:/DSM2_Planning_2023/delta/DSM2_v822plan/DCR/'\n",
    "dir2021ex = 'd:/DSM2_Planning_2023/delta/DSM2_v822plan/DCR/DCR2021EX/'\n",
    "dir2021fc = 'd:/DSM2_Planning_2023/delta/DSM2_v822plan/DCR/DCR2021FC/'\n",
    "\n",
    "# dir2020lto = dir2020lto_backup\n",
    "scenarios = [\n",
    "#              {'name': 'EX_2020_DCP', 'fpath': dir2020dcp+\"ex_2020/output/dcp_ex_2020_ec_p.DSS\"},\n",
    "##             {'name': 'DCR2021_EX2020',   'fpath': dir2021dcr+\"DCR2021EX/output/dcr2021ex_ec_p.DSS\"},\n",
    "#              {'name': 'NAA_2040_DCP', 'fpath': dir2040dcp+\"naa_2040/output/dcp_naa_2040slr18_ec_p.DSS\"},\n",
    "##             {'name': 'DCR2021_FC2040',   'fpath': dir2021dcr+\"DCR2021FC/output/dcr2021fc_ec_p.DSS\"},\n",
    "#              {'name': 'DCR2021CC',   'fpath': dir2021dcr+\"DCR2021CC/output/dcr2021cc_ec_p.DSS\"},\n",
    "    \n",
    "    \n",
    "                {'name': 'EX_2021_DCR',     'fpath': dir2021ex+\"output/DCR2021EX_EC_p.dss\"},\n",
    "            {'name': 'FC_2021_DCR',     'fpath': dir2021fc+\"output/DCR2021FC_EC_p.dss\"}\n",
    "            ]\n",
    "# Read water year types\n",
    "# wyt_c3f2020 = dir2020dcp+\"ex_2020/timeseries/CALSIM/0_DCR19_12.30_120621_NDDOff_2020.DSS\"\n",
    "# wyt_c3f2020 = dir2020lto+\"1ex_2020/timeseries/CALSIM/LTO_Study1.6.DSS\"\n",
    "wyt_c3f2020 = dir2021dcr+\"DCR2021EX/timeseries/CALSIM/DCRBL_DV_6.68.DSS\"\n",
    "df_wyt2020 = pdmu.read_calsim3_wateryear_types(wyt_c3f2020)\n",
    "\n",
    "period93 = ['1922-10-1','2015-9-30']"
   ]
  },
  {
   "cell_type": "code",
   "execution_count": 5,
   "metadata": {
    "ExecuteTime": {
     "end_time": "2023-09-18T23:56:44.709151Z",
     "start_time": "2023-09-18T23:56:23.329899Z"
    }
   },
   "outputs": [],
   "source": [
    "# df_ec = pdmu.prep_df(scenarios,stations_to_read,['EC-MEAN', 'EC-MAX', 'EC-HT-MEAN'],['1DAY', '1MON'],df_wyt2020,period93)\n",
    "df_ec = pdmu.prep_df(scenarios,stations_to_read,['EC-MEAN'],['1DAY'],df_wyt2020,period93)\n",
    "df_1day = df_ec[df_ec['interval'] == '1DAY']\n",
    "df_davg = df_1day[df_1day['variable'] == 'EC-MEAN']"
   ]
  },
  {
   "cell_type": "markdown",
   "metadata": {},
   "source": [
    "## D1641 Agricultural Standards"
   ]
  },
  {
   "cell_type": "markdown",
   "metadata": {},
   "source": [
    "Check D1641 details\n",
    "\n",
    "https://www.waterboards.ca.gov/waterrights/board_decisions/adopted_orders/decisions/d1600_d1649/wrd1641_1999dec29.pdf\n",
    "\n",
    "Page 182-187, Table 2-3"
   ]
  },
  {
   "cell_type": "markdown",
   "metadata": {},
   "source": [
    "### D1641_AG West&Interior Delta: 14-day running average of daily mean EC"
   ]
  },
  {
   "cell_type": "code",
   "execution_count": 6,
   "metadata": {
    "ExecuteTime": {
     "end_time": "2023-09-18T23:56:45.913044Z",
     "start_time": "2023-09-18T23:56:44.849535Z"
    }
   },
   "outputs": [],
   "source": [
    "fpath_d1641_ag = '../info/D1641_AG_wiDelta.csv'\n",
    "df_reg_ag = pdmu.read_regulations(fpath_d1641_ag, df_wyt2020)\n",
    "df_reg_ag['value'] = df_reg_ag['value'] * 1000.  # Convert milli to micro\n",
    "reg_ag_loc = df_reg_ag.location.unique()\n",
    "df_stations_reg_ag = df_stations[df_stations['ID'].isin(reg_ag_loc)]\n",
    "# df_stations_reg_ag"
   ]
  },
  {
   "cell_type": "code",
   "execution_count": 7,
   "metadata": {
    "ExecuteTime": {
     "end_time": "2023-09-18T23:56:46.301534Z",
     "start_time": "2023-09-18T23:56:46.055032Z"
    },
    "scrolled": true
   },
   "outputs": [],
   "source": [
    "# df_1day = df_ec[df_ec['interval'] == '1DAY']\n",
    "# df_davg = df_1day[df_1day['variable'] == 'EC-MEAN']\n",
    "df_davg_ag = df_davg[df_davg['station'].isin(reg_ag_loc)]"
   ]
  },
  {
   "cell_type": "code",
   "execution_count": 8,
   "metadata": {
    "ExecuteTime": {
     "end_time": "2023-09-18T23:56:48.615418Z",
     "start_time": "2023-09-18T23:56:46.443908Z"
    }
   },
   "outputs": [],
   "source": [
    "# Get the time range from the data set\n",
    "df_reg_ag_ts = pdmu.generate_regulation_timeseries(df_reg_ag, df_davg_ag, freq='D')\n",
    "df_reg_ag_ts['variable'] = 'EC-MEAN-14DAY'\n",
    "df_reg_ag_ts['scenario_name'] = 'D1641 AG WI'\n",
    "# df_reg_ag_ts.hvplot.line()"
   ]
  },
  {
   "cell_type": "code",
   "execution_count": 9,
   "metadata": {
    "ExecuteTime": {
     "end_time": "2023-09-18T23:56:57.045427Z",
     "start_time": "2023-09-18T23:56:48.758787Z"
    },
    "scrolled": false
   },
   "outputs": [
    {
     "data": {
      "application/vnd.jupyter.widget-view+json": {
       "model_id": "47edbe9be6c74ab2a8c3b2b37829ad5c",
       "version_major": 2,
       "version_minor": 0
      },
      "text/plain": [
       "VBox(children=(FigureWidget({\n",
       "    'data': [{'line': {'shape': 'hv'},\n",
       "              'name': 'EX_2021_DCR',\n",
       "    …"
      ]
     },
     "metadata": {},
     "output_type": "display_data"
    }
   ],
   "source": [
    "options = {'yaxis_name': '14-day running average EC (mmhos/cm)', \n",
    "           'title': 'EC 14-Day Mean for D1641_AG West&Interior Delta Timelines'}\n",
    "pdmn.plot_step_w_regulation(df_davg_ag, df_reg_ag_ts, df_stations_reg_ag, options)"
   ]
  },
  {
   "cell_type": "code",
   "execution_count": 10,
   "metadata": {
    "ExecuteTime": {
     "end_time": "2023-09-18T23:59:22.475575Z",
     "start_time": "2023-09-18T23:59:20.664539Z"
    },
    "scrolled": false
   },
   "outputs": [
    {
     "data": {
      "application/vnd.jupyter.widget-view+json": {
       "model_id": "685105b82c1d49e9937d8a8ebe3644e4",
       "version_major": 2,
       "version_minor": 0
      },
      "text/plain": [
       "VBox(children=(FigureWidget({\n",
       "    'data': [{'name': 'EX_2021_DCR',\n",
       "              'type': 'scatter',\n",
       "          …"
      ]
     },
     "metadata": {},
     "output_type": "display_data"
    }
   ],
   "source": [
    "options = {'yaxis_name': '14-day running average EC - standard (mmhos/cm)', \n",
    "           'title': 'EC 14-Day Mean for D1641_AG West&Interior Delta Exceedances'}\n",
    "pdmn.plot_exceedance_w_regulation(df_davg_ag, df_reg_ag_ts, df_stations_reg_ag, options)"
   ]
  },
  {
   "cell_type": "markdown",
   "metadata": {},
   "source": [
    "### D1641_AG South Delta: 30-day running average of daily mean EC"
   ]
  },
  {
   "cell_type": "code",
   "execution_count": 11,
   "metadata": {
    "ExecuteTime": {
     "end_time": "2023-09-18T23:59:26.378400Z",
     "start_time": "2023-09-18T23:59:25.144226Z"
    }
   },
   "outputs": [],
   "source": [
    "fpath_d1641_ag2 = '../info/D1641_AG_sDelta.csv'\n",
    "df_reg_ag2 = pdmu.read_regulations(fpath_d1641_ag2, df_wyt2020)\n",
    "df_reg_ag2['value'] = df_reg_ag2['value'] * 1000.  # Convert milli to micro\n",
    "reg_ag_loc2 = df_reg_ag2.location.unique()\n",
    "df_stations_reg_ag2 = df_stations[df_stations['ID'].isin(reg_ag_loc2)]\n",
    "# df_stations_reg_ag2"
   ]
  },
  {
   "cell_type": "code",
   "execution_count": 12,
   "metadata": {
    "ExecuteTime": {
     "end_time": "2023-09-18T23:59:27.159843Z",
     "start_time": "2023-09-18T23:59:26.739452Z"
    }
   },
   "outputs": [],
   "source": [
    "df_davg_ag2 = df_davg[df_davg['station'].isin(reg_ag_loc2)]"
   ]
  },
  {
   "cell_type": "code",
   "execution_count": 13,
   "metadata": {
    "ExecuteTime": {
     "end_time": "2023-09-18T23:59:29.835482Z",
     "start_time": "2023-09-18T23:59:27.516439Z"
    }
   },
   "outputs": [],
   "source": [
    "# Get the time range from the data set\n",
    "df_reg_ag_ts2 = pdmu.generate_regulation_timeseries(df_reg_ag2, df_davg_ag2, freq='D')\n",
    "df_reg_ag_ts2['variable'] = 'EC-MEAN-30DAY'\n",
    "df_reg_ag_ts2['scenario_name'] = 'D1641 AG South'\n",
    "# df_reg_ag_ts2.hvplot.line()"
   ]
  },
  {
   "cell_type": "markdown",
   "metadata": {},
   "source": [
    "O&M:\n",
    "\n",
    "start checking on Apr.30, check prev30d-avg; if exceed 700, count 30day, the entire month\n",
    "\n",
    "May.1, if exceed, count 1day\n",
    "\n",
    "notebook:\n",
    "\n",
    "didn't follow the 1st\n",
    "\n",
    "start checking on Apr.1, count days"
   ]
  },
  {
   "cell_type": "code",
   "execution_count": 14,
   "metadata": {
    "ExecuteTime": {
     "end_time": "2023-09-18T23:59:36.728996Z",
     "start_time": "2023-09-18T23:59:32.565562Z"
    }
   },
   "outputs": [
    {
     "data": {
      "application/vnd.jupyter.widget-view+json": {
       "model_id": "8e4b9db5929240b5b9e3ab0d544bbdd4",
       "version_major": 2,
       "version_minor": 0
      },
      "text/plain": [
       "VBox(children=(FigureWidget({\n",
       "    'data': [{'line': {'shape': 'hv'},\n",
       "              'name': 'EX_2021_DCR',\n",
       "    …"
      ]
     },
     "metadata": {},
     "output_type": "display_data"
    }
   ],
   "source": [
    "options = {'yaxis_name': '30-day running average EC (mmhos/cm)', \n",
    "           'title': 'EC 30-Day Mean for D1641_AG South Delta Timelines'}\n",
    "pdmn.plot_step_w_regulation(df_davg_ag2, df_reg_ag_ts2, df_stations_reg_ag2, options)"
   ]
  },
  {
   "cell_type": "code",
   "execution_count": 15,
   "metadata": {
    "ExecuteTime": {
     "end_time": "2023-09-18T23:59:39.121751Z",
     "start_time": "2023-09-18T23:59:37.103014Z"
    },
    "scrolled": false
   },
   "outputs": [
    {
     "data": {
      "application/vnd.jupyter.widget-view+json": {
       "model_id": "9eef3633a9e54676bdd612da942cbd55",
       "version_major": 2,
       "version_minor": 0
      },
      "text/plain": [
       "VBox(children=(FigureWidget({\n",
       "    'data': [{'name': 'EX_2021_DCR',\n",
       "              'type': 'scatter',\n",
       "          …"
      ]
     },
     "metadata": {},
     "output_type": "display_data"
    }
   ],
   "source": [
    "options = {'yaxis_name': '30-day running average EC - standard (mmhos/cm)', \n",
    "           'title': 'EC 30-Day Mean for D1641_AG South Delta Exceedances'}\n",
    "pdmn.plot_exceedance_w_regulation(df_davg_ag2, df_reg_ag_ts2, df_stations_reg_ag2, options)"
   ]
  },
  {
   "cell_type": "markdown",
   "metadata": {},
   "source": [
    "### todo, change to monthly"
   ]
  },
  {
   "cell_type": "markdown",
   "metadata": {},
   "source": [
    "### D1641_AG Export Area: monthly average of daily mean EC"
   ]
  },
  {
   "cell_type": "code",
   "execution_count": 16,
   "metadata": {
    "ExecuteTime": {
     "end_time": "2023-09-18T23:59:48.754475Z",
     "start_time": "2023-09-18T23:59:48.051203Z"
    }
   },
   "outputs": [],
   "source": [
    "fpath_d1641_ag3 = '../info/D1641_AG_export.csv'\n",
    "df_reg_ag3 = pdmu.read_regulations(fpath_d1641_ag3, df_wyt2020)\n",
    "df_reg_ag3['value'] = df_reg_ag3['value'] * 1000.  # Convert milli to micro\n",
    "reg_ag_loc3 = df_reg_ag3.location.unique()\n",
    "df_stations_reg_ag3 = df_stations[df_stations['ID'].isin(reg_ag_loc3)]\n",
    "# df_stations_reg_ag3"
   ]
  },
  {
   "cell_type": "code",
   "execution_count": 17,
   "metadata": {
    "ExecuteTime": {
     "end_time": "2023-09-18T23:59:49.844080Z",
     "start_time": "2023-09-18T23:59:49.435231Z"
    }
   },
   "outputs": [],
   "source": [
    "df_davg_ag3 = df_davg[df_davg['station'].isin(reg_ag_loc3)]"
   ]
  },
  {
   "cell_type": "code",
   "execution_count": 18,
   "metadata": {
    "ExecuteTime": {
     "end_time": "2023-09-18T23:59:51.168855Z",
     "start_time": "2023-09-18T23:59:50.218098Z"
    }
   },
   "outputs": [],
   "source": [
    "# Get the time range from the data set\n",
    "df_reg_ag_ts3 = pdmu.generate_regulation_timeseries(df_reg_ag3, df_davg_ag3, freq='D')\n",
    "df_reg_ag_ts3['variable'] = 'EC-MEAN-30DAY'\n",
    "df_reg_ag_ts3['scenario_name'] = 'D1641 AG Export'\n",
    "# df_reg_ag_ts3.hvplot.line()"
   ]
  },
  {
   "cell_type": "code",
   "execution_count": 19,
   "metadata": {
    "ExecuteTime": {
     "end_time": "2023-09-18T23:59:53.577678Z",
     "start_time": "2023-09-18T23:59:51.546307Z"
    }
   },
   "outputs": [
    {
     "data": {
      "application/vnd.jupyter.widget-view+json": {
       "model_id": "5a7f2ffa48514f70923f36f48e7aac48",
       "version_major": 2,
       "version_minor": 0
      },
      "text/plain": [
       "VBox(children=(FigureWidget({\n",
       "    'data': [{'line': {'shape': 'hv'},\n",
       "              'name': 'EX_2021_DCR',\n",
       "    …"
      ]
     },
     "metadata": {},
     "output_type": "display_data"
    }
   ],
   "source": [
    "options = {'yaxis_name': 'monthly average EC (mmhos/cm)', \n",
    "           'title': 'EC Monthly Mean for D1641_AG Export Timelines'}\n",
    "pdmn.plot_step_w_regulation(df_davg_ag3, df_reg_ag_ts3, df_stations_reg_ag3, options)"
   ]
  },
  {
   "cell_type": "code",
   "execution_count": 20,
   "metadata": {
    "ExecuteTime": {
     "end_time": "2023-09-18T23:59:56.870902Z",
     "start_time": "2023-09-18T23:59:53.967975Z"
    },
    "scrolled": false
   },
   "outputs": [
    {
     "data": {
      "application/vnd.jupyter.widget-view+json": {
       "model_id": "9f5c26a77d584c36b839c0ba275bff79",
       "version_major": 2,
       "version_minor": 0
      },
      "text/plain": [
       "VBox(children=(FigureWidget({\n",
       "    'data': [{'name': 'EX_2021_DCR',\n",
       "              'type': 'scatter',\n",
       "          …"
      ]
     },
     "metadata": {},
     "output_type": "display_data"
    }
   ],
   "source": [
    "options = {'yaxis_name': 'monthly average EC - standard (mmhos/cm)', \n",
    "           'title': 'EC Monthly Mean for D1641_AG Export Exceedances'}\n",
    "pdmn.plot_exceedance_w_regulation(df_davg, df_reg_ag_ts3, df_stations_reg_ag3, options)"
   ]
  },
  {
   "cell_type": "markdown",
   "metadata": {},
   "source": [
    "## D1641 Fish and Wildlife standards"
   ]
  },
  {
   "cell_type": "markdown",
   "metadata": {},
   "source": [
    "### D1641_FWS San Joaquin River: 14-day running average of daily mean EC"
   ]
  },
  {
   "cell_type": "code",
   "execution_count": 21,
   "metadata": {
    "ExecuteTime": {
     "end_time": "2023-09-19T00:00:03.332219Z",
     "start_time": "2023-09-19T00:00:03.002357Z"
    }
   },
   "outputs": [],
   "source": [
    "# df_1day = df_ec[df_ec['interval'] == '1DAY']\n",
    "# df_davg = df_1day[df_1day['variable'] == 'EC-MEAN']"
   ]
  },
  {
   "cell_type": "code",
   "execution_count": 22,
   "metadata": {
    "ExecuteTime": {
     "end_time": "2023-09-19T00:00:04.513016Z",
     "start_time": "2023-09-19T00:00:03.731206Z"
    }
   },
   "outputs": [],
   "source": [
    "fpath_d1641_fws_sjr = '../info/D1641_FWS_SJR.csv'\n",
    "df_reg_fws_sjr = pdmu.read_regulations(fpath_d1641_fws_sjr, df_wyt2020)\n",
    "df_reg_fws_sjr['value'] = df_reg_fws_sjr['value'] * 1000.  # Convert milli to micro\n",
    "reg_fws_sjr_loc = df_reg_fws_sjr.location.unique()\n",
    "df_stations_reg_fws_sjr = df_stations[df_stations['ID'].isin(reg_fws_sjr_loc)]\n",
    "# df_stations_reg_fws_sjr"
   ]
  },
  {
   "cell_type": "code",
   "execution_count": 23,
   "metadata": {
    "ExecuteTime": {
     "end_time": "2023-09-19T00:00:05.303120Z",
     "start_time": "2023-09-19T00:00:04.904827Z"
    }
   },
   "outputs": [],
   "source": [
    "df_davg_fws_sjr = df_davg[df_davg['station'].isin(reg_fws_sjr_loc)]"
   ]
  },
  {
   "cell_type": "code",
   "execution_count": 24,
   "metadata": {
    "ExecuteTime": {
     "end_time": "2023-09-19T00:00:07.131441Z",
     "start_time": "2023-09-19T00:00:05.695236Z"
    }
   },
   "outputs": [],
   "source": [
    "# Get the time range from the data set\n",
    "df_reg_fws_ts_sjr = pdmu.generate_regulation_timeseries(df_reg_fws_sjr, df_davg_fws_sjr, freq='D')\n",
    "df_reg_fws_ts_sjr['variable'] = 'EC-MEAN-14DAY'\n",
    "df_reg_fws_ts_sjr['scenario_name'] = 'D1641 FWS SJR'\n",
    "# df_reg_fws_ts_sjr.hvplot.line()"
   ]
  },
  {
   "cell_type": "code",
   "execution_count": 25,
   "metadata": {
    "ExecuteTime": {
     "end_time": "2023-09-19T00:00:11.792559Z",
     "start_time": "2023-09-19T00:00:08.210082Z"
    },
    "scrolled": false
   },
   "outputs": [
    {
     "data": {
      "application/vnd.jupyter.widget-view+json": {
       "model_id": "bc72460274024c70b220c44d1d95debe",
       "version_major": 2,
       "version_minor": 0
      },
      "text/plain": [
       "VBox(children=(FigureWidget({\n",
       "    'data': [{'line': {'shape': 'hv'},\n",
       "              'name': 'EX_2021_DCR',\n",
       "    …"
      ]
     },
     "metadata": {},
     "output_type": "display_data"
    }
   ],
   "source": [
    "options = {'yaxis_name': '14-day running average EC (mmhos/cm)', \n",
    "           'title': 'EC 14-Day Mean for D1641_FWS San Joaquin River Timelines'}\n",
    "pdmn.plot_step_w_regulation(df_davg_fws_sjr, df_reg_fws_ts_sjr, df_stations_reg_fws_sjr, options)"
   ]
  },
  {
   "cell_type": "code",
   "execution_count": 26,
   "metadata": {
    "ExecuteTime": {
     "end_time": "2023-09-19T00:00:13.570653Z",
     "start_time": "2023-09-19T00:00:12.217313Z"
    },
    "scrolled": false
   },
   "outputs": [
    {
     "data": {
      "application/vnd.jupyter.widget-view+json": {
       "model_id": "d4417b18f6f64789ad470092dd63fa4c",
       "version_major": 2,
       "version_minor": 0
      },
      "text/plain": [
       "VBox(children=(FigureWidget({\n",
       "    'data': [{'name': 'EX_2021_DCR',\n",
       "              'type': 'scatter',\n",
       "          …"
      ]
     },
     "metadata": {},
     "output_type": "display_data"
    }
   ],
   "source": [
    "options = {'yaxis_name': '14-day running average EC - standard (mmhos/cm)', \n",
    "           'title': 'EC 14-Day Mean for D1641_FWS San Joaquin River Exceedances'}\n",
    "pdmn.plot_exceedance_w_regulation(df_davg_fws_sjr, df_reg_fws_ts_sjr, df_stations_reg_fws_sjr, options)"
   ]
  },
  {
   "cell_type": "markdown",
   "metadata": {},
   "source": [
    "### D1641_FWS Suisun Area: monthly average of daily max EC"
   ]
  },
  {
   "cell_type": "code",
   "execution_count": 27,
   "metadata": {
    "ExecuteTime": {
     "end_time": "2023-09-19T00:10:32.163142Z",
     "start_time": "2023-09-19T00:10:06.524744Z"
    }
   },
   "outputs": [],
   "source": [
    "df_dmax = pdmu.prep_df(scenarios,stations_to_read,['EC-MAX'],['1DAY'],df_wyt2020,period93)"
   ]
  },
  {
   "cell_type": "code",
   "execution_count": 28,
   "metadata": {
    "ExecuteTime": {
     "end_time": "2023-09-19T00:10:32.886803Z",
     "start_time": "2023-09-19T00:10:32.570196Z"
    },
    "scrolled": true
   },
   "outputs": [],
   "source": [
    "# df_dmax = df_1day[df_1day['variable'] == 'EC-MAX']"
   ]
  },
  {
   "cell_type": "code",
   "execution_count": 29,
   "metadata": {
    "ExecuteTime": {
     "end_time": "2023-09-19T00:10:35.185192Z",
     "start_time": "2023-09-19T00:10:33.308480Z"
    }
   },
   "outputs": [],
   "source": [
    "fpath_d1641_fws_suisun = '../info/D1641_FWS_Suisun.csv'\n",
    "df_reg_fws_suisun = pdmu.read_regulations(fpath_d1641_fws_suisun, df_wyt2020)\n",
    "df_reg_fws_suisun['value'] = df_reg_fws_suisun['value'] * 1000.  # Convert milli to micro\n",
    "reg_fws_suisun_loc = df_reg_fws_suisun['location'].unique()\n",
    "df_stations_reg_fws_suisun = df_stations[df_stations['ID'].isin(reg_fws_suisun_loc)]\n",
    "# df_stations_reg_fws_suisun"
   ]
  },
  {
   "cell_type": "code",
   "execution_count": 30,
   "metadata": {
    "ExecuteTime": {
     "end_time": "2023-09-19T00:10:36.107920Z",
     "start_time": "2023-09-19T00:10:35.592405Z"
    }
   },
   "outputs": [],
   "source": [
    "df_dmax_fws_suisun = df_dmax[df_dmax['station'].isin(reg_fws_suisun_loc)]"
   ]
  },
  {
   "cell_type": "code",
   "execution_count": 31,
   "metadata": {
    "ExecuteTime": {
     "end_time": "2023-09-19T00:18:01.468575Z",
     "start_time": "2023-09-19T00:17:56.494143Z"
    }
   },
   "outputs": [],
   "source": [
    "# Get the time range from the data set\n",
    "df_reg_fws_suisun_ts = pdmu.generate_regulation_timeseries(df_reg_fws_suisun, df_dmax_fws_suisun, freq='D')\n",
    "df_reg_fws_suisun_ts['variable'] = 'EC-MAX-MEAN'\n",
    "df_reg_fws_suisun_ts['scenario_name'] = 'D1641 FWS Suisun'\n",
    "# df_reg_fws_suisun_ts.hvplot.line()"
   ]
  },
  {
   "cell_type": "code",
   "execution_count": 32,
   "metadata": {
    "ExecuteTime": {
     "end_time": "2023-09-19T00:18:05.043501Z",
     "start_time": "2023-09-19T00:18:01.883907Z"
    },
    "scrolled": false
   },
   "outputs": [
    {
     "data": {
      "application/vnd.jupyter.widget-view+json": {
       "model_id": "e943c55b2d424299bb708f3b802ce4a8",
       "version_major": 2,
       "version_minor": 0
      },
      "text/plain": [
       "VBox(children=(FigureWidget({\n",
       "    'data': [{'line': {'shape': 'hv'},\n",
       "              'name': 'EX_2021_DCR',\n",
       "    …"
      ]
     },
     "metadata": {},
     "output_type": "display_data"
    }
   ],
   "source": [
    "options = {'yaxis_name': 'EC Monthly Mean of Daily Max (mmhos/cm)', \n",
    "           'title': 'EC Monthly Mean of Daily Max for D1641_FWS Suisun Timelines'}\n",
    "pdmn.plot_step_w_regulation(df_dmax_fws_suisun, df_reg_fws_suisun_ts, df_stations_reg_fws_suisun, options)"
   ]
  },
  {
   "cell_type": "code",
   "execution_count": 33,
   "metadata": {
    "ExecuteTime": {
     "end_time": "2023-09-19T00:18:08.305251Z",
     "start_time": "2023-09-19T00:18:05.465299Z"
    },
    "scrolled": false
   },
   "outputs": [
    {
     "data": {
      "application/vnd.jupyter.widget-view+json": {
       "model_id": "593c60d158d24df3bf1c12a77f3feea7",
       "version_major": 2,
       "version_minor": 0
      },
      "text/plain": [
       "VBox(children=(FigureWidget({\n",
       "    'data': [{'name': 'EX_2021_DCR',\n",
       "              'type': 'scatter',\n",
       "          …"
      ]
     },
     "metadata": {},
     "output_type": "display_data"
    }
   ],
   "source": [
    "options = {'yaxis_name': 'Diff in EC scenario-standard (mmhos/cm)', \n",
    "           'title': 'EC Monthly Mean of Daily Max for D1641_FWS Suisun Exceedances'} \n",
    "pdmn.plot_exceedance_w_regulation(df_dmax_fws_suisun, df_reg_fws_suisun_ts, df_stations_reg_fws_suisun, options)"
   ]
  },
  {
   "cell_type": "markdown",
   "metadata": {},
   "source": [
    "D1641-FWS Suisun Stations: monthly average of daily average of two high-tide EC"
   ]
  },
  {
   "cell_type": "code",
   "execution_count": 34,
   "metadata": {
    "ExecuteTime": {
     "end_time": "2023-09-19T00:18:09.780867Z",
     "start_time": "2023-09-19T00:18:09.463574Z"
    }
   },
   "outputs": [],
   "source": [
    "# df_1day = df_ec[df_ec['interval'] == '1DAY']\n",
    "# df_dht = df_1day[df_1day['variable'] == 'EC-HT-MEAN']"
   ]
  },
  {
   "cell_type": "code",
   "execution_count": 35,
   "metadata": {
    "ExecuteTime": {
     "end_time": "2023-09-19T00:18:10.511916Z",
     "start_time": "2023-09-19T00:18:10.200647Z"
    },
    "scrolled": true
   },
   "outputs": [],
   "source": [
    "# df_dht"
   ]
  },
  {
   "cell_type": "code",
   "execution_count": 36,
   "metadata": {
    "ExecuteTime": {
     "end_time": "2023-09-19T00:18:11.255659Z",
     "start_time": "2023-09-19T00:18:10.947624Z"
    }
   },
   "outputs": [],
   "source": [
    "# fpath_d1641_fwss = '../info/D1641_FWS_Standards_Suisun1.csv'\n",
    "# df_reg_fwss = pdmu.read_regulations(fpath_d1641_fwss, df_wyt)\n",
    "# df_reg_fwss['value'] = df_reg_fwss['value'] * 1000.  # Convert milli to micro\n",
    "# df_stations_reg_fwss = df_stations[df_stations['ID'].isin(df_reg_fwss['location'].unique())]\n",
    "# df_stations_reg_fwss"
   ]
  },
  {
   "cell_type": "code",
   "execution_count": 37,
   "metadata": {
    "ExecuteTime": {
     "end_time": "2023-09-19T00:18:11.978844Z",
     "start_time": "2023-09-19T00:18:11.672686Z"
    },
    "scrolled": false
   },
   "outputs": [],
   "source": [
    "# options = {'yaxis_name': 'EC Monthly Mean of Daily Average of High-Tide (mmhos/cm)', 'title': 'D1641 FWS Suisun'}\n",
    "# pdmn.plot_step_w_regulation(df_dht, df_reg_fws_tss, df_stations_reg_fwss, options)"
   ]
  },
  {
   "cell_type": "code",
   "execution_count": 38,
   "metadata": {
    "ExecuteTime": {
     "end_time": "2023-09-19T00:18:12.695565Z",
     "start_time": "2023-09-19T00:18:12.400106Z"
    },
    "scrolled": false
   },
   "outputs": [],
   "source": [
    "# options = {'yaxis_name': 'Diff in EC scenario-standard (mmhos/cm)', 'title': 'EC Monthly Mean of Daily Average of High-Tide'}\n",
    "# pdmn.plot_exceedance_w_regulation(df_dht, df_reg_fws_tss, df_stations_reg_fwss, options)"
   ]
  },
  {
   "cell_type": "markdown",
   "metadata": {},
   "source": [
    "## D1641 Municipal & Industrial standards"
   ]
  },
  {
   "cell_type": "markdown",
   "metadata": {},
   "source": [
    "### D1641_MI Contra Costa: daily mean Chloride 250 mg/L"
   ]
  },
  {
   "cell_type": "code",
   "execution_count": 39,
   "metadata": {
    "ExecuteTime": {
     "end_time": "2023-09-19T00:18:16.808137Z",
     "start_time": "2023-09-19T00:18:15.570756Z"
    }
   },
   "outputs": [],
   "source": [
    "fpath_d1641_mi = '../info/D1641_MI_250.csv'\n",
    "df_reg_mi = pdmu.read_regulations(fpath_d1641_mi, df_wyt2020)\n",
    "reg_mi_loc = df_reg_mi.location.unique()\n",
    "df_stations_reg_mi = df_stations[df_stations['ID'].isin(reg_mi_loc)]\n",
    "# df_stations_reg_mi"
   ]
  },
  {
   "cell_type": "code",
   "execution_count": 40,
   "metadata": {
    "ExecuteTime": {
     "end_time": "2023-09-19T00:18:17.539194Z",
     "start_time": "2023-09-19T00:18:17.229925Z"
    }
   },
   "outputs": [
    {
     "data": {
      "text/plain": [
       "array(['ROLD024', 'CHSWP003', 'CHDMC006', 'SLBAR002', 'SLCCH016'],\n",
       "      dtype=object)"
      ]
     },
     "execution_count": 40,
     "metadata": {},
     "output_type": "execute_result"
    }
   ],
   "source": [
    "reg_mi_loc"
   ]
  },
  {
   "cell_type": "code",
   "execution_count": 41,
   "metadata": {
    "ExecuteTime": {
     "end_time": "2023-09-19T00:18:18.466881Z",
     "start_time": "2023-09-19T00:18:17.954405Z"
    }
   },
   "outputs": [
    {
     "data": {
      "text/plain": [
       "array(['CHDMC006', 'CHSWP003', 'OLD_MID', 'RMKL005', 'ROLD024', 'ROLD034',\n",
       "       'ROLD059', 'RSAC081', 'RSAC092', 'RSAN007', 'RSAN018', 'RSAN032',\n",
       "       'RSAN037', 'RSAN072', 'RSAN112', 'RSMKL008', 'SLBAR002',\n",
       "       'SLCBN002', 'SLCCH016', 'SLMZU011', 'SLMZU025', 'SLSUS012'],\n",
       "      dtype=object)"
      ]
     },
     "execution_count": 41,
     "metadata": {},
     "output_type": "execute_result"
    }
   ],
   "source": [
    "df_davg.station.unique()"
   ]
  },
  {
   "cell_type": "code",
   "execution_count": 42,
   "metadata": {
    "ExecuteTime": {
     "end_time": "2023-09-19T00:18:19.317592Z",
     "start_time": "2023-09-19T00:18:18.887385Z"
    },
    "scrolled": true
   },
   "outputs": [],
   "source": [
    "df_davg_mi = df_davg[df_davg['station'].isin(reg_mi_loc)]"
   ]
  },
  {
   "cell_type": "code",
   "execution_count": 43,
   "metadata": {
    "ExecuteTime": {
     "end_time": "2023-09-19T00:18:27.544342Z",
     "start_time": "2023-09-19T00:18:19.739914Z"
    },
    "scrolled": true
   },
   "outputs": [
    {
     "name": "stderr",
     "output_type": "stream",
     "text": [
      "D:\\testDSM2_Planning_2023\\delta\\DSM2_v822plan\\pydelmod_plan\\lib\\site-packages\\ipykernel_launcher.py:2: SettingWithCopyWarning:\n",
      "\n",
      "\n",
      "A value is trying to be set on a copy of a slice from a DataFrame.\n",
      "Try using .loc[row_indexer,col_indexer] = value instead\n",
      "\n",
      "See the caveats in the documentation: http://pandas.pydata.org/pandas-docs/stable/user_guide/indexing.html#returning-a-view-versus-a-copy\n",
      "\n",
      "D:\\testDSM2_Planning_2023\\delta\\DSM2_v822plan\\pydelmod_plan\\lib\\site-packages\\ipykernel_launcher.py:3: SettingWithCopyWarning:\n",
      "\n",
      "\n",
      "A value is trying to be set on a copy of a slice from a DataFrame.\n",
      "Try using .loc[row_indexer,col_indexer] = value instead\n",
      "\n",
      "See the caveats in the documentation: http://pandas.pydata.org/pandas-docs/stable/user_guide/indexing.html#returning-a-view-versus-a-copy\n",
      "\n"
     ]
    }
   ],
   "source": [
    "df_davg_cl = df_davg_mi\n",
    "df_davg_cl['value'] = df_davg_cl.apply(lambda x: max(x['value']*0.15-12.,x['value']*0.285-50),axis=1)\n",
    "df_davg_cl['variable'] = 'Chloride-MEAN'\n",
    "# df_davg_cl"
   ]
  },
  {
   "cell_type": "code",
   "execution_count": 44,
   "metadata": {
    "ExecuteTime": {
     "end_time": "2023-09-19T00:18:29.846970Z",
     "start_time": "2023-09-19T00:18:27.996235Z"
    }
   },
   "outputs": [],
   "source": [
    "# Get the time range from the data set\n",
    "df_reg_mi_ts = pdmu.generate_regulation_timeseries(df_reg_mi, df_davg_mi, freq='D')\n",
    "df_reg_mi_ts['variable'] = 'Chloride-MEAN'\n",
    "df_reg_mi_ts['scenario_name'] = 'D1641 MI 250'\n",
    "# df_reg_mi_ts"
   ]
  },
  {
   "cell_type": "code",
   "execution_count": 45,
   "metadata": {
    "ExecuteTime": {
     "end_time": "2023-09-19T00:18:35.167041Z",
     "start_time": "2023-09-19T00:18:30.285138Z"
    }
   },
   "outputs": [
    {
     "data": {
      "application/vnd.jupyter.widget-view+json": {
       "model_id": "f90030d4fec0431b8f63a59d38608845",
       "version_major": 2,
       "version_minor": 0
      },
      "text/plain": [
       "VBox(children=(FigureWidget({\n",
       "    'data': [{'line': {'shape': 'hv'},\n",
       "              'name': 'EX_2021_DCR',\n",
       "    …"
      ]
     },
     "metadata": {},
     "output_type": "display_data"
    }
   ],
   "source": [
    "options = {'yaxis_name': 'Chloride Daily (mg/L)', \n",
    "           'title': 'Chloride Daily for D1641 MI 250 Timelines'}\n",
    "pdmn.plot_step_w_regulation(df_davg_cl, df_reg_mi_ts, df_stations_reg_mi, options)"
   ]
  },
  {
   "cell_type": "code",
   "execution_count": 46,
   "metadata": {
    "ExecuteTime": {
     "end_time": "2023-09-19T00:18:38.412520Z",
     "start_time": "2023-09-19T00:18:35.634058Z"
    },
    "scrolled": false
   },
   "outputs": [
    {
     "data": {
      "application/vnd.jupyter.widget-view+json": {
       "model_id": "2bdecd29159747b087f9076bca4825cd",
       "version_major": 2,
       "version_minor": 0
      },
      "text/plain": [
       "VBox(children=(FigureWidget({\n",
       "    'data': [{'name': 'EX_2021_DCR',\n",
       "              'type': 'scatter',\n",
       "          …"
      ]
     },
     "metadata": {},
     "output_type": "display_data"
    }
   ],
   "source": [
    "options = {'yaxis_name': 'Chloride Daily -standard (mg/L)', \n",
    "           'title': 'Chloride Daily for D1641 MI 250 Exceedances'}\n",
    "pdmn.plot_exceedance_w_regulation(df_davg_cl, df_reg_mi_ts, df_stations_reg_mi, options)"
   ]
  },
  {
   "cell_type": "markdown",
   "metadata": {},
   "source": [
    "### D1641_MI Contra Costa: daily mean Chloride 150 mg/L"
   ]
  },
  {
   "cell_type": "code",
   "execution_count": 47,
   "metadata": {
    "ExecuteTime": {
     "end_time": "2023-09-19T00:18:50.882934Z",
     "start_time": "2023-09-19T00:18:50.345672Z"
    },
    "scrolled": true
   },
   "outputs": [],
   "source": [
    "fpath_d1641_mi2 = '../info/D1641_MI_150.csv'\n",
    "df_reg_mi2 = pdmu.read_regulations(fpath_d1641_mi2, df_wyt2020)\n",
    "reg_mi_loc2 = df_reg_mi2.location.unique()\n",
    "df_stations_reg_mi2 = df_stations[df_stations['ID'].isin(reg_mi_loc2)]\n",
    "# df_stations_reg_mi2"
   ]
  },
  {
   "cell_type": "code",
   "execution_count": 48,
   "metadata": {
    "ExecuteTime": {
     "end_time": "2023-09-19T00:18:51.762832Z",
     "start_time": "2023-09-19T00:18:51.348061Z"
    }
   },
   "outputs": [],
   "source": [
    "df_davg_mi2 = df_davg[df_davg['station'].isin(reg_mi_loc2)]"
   ]
  },
  {
   "cell_type": "code",
   "execution_count": 49,
   "metadata": {
    "ExecuteTime": {
     "end_time": "2023-09-19T00:18:52.805617Z",
     "start_time": "2023-09-19T00:18:52.228462Z"
    },
    "scrolled": false
   },
   "outputs": [],
   "source": [
    "# Get the time range from the data set\n",
    "df_reg_mi_ts2 = pdmu.generate_regulation_timeseries(df_reg_mi2, df_davg_mi2, freq='D')\n",
    "df_reg_mi_ts2['variable'] = 'Chloride-MEAN'\n",
    "df_reg_mi_ts2['scenario_name'] = 'D1641 MI 150'\n",
    "# df_reg_mi_ts2"
   ]
  },
  {
   "cell_type": "code",
   "execution_count": 50,
   "metadata": {
    "ExecuteTime": {
     "end_time": "2023-09-19T00:18:56.343587Z",
     "start_time": "2023-09-19T00:18:53.251619Z"
    },
    "scrolled": false
   },
   "outputs": [
    {
     "name": "stderr",
     "output_type": "stream",
     "text": [
      "D:\\testDSM2_Planning_2023\\delta\\DSM2_v822plan\\pydelmod_plan\\lib\\site-packages\\ipykernel_launcher.py:2: SettingWithCopyWarning:\n",
      "\n",
      "\n",
      "A value is trying to be set on a copy of a slice from a DataFrame.\n",
      "Try using .loc[row_indexer,col_indexer] = value instead\n",
      "\n",
      "See the caveats in the documentation: http://pandas.pydata.org/pandas-docs/stable/user_guide/indexing.html#returning-a-view-versus-a-copy\n",
      "\n",
      "D:\\testDSM2_Planning_2023\\delta\\DSM2_v822plan\\pydelmod_plan\\lib\\site-packages\\ipykernel_launcher.py:3: SettingWithCopyWarning:\n",
      "\n",
      "\n",
      "A value is trying to be set on a copy of a slice from a DataFrame.\n",
      "Try using .loc[row_indexer,col_indexer] = value instead\n",
      "\n",
      "See the caveats in the documentation: http://pandas.pydata.org/pandas-docs/stable/user_guide/indexing.html#returning-a-view-versus-a-copy\n",
      "\n",
      "D:\\testDSM2_Planning_2023\\delta\\DSM2_v822plan\\pydelmod_plan\\lib\\site-packages\\ipykernel_launcher.py:4: SettingWithCopyWarning:\n",
      "\n",
      "\n",
      "A value is trying to be set on a copy of a slice from a DataFrame.\n",
      "Try using .loc[row_indexer,col_indexer] = value instead\n",
      "\n",
      "See the caveats in the documentation: http://pandas.pydata.org/pandas-docs/stable/user_guide/indexing.html#returning-a-view-versus-a-copy\n",
      "\n"
     ]
    }
   ],
   "source": [
    "df_davg_cl2 = df_davg_mi2\n",
    "df_davg_cl2['value'] = df_davg_cl2.apply(lambda x: max(x['value']*0.15-12.,x['value']*0.285-50),axis=1)\n",
    "df_davg_cl2['cl_minus_reg'] = df_davg_cl2.apply(lambda x: x['value'] - 150, axis=1)\n",
    "df_davg_cl2['cl_meet'] = df_davg_cl2['cl_minus_reg'].map(lambda x: x <= 0)\n",
    "# df_davg_cl2"
   ]
  },
  {
   "cell_type": "code",
   "execution_count": 51,
   "metadata": {
    "ExecuteTime": {
     "end_time": "2023-09-19T00:18:57.105381Z",
     "start_time": "2023-09-19T00:18:56.795121Z"
    }
   },
   "outputs": [],
   "source": [
    "# Define an aggregation function to count days when the regulation is met.\n",
    "# According to D1641:\n",
    "# Maximum mean daily 150 mg/l Cl−for at least the number of days shown\n",
    "# during the Calendar Year.\n",
    "# Must be provided in intervals of not less than two weeks duration.\n",
    "def sum_only_more_than_14days(series):\n",
    "    total = 0\n",
    "    cumsum = 0\n",
    "    for x in series:\n",
    "        if x:\n",
    "            cumsum += 1\n",
    "        else:\n",
    "            if cumsum >= 14:\n",
    "                total += cumsum\n",
    "            cumsum = 0\n",
    "    if cumsum >= 14:\n",
    "        total += cumsum\n",
    "    return total"
   ]
  },
  {
   "cell_type": "code",
   "execution_count": 52,
   "metadata": {
    "ExecuteTime": {
     "end_time": "2023-09-19T00:18:57.912450Z",
     "start_time": "2023-09-19T00:18:57.558055Z"
    },
    "scrolled": false
   },
   "outputs": [],
   "source": [
    "df_davg_cl2pl = df_davg_cl2.groupby(['scenario_name', 'year'])['cl_meet'].agg(sum_only_more_than_14days).to_frame()\n",
    "df_davg_cl2pl['n_records'] = df_davg_cl2.groupby(['scenario_name', 'year'])['year'].count()\n",
    "df_davg_cl2pl.reset_index(inplace=True)\n",
    "import calendar\n",
    "df_davg_cl2pl['days_in_year'] = df_davg_cl2pl['year'].map(lambda x: 366 if calendar.isleap(x) else 365)\n",
    "df_davg_cl2pl = df_davg_cl2pl[df_davg_cl2pl['n_records'] == df_davg_cl2pl['days_in_year']]\n",
    "df_davg_cl2pl['time'] = df_davg_cl2pl['year']\n",
    "df_davg_cl2pl.time = pd.to_datetime(df_davg_cl2pl.time, format='%Y')\n",
    "df_davg_cl2pl['value'] = df_davg_cl2pl['cl_meet']\n",
    "df_davg_cl2pl['station'] = 'ROLD024'\n",
    "df_davg_cl2pl['variable'] = 'Chloride-MEAN'\n",
    "df_davg_cl2pl = df_davg_cl2pl.merge(df_davg_cl2[[\"time\",\"scenario_name\",\"sac_yrtype\"]], on=[\"time\",\"scenario_name\"], how=\"left\")\n",
    "# df_davg_cl2pl"
   ]
  },
  {
   "cell_type": "markdown",
   "metadata": {},
   "source": [
    "Calendar year 1923-2014, only 92years applicable"
   ]
  },
  {
   "cell_type": "code",
   "execution_count": 53,
   "metadata": {
    "ExecuteTime": {
     "end_time": "2023-09-19T00:19:00.050536Z",
     "start_time": "2023-09-19T00:18:58.375064Z"
    }
   },
   "outputs": [
    {
     "data": {
      "application/vnd.jupyter.widget-view+json": {
       "model_id": "140820d12e7a448f8121fb368c44beae",
       "version_major": 2,
       "version_minor": 0
      },
      "text/plain": [
       "VBox(children=(FigureWidget({\n",
       "    'data': [{'line': {'shape': 'hv'},\n",
       "              'name': 'EX_2021_DCR',\n",
       "    …"
      ]
     },
     "metadata": {},
     "output_type": "display_data"
    }
   ],
   "source": [
    "options = {'yaxis_name': 'Number of days in year under regulation (day)', \n",
    "           'title': 'Yearly number of days for D1641 MI 150 Timelines'}\n",
    "pdmn.plot_step_w_regulation(df_davg_cl2pl, df_reg_mi_ts2, df_stations_reg_mi2, options)"
   ]
  },
  {
   "cell_type": "code",
   "execution_count": 54,
   "metadata": {
    "ExecuteTime": {
     "end_time": "2023-09-19T00:19:01.469920Z",
     "start_time": "2023-09-19T00:19:00.521075Z"
    },
    "scrolled": false
   },
   "outputs": [
    {
     "data": {
      "application/vnd.jupyter.widget-view+json": {
       "model_id": "42e251a490994fe89332bc8255d1aef5",
       "version_major": 2,
       "version_minor": 0
      },
      "text/plain": [
       "VBox(children=(FigureWidget({\n",
       "    'data': [{'name': 'EX_2021_DCR',\n",
       "              'type': 'scatter',\n",
       "          …"
      ]
     },
     "metadata": {},
     "output_type": "display_data"
    }
   ],
   "source": [
    "options = {'yaxis_name': 'Number of days under regulation - standard (day)', \n",
    "           'title': 'Yearly number of days for D1641 MI 150 Exceedances'}\n",
    "pdmn.plot_exceedance_w_regulation(df_davg_cl2pl, df_reg_mi_ts2, df_stations_reg_mi2, options)"
   ]
  },
  {
   "cell_type": "code",
   "execution_count": null,
   "metadata": {},
   "outputs": [],
   "source": []
  }
 ],
 "metadata": {
  "kernelspec": {
   "display_name": "Python 3",
   "language": "python",
   "name": "python3"
  },
  "language_info": {
   "codemirror_mode": {
    "name": "ipython",
    "version": 3
   },
   "file_extension": ".py",
   "mimetype": "text/x-python",
   "name": "python",
   "nbconvert_exporter": "python",
   "pygments_lexer": "ipython3",
   "version": "3.7.6"
  },
  "varInspector": {
   "cols": {
    "lenName": 16,
    "lenType": 16,
    "lenVar": 40
   },
   "kernels_config": {
    "python": {
     "delete_cmd_postfix": "",
     "delete_cmd_prefix": "del ",
     "library": "var_list.py",
     "varRefreshCmd": "print(var_dic_list())"
    },
    "r": {
     "delete_cmd_postfix": ") ",
     "delete_cmd_prefix": "rm(",
     "library": "var_list.r",
     "varRefreshCmd": "cat(var_dic_list()) "
    }
   },
   "types_to_exclude": [
    "module",
    "function",
    "builtin_function_or_method",
    "instance",
    "_Feature"
   ],
   "window_display": false
  }
 },
 "nbformat": 4,
 "nbformat_minor": 2
}
