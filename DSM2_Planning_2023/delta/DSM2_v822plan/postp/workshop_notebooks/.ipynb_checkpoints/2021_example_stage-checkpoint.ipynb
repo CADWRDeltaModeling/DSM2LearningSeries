{
 "cells": [
  {
   "cell_type": "markdown",
   "metadata": {},
   "source": [
    "# Jupyter Notebook to analyze DCR Stage data\n",
    "\n",
    "2023-9\n",
    "\n",
    "This notebook is used to visualize Stage outputs for DSM2 planning studies.\n",
    "\n",
    "The input files are post-processd (daily/monthly) DSS files."
   ]
  },
  {
   "cell_type": "code",
   "execution_count": 2,
   "metadata": {
    "ExecuteTime": {
     "end_time": "2023-09-22T23:34:26.960098Z",
     "start_time": "2023-09-22T23:34:26.907330Z"
    }
   },
   "outputs": [],
   "source": [
    "%load_ext autoreload\n",
    "%autoreload 2"
   ]
  },
  {
   "cell_type": "code",
   "execution_count": 3,
   "metadata": {
    "ExecuteTime": {
     "end_time": "2023-09-22T23:34:28.576486Z",
     "start_time": "2023-09-22T23:34:26.962089Z"
    }
   },
   "outputs": [],
   "source": [
    "# Import modules\n",
    "import pandas as pd\n",
    "# import plotly.offline as py\n",
    "# py.init_notebook_mode(connected=True)\n",
    "import pydelmod.utilities as pdmu\n",
    "import pydelmod.nbplot as pdmn"
   ]
  },
  {
   "cell_type": "code",
   "execution_count": 4,
   "metadata": {
    "ExecuteTime": {
     "end_time": "2023-09-22T23:34:28.717859Z",
     "start_time": "2023-09-22T23:34:28.578478Z"
    }
   },
   "outputs": [],
   "source": [
    "# Read output locations\n",
    "fpath_output_locations = \"../info/DSM2_ec_loc.csv\"\n",
    "df_stations = pd.read_csv(fpath_output_locations, comment='#')\n",
    "df_stations['ID'] = [x.upper() for x in df_stations['ID']]\n",
    "station_ids = df_stations['ID'].values\n",
    "stations_to_read = df_stations['ID'].values"
   ]
  },
  {
   "cell_type": "markdown",
   "metadata": {},
   "source": [
    "# Build Dataframe for All the Analyzed Data\n",
    "\n",
    "Only one scenario's Water Year Types (WYT) are used among all scenarios;\n",
    "\n",
    "i.e. users need to confirm all scenarios share the same WYT; otherwise, WYT tabs are not suggest to use\n",
    "\n",
    "Note: different climate change scenarios could have different Water Year types"
   ]
  },
  {
   "cell_type": "code",
   "execution_count": 5,
   "metadata": {
    "ExecuteTime": {
     "end_time": "2023-09-22T23:34:53.524749Z",
     "start_time": "2023-09-22T23:34:28.719851Z"
    }
   },
   "outputs": [],
   "source": [
    "# Read in scenarios\n",
    "dir_plan = 'd:/DSM2_Planning_2023/delta/DSM2_v822plan/studies_planning/'\n",
    "dir2021base = dir_plan+'baseline/'\n",
    "dir2040alt = dir_plan+'alternative/'\n",
    "\n",
    "scenarios = [\n",
    "            {'name': 'baseline',        'fpath': dir2021base+\"output/2021ex_STAGE_p.dss\"},\n",
    "            {'name': 'alternative',     'fpath': dir2040alt+\"output/2040alt_STAGE_p.dss\"}\n",
    "]\n",
    "\n",
    "# Add a wateryear type column\n",
    "wyt_c3f2020 = dir_plan+\"baseline/timeseries/CALSIM/calsim_2021ex.DSS\"\n",
    "df_wyt2020 = pdmu.read_calsim3_wateryear_types(wyt_c3f2020)\n",
    "\n",
    "period93 = ['1922-10-1','2015-9-30']"
   ]
  },
  {
   "cell_type": "markdown",
   "metadata": {},
   "source": [
    "# Stage Daily Mean"
   ]
  },
  {
   "cell_type": "code",
   "execution_count": 6,
   "metadata": {
    "ExecuteTime": {
     "end_time": "2023-09-22T23:35:30.756972Z",
     "start_time": "2023-09-22T23:34:53.526740Z"
    }
   },
   "outputs": [],
   "source": [
    "df_davg = pdmu.prep_df(scenarios,stations_to_read,['STAGE-MEAN'],['1DAY'],df_wyt2020,period93)"
   ]
  },
  {
   "cell_type": "code",
   "execution_count": 7,
   "metadata": {
    "ExecuteTime": {
     "end_time": "2023-09-22T23:35:38.016394Z",
     "start_time": "2023-09-22T23:35:30.758964Z"
    },
    "scrolled": false
   },
   "outputs": [
    {
     "data": {
      "application/vnd.jupyter.widget-view+json": {
       "model_id": "48b05b7b815347959efff21018e255ad",
       "version_major": 2,
       "version_minor": 0
      },
      "text/plain": [
       "VBox(children=(FigureWidget({\n",
       "    'data': [{'line': {'shape': 'hv'},\n",
       "              'name': 'baseline',\n",
       "       …"
      ]
     },
     "metadata": {},
     "output_type": "display_data"
    }
   ],
   "source": [
    "options = {'yaxis_name': 'Daily Mean Stage (ft)', 'title': 'Stage Daily Mean Timelines'}\n",
    "pdmn.plot_step_w_variable_station_filters(df_davg, df_stations, options)"
   ]
  },
  {
   "cell_type": "code",
   "execution_count": 8,
   "metadata": {
    "ExecuteTime": {
     "end_time": "2023-09-22T23:35:39.662173Z",
     "start_time": "2023-09-22T23:35:38.018386Z"
    },
    "scrolled": false
   },
   "outputs": [
    {
     "data": {
      "application/vnd.jupyter.widget-view+json": {
       "model_id": "c2f02add4f004f6ca401581486cfdcdf",
       "version_major": 2,
       "version_minor": 0
      },
      "text/plain": [
       "VBox(children=(FigureWidget({\n",
       "    'data': [{'name': 'baseline',\n",
       "              'type': 'bar',\n",
       "              'ui…"
      ]
     },
     "metadata": {},
     "output_type": "display_data"
    }
   ],
   "source": [
    "options = {'yaxis_name': 'Daily Mean Stage (ft)', 'title': 'Stage Monthly Barcharts of Daily Mean'}\n",
    "pdmn.plot_bar_monthly_w_controls(df_davg, df_stations, options)"
   ]
  },
  {
   "cell_type": "code",
   "execution_count": 9,
   "metadata": {
    "ExecuteTime": {
     "end_time": "2023-09-22T23:35:41.451138Z",
     "start_time": "2023-09-22T23:35:39.665159Z"
    },
    "scrolled": false
   },
   "outputs": [
    {
     "data": {
      "application/vnd.jupyter.widget-view+json": {
       "model_id": "0a0fc20b95f84a0d8189b1d0b2ef9e1a",
       "version_major": 2,
       "version_minor": 0
      },
      "text/plain": [
       "VBox(children=(FigureWidget({\n",
       "    'data': [{'name': 'baseline',\n",
       "              'type': 'scatter',\n",
       "             …"
      ]
     },
     "metadata": {},
     "output_type": "display_data"
    }
   ],
   "source": [
    "options = {'yaxis_name': 'Daily Min Stage (ft)', 'title': 'Stage Daily Mean Exceedances'}\n",
    "pdmn.plot_exceedance_w_variable_station_filters(df_davg, df_stations, options)"
   ]
  },
  {
   "cell_type": "code",
   "execution_count": 10,
   "metadata": {
    "ExecuteTime": {
     "end_time": "2023-09-22T23:35:43.292193Z",
     "start_time": "2023-09-22T23:35:41.453129Z"
    },
    "scrolled": false
   },
   "outputs": [
    {
     "data": {
      "application/vnd.jupyter.widget-view+json": {
       "model_id": "3a95ed35b09c4cf0a1c977fc5583c146",
       "version_major": 2,
       "version_minor": 0
      },
      "text/plain": [
       "VBox(children=(FigureWidget({\n",
       "    'data': [{'name': 'baseline',\n",
       "              'type': 'box',\n",
       "              'ui…"
      ]
     },
     "metadata": {},
     "output_type": "display_data"
    }
   ],
   "source": [
    "options = {'xaxis_name': 'Daily Min Stage (ft)', 'title': 'Stage Daily Mean Box-Whiskers'}\n",
    "pdmn.plot_box_w_variable_station_filters(df_davg, df_stations, options)"
   ]
  },
  {
   "cell_type": "markdown",
   "metadata": {},
   "source": [
    "### Stage Daily Mean Diff"
   ]
  },
  {
   "cell_type": "code",
   "execution_count": 11,
   "metadata": {
    "ExecuteTime": {
     "end_time": "2023-09-22T23:35:43.653804Z",
     "start_time": "2023-09-22T23:35:43.294184Z"
    }
   },
   "outputs": [],
   "source": [
    "# df_stage1 = df_davg[df_davg['scenario_name']=='EX_2020']\n",
    "# df_stage2 = df_davg[df_davg['scenario_name']=='PA6K_2020']\n",
    "# df_stage_dff = df_stage1\n",
    "# df_stage_dff['scenario_name'] = 'PA6K-EX_2020'\n",
    "# df_stage_dff['value'] = df_stage2['value'] - df_stage1['value']\n",
    "# # df_stage_dff"
   ]
  },
  {
   "cell_type": "code",
   "execution_count": 12,
   "metadata": {
    "ExecuteTime": {
     "end_time": "2023-09-22T23:35:43.996264Z",
     "start_time": "2023-09-22T23:35:43.655588Z"
    },
    "scrolled": false
   },
   "outputs": [],
   "source": [
    "# options = {'yaxis_name': 'Daily Min Stage Difference (ft)', 'title': 'Stage Daily Min Difference Timelines'}\n",
    "# pdmn.plot_step_w_variable_station_filters(df_stage_dff, df_stations, options)"
   ]
  },
  {
   "cell_type": "code",
   "execution_count": 13,
   "metadata": {
    "ExecuteTime": {
     "end_time": "2023-09-22T23:35:44.321401Z",
     "start_time": "2023-09-22T23:35:43.998253Z"
    }
   },
   "outputs": [],
   "source": [
    "# options = {'yaxis_name': 'Daily Mean Stage Difference (ft)', 'title': 'Stage Monthly Barcharts of Daily Mean Difference'}\n",
    "# pdmn.plot_bar_monthly_w_controls(df_stage_dff, df_stations, options)"
   ]
  },
  {
   "cell_type": "code",
   "execution_count": 14,
   "metadata": {
    "ExecuteTime": {
     "end_time": "2023-09-22T23:35:44.652538Z",
     "start_time": "2023-09-22T23:35:44.323391Z"
    }
   },
   "outputs": [],
   "source": [
    "# options = {'yaxis_name': 'Daily Mean Stage Difference (cfs)', 'title': 'Stage Daily Mean Difference Exceedances'}\n",
    "# pdmn.plot_exceedance_w_variable_station_filters(df_stage_dff, df_stations, options)"
   ]
  },
  {
   "cell_type": "code",
   "execution_count": 15,
   "metadata": {
    "ExecuteTime": {
     "end_time": "2023-09-22T23:35:44.976114Z",
     "start_time": "2023-09-22T23:35:44.654529Z"
    }
   },
   "outputs": [],
   "source": [
    "# options = {'xaxis_name': 'Daily Mean Stage Difference (ft)', 'title': 'Stage Daily Mean Difference Box-Whiskers'}\n",
    "# pdmn.plot_box_w_variable_station_filters(df_stage_dff, df_stations, options)"
   ]
  },
  {
   "cell_type": "markdown",
   "metadata": {},
   "source": [
    "# Stage Daily Min"
   ]
  },
  {
   "cell_type": "code",
   "execution_count": 16,
   "metadata": {
    "ExecuteTime": {
     "end_time": "2023-09-22T23:36:23.378502Z",
     "start_time": "2023-09-22T23:35:44.978105Z"
    }
   },
   "outputs": [],
   "source": [
    "df_dmin = pdmu.prep_df(scenarios,stations_to_read,['STAGE-MIN'],['1DAY'],df_wyt2020,period93)"
   ]
  },
  {
   "cell_type": "code",
   "execution_count": 17,
   "metadata": {
    "ExecuteTime": {
     "end_time": "2023-09-22T23:36:27.020861Z",
     "start_time": "2023-09-22T23:36:23.380494Z"
    },
    "scrolled": false
   },
   "outputs": [
    {
     "data": {
      "application/vnd.jupyter.widget-view+json": {
       "model_id": "59e61e2dc858454b924bf05428639779",
       "version_major": 2,
       "version_minor": 0
      },
      "text/plain": [
       "VBox(children=(FigureWidget({\n",
       "    'data': [{'line': {'shape': 'hv'},\n",
       "              'name': 'baseline',\n",
       "       …"
      ]
     },
     "metadata": {},
     "output_type": "display_data"
    }
   ],
   "source": [
    "options = {'yaxis_name': 'Daily Min Stage (ft)', 'title': 'Stage Daily Min Timelines'}\n",
    "pdmn.plot_step_w_variable_station_filters(df_dmin, df_stations, options)"
   ]
  },
  {
   "cell_type": "code",
   "execution_count": 18,
   "metadata": {
    "ExecuteTime": {
     "end_time": "2023-09-22T23:36:28.778544Z",
     "start_time": "2023-09-22T23:36:27.022853Z"
    },
    "scrolled": false
   },
   "outputs": [
    {
     "data": {
      "application/vnd.jupyter.widget-view+json": {
       "model_id": "e6280031ad624cbfbaeaec167a233f30",
       "version_major": 2,
       "version_minor": 0
      },
      "text/plain": [
       "VBox(children=(FigureWidget({\n",
       "    'data': [{'name': 'baseline',\n",
       "              'type': 'bar',\n",
       "              'ui…"
      ]
     },
     "metadata": {},
     "output_type": "display_data"
    }
   ],
   "source": [
    "options = {'yaxis_name': 'Daily Min Stage (ft)', 'title': 'Stage Monthly Barcharts of Daily Min'}\n",
    "pdmn.plot_bar_monthly_w_controls(df_dmin, df_stations, options)"
   ]
  },
  {
   "cell_type": "code",
   "execution_count": 19,
   "metadata": {
    "ExecuteTime": {
     "end_time": "2023-09-22T23:36:30.660823Z",
     "start_time": "2023-09-22T23:36:28.780535Z"
    },
    "scrolled": false
   },
   "outputs": [
    {
     "data": {
      "application/vnd.jupyter.widget-view+json": {
       "model_id": "dcabc36455124560b8d3b26d16676b77",
       "version_major": 2,
       "version_minor": 0
      },
      "text/plain": [
       "VBox(children=(FigureWidget({\n",
       "    'data': [{'name': 'baseline',\n",
       "              'type': 'scatter',\n",
       "             …"
      ]
     },
     "metadata": {},
     "output_type": "display_data"
    }
   ],
   "source": [
    "options = {'yaxis_name': 'Daily Min Stage (ft)', 'title': 'Stage Daily Min Exceedances'}\n",
    "pdmn.plot_exceedance_w_variable_station_filters(df_dmin, df_stations, options)"
   ]
  },
  {
   "cell_type": "code",
   "execution_count": 20,
   "metadata": {
    "ExecuteTime": {
     "end_time": "2023-09-22T23:36:32.558336Z",
     "start_time": "2023-09-22T23:36:30.661819Z"
    },
    "scrolled": false
   },
   "outputs": [
    {
     "data": {
      "application/vnd.jupyter.widget-view+json": {
       "model_id": "816db28fa00b4f2a8c1af8b7c9b3e777",
       "version_major": 2,
       "version_minor": 0
      },
      "text/plain": [
       "VBox(children=(FigureWidget({\n",
       "    'data': [{'name': 'baseline',\n",
       "              'type': 'box',\n",
       "              'ui…"
      ]
     },
     "metadata": {},
     "output_type": "display_data"
    }
   ],
   "source": [
    "options = {'xaxis_name': 'Daily Min Stage (ft)', 'title': 'Stage Daily Min Box-Whiskers'}\n",
    "pdmn.plot_box_w_variable_station_filters(df_dmin, df_stations, options)"
   ]
  }
 ],
 "metadata": {
  "kernelspec": {
   "display_name": "Python 3",
   "language": "python",
   "name": "python3"
  },
  "language_info": {
   "codemirror_mode": {
    "name": "ipython",
    "version": 3
   },
   "file_extension": ".py",
   "mimetype": "text/x-python",
   "name": "python",
   "nbconvert_exporter": "python",
   "pygments_lexer": "ipython3",
   "version": "3.7.6"
  },
  "varInspector": {
   "cols": {
    "lenName": 16,
    "lenType": 16,
    "lenVar": 40
   },
   "kernels_config": {
    "python": {
     "delete_cmd_postfix": "",
     "delete_cmd_prefix": "del ",
     "library": "var_list.py",
     "varRefreshCmd": "print(var_dic_list())"
    },
    "r": {
     "delete_cmd_postfix": ") ",
     "delete_cmd_prefix": "rm(",
     "library": "var_list.r",
     "varRefreshCmd": "cat(var_dic_list()) "
    }
   },
   "types_to_exclude": [
    "module",
    "function",
    "builtin_function_or_method",
    "instance",
    "_Feature"
   ],
   "window_display": false
  }
 },
 "nbformat": 4,
 "nbformat_minor": 2
}
