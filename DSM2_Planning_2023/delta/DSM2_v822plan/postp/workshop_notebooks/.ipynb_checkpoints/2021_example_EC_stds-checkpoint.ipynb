{
 "cells": [
  {
   "cell_type": "markdown",
   "metadata": {},
   "source": [
    "# Jupyter Notebook to Analyze EC Standards\n",
    "\n",
    "2023-9\n",
    "\n",
    "This notebook is used to compare EC outputs to EC standards for DSM2 planning studies.\n",
    "\n",
    "The input files are post-processd (daily/monthly) DSS files."
   ]
  },
  {
   "cell_type": "code",
   "execution_count": 1,
   "metadata": {
    "ExecuteTime": {
     "end_time": "2023-09-22T23:33:16.185235Z",
     "start_time": "2023-09-22T23:33:16.139436Z"
    }
   },
   "outputs": [],
   "source": [
    "%load_ext autoreload\n",
    "%autoreload 2"
   ]
  },
  {
   "cell_type": "code",
   "execution_count": 2,
   "metadata": {
    "ExecuteTime": {
     "end_time": "2023-09-22T23:33:20.881082Z",
     "start_time": "2023-09-22T23:33:16.188222Z"
    }
   },
   "outputs": [],
   "source": [
    "# Import modules\n",
    "import pandas as pd\n",
    "# import plotly.offline as py\n",
    "# py.init_notebook_mode(connected=True)\n",
    "import pydelmod.utilities as pdmu\n",
    "import pydelmod.nbplot as pdmn"
   ]
  },
  {
   "cell_type": "code",
   "execution_count": 3,
   "metadata": {
    "ExecuteTime": {
     "end_time": "2023-09-22T23:33:21.007524Z",
     "start_time": "2023-09-22T23:33:20.883073Z"
    }
   },
   "outputs": [],
   "source": [
    "# Read output locations\n",
    "fpath_output_locations = \"../info/DSM2_ec_loc_stds.csv\"\n",
    "df_stations = pd.read_csv(fpath_output_locations, comment='#')\n",
    "df_stations['ID'] = [x.upper() for x in df_stations['ID']]\n",
    "station_ids = df_stations['ID'].values\n",
    "stations_to_read = df_stations['ID'].values"
   ]
  },
  {
   "cell_type": "markdown",
   "metadata": {},
   "source": [
    "# Build Dataframe for All the Analyzed Data\n",
    "\n",
    "Only one scenario's Water Year Types (WYT) are used among all scenarios;\n",
    "\n",
    "i.e. users need to confirm all scenarios share the same WYT; otherwise, WYT tabs and calculation are not suggest to use\n",
    "\n",
    "Note: different climate change scenarios could have different Water Year types"
   ]
  },
  {
   "cell_type": "code",
   "execution_count": 4,
   "metadata": {
    "ExecuteTime": {
     "end_time": "2023-09-22T23:33:44.074666Z",
     "start_time": "2023-09-22T23:33:21.009515Z"
    }
   },
   "outputs": [],
   "source": [
    "# Read in scenarios\n",
    "dir_plan = 'd:/DSM2_Planning_2023/delta/DSM2_v822plan/studies_planning/'\n",
    "dir2021base = dir_plan+'baseline/'\n",
    "dir2040alt = dir_plan+'alternative/'\n",
    "\n",
    "scenarios = [\n",
    "            {'name': 'baseline',        'fpath': dir2021base+\"output/2021ex_EC_p.dss\"},\n",
    "            {'name': 'alternative',     'fpath': dir2040alt+\"output/2040alt_EC_p.dss\"}\n",
    "]\n",
    "\n",
    "# Add a wateryear type column\n",
    "wyt_c3f2020 = dir_plan+\"baseline/timeseries/CALSIM/calsim_2021ex.DSS\"\n",
    "df_wyt2020 = pdmu.read_calsim3_wateryear_types(wyt_c3f2020)\n",
    "\n",
    "period93 = ['1922-10-1','2015-9-30']"
   ]
  },
  {
   "cell_type": "code",
   "execution_count": 5,
   "metadata": {
    "ExecuteTime": {
     "end_time": "2023-09-22T23:34:06.013635Z",
     "start_time": "2023-09-22T23:33:44.076657Z"
    }
   },
   "outputs": [],
   "source": [
    "# df_ec = pdmu.prep_df(scenarios,stations_to_read,['EC-MEAN', 'EC-MAX', 'EC-HT-MEAN'],['1DAY', '1MON'],df_wyt2020,period93)\n",
    "df_ec = pdmu.prep_df(scenarios,stations_to_read,['EC-MEAN'],['1DAY'],df_wyt2020,period93)\n",
    "df_1day = df_ec[df_ec['interval'] == '1DAY']\n",
    "df_davg = df_1day[df_1day['variable'] == 'EC-MEAN']"
   ]
  },
  {
   "cell_type": "markdown",
   "metadata": {},
   "source": [
    "## D1641 Agricultural Standards"
   ]
  },
  {
   "cell_type": "markdown",
   "metadata": {},
   "source": [
    "Check D1641 details\n",
    "\n",
    "https://www.waterboards.ca.gov/waterrights/board_decisions/adopted_orders/decisions/d1600_d1649/wrd1641_1999dec29.pdf\n",
    "\n",
    "Page 182-187, Table 2-3"
   ]
  },
  {
   "cell_type": "markdown",
   "metadata": {},
   "source": [
    "### D1641_AG West&Interior Delta: 14-day running average of daily mean EC"
   ]
  },
  {
   "cell_type": "code",
   "execution_count": 6,
   "metadata": {
    "ExecuteTime": {
     "end_time": "2023-09-22T23:34:07.110961Z",
     "start_time": "2023-09-22T23:34:06.015626Z"
    }
   },
   "outputs": [],
   "source": [
    "fpath_d1641_ag = '../info/D1641_AG_wiDelta.csv'\n",
    "df_reg_ag = pdmu.read_regulations(fpath_d1641_ag, df_wyt2020)\n",
    "df_reg_ag['value'] = df_reg_ag['value'] * 1000.  # Convert milli to micro\n",
    "reg_ag_loc = df_reg_ag.location.unique()\n",
    "df_stations_reg_ag = df_stations[df_stations['ID'].isin(reg_ag_loc)]\n",
    "# df_stations_reg_ag"
   ]
  },
  {
   "cell_type": "code",
   "execution_count": 7,
   "metadata": {
    "ExecuteTime": {
     "end_time": "2023-09-22T23:34:07.376946Z",
     "start_time": "2023-09-22T23:34:07.111957Z"
    },
    "scrolled": true
   },
   "outputs": [],
   "source": [
    "# df_1day = df_ec[df_ec['interval'] == '1DAY']\n",
    "# df_davg = df_1day[df_1day['variable'] == 'EC-MEAN']\n",
    "df_davg_ag = df_davg[df_davg['station'].isin(reg_ag_loc)]"
   ]
  },
  {
   "cell_type": "code",
   "execution_count": 8,
   "metadata": {
    "ExecuteTime": {
     "end_time": "2023-09-22T23:34:09.660006Z",
     "start_time": "2023-09-22T23:34:07.378937Z"
    }
   },
   "outputs": [],
   "source": [
    "# Get the time range from the data set\n",
    "df_reg_ag_ts = pdmu.generate_regulation_timeseries(df_reg_ag, df_davg_ag, freq='D')\n",
    "df_reg_ag_ts['variable'] = 'EC-MEAN-14DAY'\n",
    "df_reg_ag_ts['scenario_name'] = 'D1641 AG WI'\n",
    "# df_reg_ag_ts.hvplot.line()"
   ]
  },
  {
   "cell_type": "code",
   "execution_count": 9,
   "metadata": {
    "ExecuteTime": {
     "end_time": "2023-09-22T23:34:17.738882Z",
     "start_time": "2023-09-22T23:34:09.661996Z"
    },
    "scrolled": false
   },
   "outputs": [
    {
     "data": {
      "application/vnd.jupyter.widget-view+json": {
       "model_id": "ca216cd0316f4a988a0bbeba2b9312c1",
       "version_major": 2,
       "version_minor": 0
      },
      "text/plain": [
       "VBox(children=(FigureWidget({\n",
       "    'data': [{'line': {'shape': 'hv'},\n",
       "              'name': 'baseline',\n",
       "       …"
      ]
     },
     "metadata": {},
     "output_type": "display_data"
    }
   ],
   "source": [
    "options = {'yaxis_name': '14-day running average EC (mmhos/cm)', \n",
    "           'title': 'EC 14-Day Mean for D1641_AG West&Interior Delta Timelines'}\n",
    "pdmn.plot_step_w_regulation(df_davg_ag, df_reg_ag_ts, df_stations_reg_ag, options)"
   ]
  },
  {
   "cell_type": "code",
   "execution_count": 10,
   "metadata": {
    "ExecuteTime": {
     "end_time": "2023-09-22T23:34:19.648882Z",
     "start_time": "2023-09-22T23:34:17.740874Z"
    },
    "scrolled": false
   },
   "outputs": [
    {
     "data": {
      "application/vnd.jupyter.widget-view+json": {
       "model_id": "8740e65b9f52443e95111109a49f6dd6",
       "version_major": 2,
       "version_minor": 0
      },
      "text/plain": [
       "VBox(children=(FigureWidget({\n",
       "    'data': [{'name': 'baseline',\n",
       "              'type': 'scatter',\n",
       "             …"
      ]
     },
     "metadata": {},
     "output_type": "display_data"
    }
   ],
   "source": [
    "options = {'yaxis_name': '14-day running average EC - standard (mmhos/cm)', \n",
    "           'title': 'EC 14-Day Mean for D1641_AG West&Interior Delta Exceedances'}\n",
    "pdmn.plot_exceedance_w_regulation(df_davg_ag, df_reg_ag_ts, df_stations_reg_ag, options)"
   ]
  },
  {
   "cell_type": "markdown",
   "metadata": {},
   "source": [
    "### D1641_AG South Delta: 30-day running average of daily mean EC"
   ]
  },
  {
   "cell_type": "code",
   "execution_count": 11,
   "metadata": {
    "ExecuteTime": {
     "end_time": "2023-09-22T23:34:20.958659Z",
     "start_time": "2023-09-22T23:34:19.650874Z"
    }
   },
   "outputs": [],
   "source": [
    "fpath_d1641_ag2 = '../info/D1641_AG_sDelta.csv'\n",
    "df_reg_ag2 = pdmu.read_regulations(fpath_d1641_ag2, df_wyt2020)\n",
    "df_reg_ag2['value'] = df_reg_ag2['value'] * 1000.  # Convert milli to micro\n",
    "reg_ag_loc2 = df_reg_ag2.location.unique()\n",
    "df_stations_reg_ag2 = df_stations[df_stations['ID'].isin(reg_ag_loc2)]\n",
    "# df_stations_reg_ag2"
   ]
  },
  {
   "cell_type": "code",
   "execution_count": 12,
   "metadata": {
    "ExecuteTime": {
     "end_time": "2023-09-22T23:34:21.401846Z",
     "start_time": "2023-09-22T23:34:20.960650Z"
    }
   },
   "outputs": [],
   "source": [
    "df_davg_ag2 = df_davg[df_davg['station'].isin(reg_ag_loc2)]"
   ]
  },
  {
   "cell_type": "code",
   "execution_count": 13,
   "metadata": {
    "ExecuteTime": {
     "end_time": "2023-09-22T23:34:23.779464Z",
     "start_time": "2023-09-22T23:34:21.402842Z"
    }
   },
   "outputs": [],
   "source": [
    "# Get the time range from the data set\n",
    "df_reg_ag_ts2 = pdmu.generate_regulation_timeseries(df_reg_ag2, df_davg_ag2, freq='D')\n",
    "df_reg_ag_ts2['variable'] = 'EC-MEAN-30DAY'\n",
    "df_reg_ag_ts2['scenario_name'] = 'D1641 AG South'\n",
    "# df_reg_ag_ts2.hvplot.line()"
   ]
  },
  {
   "cell_type": "markdown",
   "metadata": {},
   "source": [
    "O&M:\n",
    "\n",
    "start checking on Apr.30, check prev30d-avg; if exceed 700, count 30day, the entire month\n",
    "\n",
    "May.1, if exceed, count 1day\n",
    "\n",
    "notebook:\n",
    "\n",
    "didn't follow the 1st\n",
    "\n",
    "start checking on Apr.1, count days"
   ]
  },
  {
   "cell_type": "code",
   "execution_count": 14,
   "metadata": {
    "ExecuteTime": {
     "end_time": "2023-09-22T23:34:28.312468Z",
     "start_time": "2023-09-22T23:34:23.780461Z"
    }
   },
   "outputs": [
    {
     "data": {
      "application/vnd.jupyter.widget-view+json": {
       "model_id": "3858c745673b4b9d9f5e9ef2632410d4",
       "version_major": 2,
       "version_minor": 0
      },
      "text/plain": [
       "VBox(children=(FigureWidget({\n",
       "    'data': [{'line': {'shape': 'hv'},\n",
       "              'name': 'baseline',\n",
       "       …"
      ]
     },
     "metadata": {},
     "output_type": "display_data"
    }
   ],
   "source": [
    "options = {'yaxis_name': '30-day running average EC (mmhos/cm)', \n",
    "           'title': 'EC 30-Day Mean for D1641_AG South Delta Timelines'}\n",
    "pdmn.plot_step_w_regulation(df_davg_ag2, df_reg_ag_ts2, df_stations_reg_ag2, options)"
   ]
  },
  {
   "cell_type": "code",
   "execution_count": 15,
   "metadata": {
    "ExecuteTime": {
     "end_time": "2023-09-22T23:34:30.561204Z",
     "start_time": "2023-09-22T23:34:28.313464Z"
    },
    "scrolled": false
   },
   "outputs": [
    {
     "data": {
      "application/vnd.jupyter.widget-view+json": {
       "model_id": "e7ffc236402b4c2690900467fa18564b",
       "version_major": 2,
       "version_minor": 0
      },
      "text/plain": [
       "VBox(children=(FigureWidget({\n",
       "    'data': [{'name': 'baseline',\n",
       "              'type': 'scatter',\n",
       "             …"
      ]
     },
     "metadata": {},
     "output_type": "display_data"
    }
   ],
   "source": [
    "options = {'yaxis_name': '30-day running average EC - standard (mmhos/cm)', \n",
    "           'title': 'EC 30-Day Mean for D1641_AG South Delta Exceedances'}\n",
    "pdmn.plot_exceedance_w_regulation(df_davg_ag2, df_reg_ag_ts2, df_stations_reg_ag2, options)"
   ]
  },
  {
   "cell_type": "markdown",
   "metadata": {},
   "source": [
    "### todo, change to monthly"
   ]
  },
  {
   "cell_type": "markdown",
   "metadata": {},
   "source": [
    "### D1641_AG Export Area: monthly average of daily mean EC"
   ]
  },
  {
   "cell_type": "code",
   "execution_count": 16,
   "metadata": {
    "ExecuteTime": {
     "end_time": "2023-09-22T23:34:31.322917Z",
     "start_time": "2023-09-22T23:34:30.562199Z"
    }
   },
   "outputs": [],
   "source": [
    "fpath_d1641_ag3 = '../info/D1641_AG_export.csv'\n",
    "df_reg_ag3 = pdmu.read_regulations(fpath_d1641_ag3, df_wyt2020)\n",
    "df_reg_ag3['value'] = df_reg_ag3['value'] * 1000.  # Convert milli to micro\n",
    "reg_ag_loc3 = df_reg_ag3.location.unique()\n",
    "df_stations_reg_ag3 = df_stations[df_stations['ID'].isin(reg_ag_loc3)]\n",
    "# df_stations_reg_ag3"
   ]
  },
  {
   "cell_type": "code",
   "execution_count": 17,
   "metadata": {
    "ExecuteTime": {
     "end_time": "2023-09-22T23:34:31.760519Z",
     "start_time": "2023-09-22T23:34:31.324909Z"
    }
   },
   "outputs": [],
   "source": [
    "df_davg_ag3 = df_davg[df_davg['station'].isin(reg_ag_loc3)]"
   ]
  },
  {
   "cell_type": "code",
   "execution_count": 18,
   "metadata": {
    "ExecuteTime": {
     "end_time": "2023-09-22T23:34:32.753847Z",
     "start_time": "2023-09-22T23:34:31.762510Z"
    }
   },
   "outputs": [],
   "source": [
    "# Get the time range from the data set\n",
    "df_reg_ag_ts3 = pdmu.generate_regulation_timeseries(df_reg_ag3, df_davg_ag3, freq='D')\n",
    "df_reg_ag_ts3['variable'] = 'EC-MEAN-30DAY'\n",
    "df_reg_ag_ts3['scenario_name'] = 'D1641 AG Export'\n",
    "# df_reg_ag_ts3.hvplot.line()"
   ]
  },
  {
   "cell_type": "code",
   "execution_count": 19,
   "metadata": {
    "ExecuteTime": {
     "end_time": "2023-09-22T23:34:34.864370Z",
     "start_time": "2023-09-22T23:34:32.755838Z"
    }
   },
   "outputs": [
    {
     "data": {
      "application/vnd.jupyter.widget-view+json": {
       "model_id": "cfdbb978c41a410a88472608464525e7",
       "version_major": 2,
       "version_minor": 0
      },
      "text/plain": [
       "VBox(children=(FigureWidget({\n",
       "    'data': [{'line': {'shape': 'hv'},\n",
       "              'name': 'baseline',\n",
       "       …"
      ]
     },
     "metadata": {},
     "output_type": "display_data"
    }
   ],
   "source": [
    "options = {'yaxis_name': 'monthly average EC (mmhos/cm)', \n",
    "           'title': 'EC Monthly Mean for D1641_AG Export Timelines'}\n",
    "pdmn.plot_step_w_regulation(df_davg_ag3, df_reg_ag_ts3, df_stations_reg_ag3, options)"
   ]
  },
  {
   "cell_type": "code",
   "execution_count": 20,
   "metadata": {
    "ExecuteTime": {
     "end_time": "2023-09-22T23:34:37.889257Z",
     "start_time": "2023-09-22T23:34:34.866361Z"
    },
    "scrolled": false
   },
   "outputs": [
    {
     "data": {
      "application/vnd.jupyter.widget-view+json": {
       "model_id": "3b8e353615e84caab69db349596b9654",
       "version_major": 2,
       "version_minor": 0
      },
      "text/plain": [
       "VBox(children=(FigureWidget({\n",
       "    'data': [{'name': 'baseline',\n",
       "              'type': 'scatter',\n",
       "             …"
      ]
     },
     "metadata": {},
     "output_type": "display_data"
    }
   ],
   "source": [
    "options = {'yaxis_name': 'monthly average EC - standard (mmhos/cm)', \n",
    "           'title': 'EC Monthly Mean for D1641_AG Export Exceedances'}\n",
    "pdmn.plot_exceedance_w_regulation(df_davg, df_reg_ag_ts3, df_stations_reg_ag3, options)"
   ]
  },
  {
   "cell_type": "markdown",
   "metadata": {},
   "source": [
    "## D1641 Fish and Wildlife standards"
   ]
  },
  {
   "cell_type": "markdown",
   "metadata": {},
   "source": [
    "### D1641_FWS San Joaquin River: 14-day running average of daily mean EC"
   ]
  },
  {
   "cell_type": "code",
   "execution_count": 21,
   "metadata": {
    "ExecuteTime": {
     "end_time": "2023-09-22T23:34:38.201505Z",
     "start_time": "2023-09-22T23:34:37.891248Z"
    }
   },
   "outputs": [],
   "source": [
    "# df_1day = df_ec[df_ec['interval'] == '1DAY']\n",
    "# df_davg = df_1day[df_1day['variable'] == 'EC-MEAN']"
   ]
  },
  {
   "cell_type": "code",
   "execution_count": 22,
   "metadata": {
    "ExecuteTime": {
     "end_time": "2023-09-22T23:34:38.992960Z",
     "start_time": "2023-09-22T23:34:38.203496Z"
    }
   },
   "outputs": [],
   "source": [
    "fpath_d1641_fws_sjr = '../info/D1641_FWS_SJR.csv'\n",
    "df_reg_fws_sjr = pdmu.read_regulations(fpath_d1641_fws_sjr, df_wyt2020)\n",
    "df_reg_fws_sjr['value'] = df_reg_fws_sjr['value'] * 1000.  # Convert milli to micro\n",
    "reg_fws_sjr_loc = df_reg_fws_sjr.location.unique()\n",
    "df_stations_reg_fws_sjr = df_stations[df_stations['ID'].isin(reg_fws_sjr_loc)]\n",
    "# df_stations_reg_fws_sjr"
   ]
  },
  {
   "cell_type": "code",
   "execution_count": 23,
   "metadata": {
    "ExecuteTime": {
     "end_time": "2023-09-22T23:34:39.409858Z",
     "start_time": "2023-09-22T23:34:38.996943Z"
    }
   },
   "outputs": [],
   "source": [
    "df_davg_fws_sjr = df_davg[df_davg['station'].isin(reg_fws_sjr_loc)]"
   ]
  },
  {
   "cell_type": "code",
   "execution_count": 24,
   "metadata": {
    "ExecuteTime": {
     "end_time": "2023-09-22T23:34:40.906700Z",
     "start_time": "2023-09-22T23:34:39.412845Z"
    }
   },
   "outputs": [],
   "source": [
    "# Get the time range from the data set\n",
    "df_reg_fws_ts_sjr = pdmu.generate_regulation_timeseries(df_reg_fws_sjr, df_davg_fws_sjr, freq='D')\n",
    "df_reg_fws_ts_sjr['variable'] = 'EC-MEAN-14DAY'\n",
    "df_reg_fws_ts_sjr['scenario_name'] = 'D1641 FWS SJR'\n",
    "# df_reg_fws_ts_sjr.hvplot.line()"
   ]
  },
  {
   "cell_type": "code",
   "execution_count": 25,
   "metadata": {
    "ExecuteTime": {
     "end_time": "2023-09-22T23:34:44.846222Z",
     "start_time": "2023-09-22T23:34:40.908691Z"
    },
    "scrolled": false
   },
   "outputs": [
    {
     "data": {
      "application/vnd.jupyter.widget-view+json": {
       "model_id": "e6a635ef07dd426192c4745d2f499586",
       "version_major": 2,
       "version_minor": 0
      },
      "text/plain": [
       "VBox(children=(FigureWidget({\n",
       "    'data': [{'line': {'shape': 'hv'},\n",
       "              'name': 'baseline',\n",
       "       …"
      ]
     },
     "metadata": {},
     "output_type": "display_data"
    }
   ],
   "source": [
    "options = {'yaxis_name': '14-day running average EC (mmhos/cm)', \n",
    "           'title': 'EC 14-Day Mean for D1641_FWS San Joaquin River Timelines'}\n",
    "pdmn.plot_step_w_regulation(df_davg_fws_sjr, df_reg_fws_ts_sjr, df_stations_reg_fws_sjr, options)"
   ]
  },
  {
   "cell_type": "code",
   "execution_count": 26,
   "metadata": {
    "ExecuteTime": {
     "end_time": "2023-09-22T23:34:46.309243Z",
     "start_time": "2023-09-22T23:34:44.848213Z"
    },
    "scrolled": false
   },
   "outputs": [
    {
     "data": {
      "application/vnd.jupyter.widget-view+json": {
       "model_id": "8348987414b34ca0973e6072da3610e5",
       "version_major": 2,
       "version_minor": 0
      },
      "text/plain": [
       "VBox(children=(FigureWidget({\n",
       "    'data': [{'name': 'baseline',\n",
       "              'type': 'scatter',\n",
       "             …"
      ]
     },
     "metadata": {},
     "output_type": "display_data"
    }
   ],
   "source": [
    "options = {'yaxis_name': '14-day running average EC - standard (mmhos/cm)', \n",
    "           'title': 'EC 14-Day Mean for D1641_FWS San Joaquin River Exceedances'}\n",
    "pdmn.plot_exceedance_w_regulation(df_davg_fws_sjr, df_reg_fws_ts_sjr, df_stations_reg_fws_sjr, options)"
   ]
  },
  {
   "cell_type": "markdown",
   "metadata": {},
   "source": [
    "### D1641_FWS Suisun Area: monthly average of daily max EC"
   ]
  },
  {
   "cell_type": "code",
   "execution_count": 27,
   "metadata": {
    "ExecuteTime": {
     "end_time": "2023-09-22T23:35:11.179694Z",
     "start_time": "2023-09-22T23:34:46.310239Z"
    }
   },
   "outputs": [],
   "source": [
    "df_dmax = pdmu.prep_df(scenarios,stations_to_read,['EC-MAX'],['1DAY'],df_wyt2020,period93)"
   ]
  },
  {
   "cell_type": "code",
   "execution_count": 28,
   "metadata": {
    "ExecuteTime": {
     "end_time": "2023-09-22T23:35:11.523128Z",
     "start_time": "2023-09-22T23:35:11.181010Z"
    },
    "scrolled": true
   },
   "outputs": [],
   "source": [
    "# df_dmax = df_1day[df_1day['variable'] == 'EC-MAX']"
   ]
  },
  {
   "cell_type": "code",
   "execution_count": 29,
   "metadata": {
    "ExecuteTime": {
     "end_time": "2023-09-22T23:35:13.576546Z",
     "start_time": "2023-09-22T23:35:11.524657Z"
    }
   },
   "outputs": [],
   "source": [
    "fpath_d1641_fws_suisun = '../info/D1641_FWS_Suisun.csv'\n",
    "df_reg_fws_suisun = pdmu.read_regulations(fpath_d1641_fws_suisun, df_wyt2020)\n",
    "df_reg_fws_suisun['value'] = df_reg_fws_suisun['value'] * 1000.  # Convert milli to micro\n",
    "reg_fws_suisun_loc = df_reg_fws_suisun['location'].unique()\n",
    "df_stations_reg_fws_suisun = df_stations[df_stations['ID'].isin(reg_fws_suisun_loc)]\n",
    "# df_stations_reg_fws_suisun"
   ]
  },
  {
   "cell_type": "code",
   "execution_count": 30,
   "metadata": {
    "ExecuteTime": {
     "end_time": "2023-09-22T23:35:14.097031Z",
     "start_time": "2023-09-22T23:35:13.578537Z"
    }
   },
   "outputs": [],
   "source": [
    "df_dmax_fws_suisun = df_dmax[df_dmax['station'].isin(reg_fws_suisun_loc)]"
   ]
  },
  {
   "cell_type": "code",
   "execution_count": 31,
   "metadata": {
    "ExecuteTime": {
     "end_time": "2023-09-22T23:35:19.519972Z",
     "start_time": "2023-09-22T23:35:14.098027Z"
    }
   },
   "outputs": [],
   "source": [
    "# Get the time range from the data set\n",
    "df_reg_fws_suisun_ts = pdmu.generate_regulation_timeseries(df_reg_fws_suisun, df_dmax_fws_suisun, freq='D')\n",
    "df_reg_fws_suisun_ts['variable'] = 'EC-MAX-MEAN'\n",
    "df_reg_fws_suisun_ts['scenario_name'] = 'D1641 FWS Suisun'\n",
    "# df_reg_fws_suisun_ts.hvplot.line()"
   ]
  },
  {
   "cell_type": "code",
   "execution_count": 32,
   "metadata": {
    "ExecuteTime": {
     "end_time": "2023-09-22T23:35:23.035942Z",
     "start_time": "2023-09-22T23:35:19.521963Z"
    },
    "scrolled": false
   },
   "outputs": [
    {
     "data": {
      "application/vnd.jupyter.widget-view+json": {
       "model_id": "cfb2c62b0ec849dca94b5400bc06c6ec",
       "version_major": 2,
       "version_minor": 0
      },
      "text/plain": [
       "VBox(children=(FigureWidget({\n",
       "    'data': [{'line': {'shape': 'hv'},\n",
       "              'name': 'baseline',\n",
       "       …"
      ]
     },
     "metadata": {},
     "output_type": "display_data"
    }
   ],
   "source": [
    "options = {'yaxis_name': 'EC Monthly Mean of Daily Max (mmhos/cm)', \n",
    "           'title': 'EC Monthly Mean of Daily Max for D1641_FWS Suisun Timelines'}\n",
    "pdmn.plot_step_w_regulation(df_dmax_fws_suisun, df_reg_fws_suisun_ts, df_stations_reg_fws_suisun, options)"
   ]
  },
  {
   "cell_type": "code",
   "execution_count": 33,
   "metadata": {
    "ExecuteTime": {
     "end_time": "2023-09-22T23:35:26.199436Z",
     "start_time": "2023-09-22T23:35:23.037934Z"
    },
    "scrolled": false
   },
   "outputs": [
    {
     "data": {
      "application/vnd.jupyter.widget-view+json": {
       "model_id": "eed80a9576424fc396f5548cf268836f",
       "version_major": 2,
       "version_minor": 0
      },
      "text/plain": [
       "VBox(children=(FigureWidget({\n",
       "    'data': [{'name': 'baseline',\n",
       "              'type': 'scatter',\n",
       "             …"
      ]
     },
     "metadata": {},
     "output_type": "display_data"
    }
   ],
   "source": [
    "options = {'yaxis_name': 'Diff in EC scenario-standard (mmhos/cm)', \n",
    "           'title': 'EC Monthly Mean of Daily Max for D1641_FWS Suisun Exceedances'} \n",
    "pdmn.plot_exceedance_w_regulation(df_dmax_fws_suisun, df_reg_fws_suisun_ts, df_stations_reg_fws_suisun, options)"
   ]
  },
  {
   "cell_type": "markdown",
   "metadata": {},
   "source": [
    "D1641-FWS Suisun Stations: monthly average of daily average of two high-tide EC"
   ]
  },
  {
   "cell_type": "code",
   "execution_count": 34,
   "metadata": {
    "ExecuteTime": {
     "end_time": "2023-09-22T23:35:26.511631Z",
     "start_time": "2023-09-22T23:35:26.201428Z"
    }
   },
   "outputs": [],
   "source": [
    "# df_1day = df_ec[df_ec['interval'] == '1DAY']\n",
    "# df_dht = df_1day[df_1day['variable'] == 'EC-HT-MEAN']"
   ]
  },
  {
   "cell_type": "code",
   "execution_count": 35,
   "metadata": {
    "ExecuteTime": {
     "end_time": "2023-09-22T23:35:26.826247Z",
     "start_time": "2023-09-22T23:35:26.513623Z"
    },
    "scrolled": true
   },
   "outputs": [],
   "source": [
    "# df_dht"
   ]
  },
  {
   "cell_type": "code",
   "execution_count": 36,
   "metadata": {
    "ExecuteTime": {
     "end_time": "2023-09-22T23:35:27.138445Z",
     "start_time": "2023-09-22T23:35:26.828242Z"
    }
   },
   "outputs": [],
   "source": [
    "# fpath_d1641_fwss = '../info/D1641_FWS_Standards_Suisun1.csv'\n",
    "# df_reg_fwss = pdmu.read_regulations(fpath_d1641_fwss, df_wyt)\n",
    "# df_reg_fwss['value'] = df_reg_fwss['value'] * 1000.  # Convert milli to micro\n",
    "# df_stations_reg_fwss = df_stations[df_stations['ID'].isin(df_reg_fwss['location'].unique())]\n",
    "# df_stations_reg_fwss"
   ]
  },
  {
   "cell_type": "code",
   "execution_count": 37,
   "metadata": {
    "ExecuteTime": {
     "end_time": "2023-09-22T23:35:27.452628Z",
     "start_time": "2023-09-22T23:35:27.140436Z"
    },
    "scrolled": false
   },
   "outputs": [],
   "source": [
    "# options = {'yaxis_name': 'EC Monthly Mean of Daily Average of High-Tide (mmhos/cm)', 'title': 'D1641 FWS Suisun'}\n",
    "# pdmn.plot_step_w_regulation(df_dht, df_reg_fws_tss, df_stations_reg_fwss, options)"
   ]
  },
  {
   "cell_type": "code",
   "execution_count": 38,
   "metadata": {
    "ExecuteTime": {
     "end_time": "2023-09-22T23:35:27.766246Z",
     "start_time": "2023-09-22T23:35:27.454617Z"
    },
    "scrolled": false
   },
   "outputs": [],
   "source": [
    "# options = {'yaxis_name': 'Diff in EC scenario-standard (mmhos/cm)', 'title': 'EC Monthly Mean of Daily Average of High-Tide'}\n",
    "# pdmn.plot_exceedance_w_regulation(df_dht, df_reg_fws_tss, df_stations_reg_fwss, options)"
   ]
  },
  {
   "cell_type": "markdown",
   "metadata": {},
   "source": [
    "## D1641 Municipal & Industrial standards"
   ]
  },
  {
   "cell_type": "markdown",
   "metadata": {},
   "source": [
    "### D1641_MI Contra Costa: daily mean Chloride 250 mg/L"
   ]
  },
  {
   "cell_type": "code",
   "execution_count": 39,
   "metadata": {
    "ExecuteTime": {
     "end_time": "2023-09-22T23:35:29.137790Z",
     "start_time": "2023-09-22T23:35:27.767242Z"
    }
   },
   "outputs": [],
   "source": [
    "fpath_d1641_mi = '../info/D1641_MI_250.csv'\n",
    "df_reg_mi = pdmu.read_regulations(fpath_d1641_mi, df_wyt2020)\n",
    "reg_mi_loc = df_reg_mi.location.unique()\n",
    "df_stations_reg_mi = df_stations[df_stations['ID'].isin(reg_mi_loc)]\n",
    "# df_stations_reg_mi"
   ]
  },
  {
   "cell_type": "code",
   "execution_count": 40,
   "metadata": {
    "ExecuteTime": {
     "end_time": "2023-09-22T23:35:29.465439Z",
     "start_time": "2023-09-22T23:35:29.138786Z"
    }
   },
   "outputs": [
    {
     "data": {
      "text/plain": [
       "array(['ROLD024', 'CHSWP003', 'CHDMC006', 'SLBAR002', 'SLCCH016'],\n",
       "      dtype=object)"
      ]
     },
     "execution_count": 40,
     "metadata": {},
     "output_type": "execute_result"
    }
   ],
   "source": [
    "reg_mi_loc"
   ]
  },
  {
   "cell_type": "code",
   "execution_count": 41,
   "metadata": {
    "ExecuteTime": {
     "end_time": "2023-09-22T23:35:29.978183Z",
     "start_time": "2023-09-22T23:35:29.467431Z"
    }
   },
   "outputs": [
    {
     "data": {
      "text/plain": [
       "array(['CHDMC006', 'CHSWP003', 'OLD_MID', 'RMKL005', 'ROLD024', 'ROLD034',\n",
       "       'ROLD059', 'RSAC081', 'RSAC092', 'RSAN007', 'RSAN018', 'RSAN032',\n",
       "       'RSAN037', 'RSAN072', 'RSAN112', 'RSMKL008', 'SLBAR002',\n",
       "       'SLCBN002', 'SLCCH016', 'SLMZU011', 'SLMZU025', 'SLSUS012'],\n",
       "      dtype=object)"
      ]
     },
     "execution_count": 41,
     "metadata": {},
     "output_type": "execute_result"
    }
   ],
   "source": [
    "df_davg.station.unique()"
   ]
  },
  {
   "cell_type": "code",
   "execution_count": 42,
   "metadata": {
    "ExecuteTime": {
     "end_time": "2023-09-22T23:35:30.461273Z",
     "start_time": "2023-09-22T23:35:29.979178Z"
    },
    "scrolled": true
   },
   "outputs": [],
   "source": [
    "df_davg_mi = df_davg[df_davg['station'].isin(reg_mi_loc)]"
   ]
  },
  {
   "cell_type": "code",
   "execution_count": 43,
   "metadata": {
    "ExecuteTime": {
     "end_time": "2023-09-22T23:35:40.595767Z",
     "start_time": "2023-09-22T23:35:30.463264Z"
    },
    "scrolled": true
   },
   "outputs": [
    {
     "name": "stderr",
     "output_type": "stream",
     "text": [
      "D:\\DSM2_Planning_2023\\delta\\DSM2_v822plan\\pydelmod_plan\\lib\\site-packages\\ipykernel_launcher.py:2: SettingWithCopyWarning:\n",
      "\n",
      "\n",
      "A value is trying to be set on a copy of a slice from a DataFrame.\n",
      "Try using .loc[row_indexer,col_indexer] = value instead\n",
      "\n",
      "See the caveats in the documentation: http://pandas.pydata.org/pandas-docs/stable/user_guide/indexing.html#returning-a-view-versus-a-copy\n",
      "\n",
      "D:\\DSM2_Planning_2023\\delta\\DSM2_v822plan\\pydelmod_plan\\lib\\site-packages\\ipykernel_launcher.py:3: SettingWithCopyWarning:\n",
      "\n",
      "\n",
      "A value is trying to be set on a copy of a slice from a DataFrame.\n",
      "Try using .loc[row_indexer,col_indexer] = value instead\n",
      "\n",
      "See the caveats in the documentation: http://pandas.pydata.org/pandas-docs/stable/user_guide/indexing.html#returning-a-view-versus-a-copy\n",
      "\n"
     ]
    }
   ],
   "source": [
    "df_davg_cl = df_davg_mi\n",
    "df_davg_cl['value'] = df_davg_cl.apply(lambda x: max(x['value']*0.15-12.,x['value']*0.285-50),axis=1)\n",
    "df_davg_cl['variable'] = 'Chloride-MEAN'\n",
    "# df_davg_cl"
   ]
  },
  {
   "cell_type": "code",
   "execution_count": 44,
   "metadata": {
    "ExecuteTime": {
     "end_time": "2023-09-22T23:35:42.668365Z",
     "start_time": "2023-09-22T23:35:40.596762Z"
    }
   },
   "outputs": [],
   "source": [
    "# Get the time range from the data set\n",
    "df_reg_mi_ts = pdmu.generate_regulation_timeseries(df_reg_mi, df_davg_mi, freq='D')\n",
    "df_reg_mi_ts['variable'] = 'Chloride-MEAN'\n",
    "df_reg_mi_ts['scenario_name'] = 'D1641 MI 250'\n",
    "# df_reg_mi_ts"
   ]
  },
  {
   "cell_type": "code",
   "execution_count": 45,
   "metadata": {
    "ExecuteTime": {
     "end_time": "2023-09-22T23:35:48.531412Z",
     "start_time": "2023-09-22T23:35:42.670357Z"
    }
   },
   "outputs": [
    {
     "data": {
      "application/vnd.jupyter.widget-view+json": {
       "model_id": "8742219707474bcaabba183bbd2b5ac0",
       "version_major": 2,
       "version_minor": 0
      },
      "text/plain": [
       "VBox(children=(FigureWidget({\n",
       "    'data': [{'line': {'shape': 'hv'},\n",
       "              'name': 'baseline',\n",
       "       …"
      ]
     },
     "metadata": {},
     "output_type": "display_data"
    }
   ],
   "source": [
    "options = {'yaxis_name': 'Chloride Daily (mg/L)', \n",
    "           'title': 'Chloride Daily for D1641 MI 250 Timelines'}\n",
    "pdmn.plot_step_w_regulation(df_davg_cl, df_reg_mi_ts, df_stations_reg_mi, options)"
   ]
  },
  {
   "cell_type": "code",
   "execution_count": 46,
   "metadata": {
    "ExecuteTime": {
     "end_time": "2023-09-22T23:35:51.196254Z",
     "start_time": "2023-09-22T23:35:48.533403Z"
    },
    "scrolled": false
   },
   "outputs": [
    {
     "data": {
      "application/vnd.jupyter.widget-view+json": {
       "model_id": "e8961af2e9c9474cb7fa9f4c3a121c6a",
       "version_major": 2,
       "version_minor": 0
      },
      "text/plain": [
       "VBox(children=(FigureWidget({\n",
       "    'data': [{'name': 'baseline',\n",
       "              'type': 'scatter',\n",
       "             …"
      ]
     },
     "metadata": {},
     "output_type": "display_data"
    }
   ],
   "source": [
    "options = {'yaxis_name': 'Chloride Daily -standard (mg/L)', \n",
    "           'title': 'Chloride Daily for D1641 MI 250 Exceedances'}\n",
    "pdmn.plot_exceedance_w_regulation(df_davg_cl, df_reg_mi_ts, df_stations_reg_mi, options)"
   ]
  },
  {
   "cell_type": "markdown",
   "metadata": {},
   "source": [
    "### D1641_MI Contra Costa: daily mean Chloride 150 mg/L"
   ]
  },
  {
   "cell_type": "code",
   "execution_count": 47,
   "metadata": {
    "ExecuteTime": {
     "end_time": "2023-09-22T23:35:51.724564Z",
     "start_time": "2023-09-22T23:35:51.197250Z"
    },
    "scrolled": true
   },
   "outputs": [],
   "source": [
    "fpath_d1641_mi2 = '../info/D1641_MI_150.csv'\n",
    "df_reg_mi2 = pdmu.read_regulations(fpath_d1641_mi2, df_wyt2020)\n",
    "reg_mi_loc2 = df_reg_mi2.location.unique()\n",
    "df_stations_reg_mi2 = df_stations[df_stations['ID'].isin(reg_mi_loc2)]\n",
    "# df_stations_reg_mi2"
   ]
  },
  {
   "cell_type": "code",
   "execution_count": 48,
   "metadata": {
    "ExecuteTime": {
     "end_time": "2023-09-22T23:35:52.141299Z",
     "start_time": "2023-09-22T23:35:51.725560Z"
    }
   },
   "outputs": [],
   "source": [
    "df_davg_mi2 = df_davg[df_davg['station'].isin(reg_mi_loc2)]"
   ]
  },
  {
   "cell_type": "code",
   "execution_count": 49,
   "metadata": {
    "ExecuteTime": {
     "end_time": "2023-09-22T23:35:52.982174Z",
     "start_time": "2023-09-22T23:35:52.143290Z"
    },
    "scrolled": false
   },
   "outputs": [],
   "source": [
    "# Get the time range from the data set\n",
    "df_reg_mi_ts2 = pdmu.generate_regulation_timeseries(df_reg_mi2, df_davg_mi2, freq='D')\n",
    "df_reg_mi_ts2['variable'] = 'Chloride-MEAN'\n",
    "df_reg_mi_ts2['scenario_name'] = 'D1641 MI 150'\n",
    "# df_reg_mi_ts2"
   ]
  },
  {
   "cell_type": "code",
   "execution_count": 50,
   "metadata": {
    "ExecuteTime": {
     "end_time": "2023-09-22T23:35:56.065296Z",
     "start_time": "2023-09-22T23:35:52.984165Z"
    },
    "scrolled": false
   },
   "outputs": [
    {
     "name": "stderr",
     "output_type": "stream",
     "text": [
      "D:\\DSM2_Planning_2023\\delta\\DSM2_v822plan\\pydelmod_plan\\lib\\site-packages\\ipykernel_launcher.py:2: SettingWithCopyWarning:\n",
      "\n",
      "\n",
      "A value is trying to be set on a copy of a slice from a DataFrame.\n",
      "Try using .loc[row_indexer,col_indexer] = value instead\n",
      "\n",
      "See the caveats in the documentation: http://pandas.pydata.org/pandas-docs/stable/user_guide/indexing.html#returning-a-view-versus-a-copy\n",
      "\n",
      "D:\\DSM2_Planning_2023\\delta\\DSM2_v822plan\\pydelmod_plan\\lib\\site-packages\\ipykernel_launcher.py:3: SettingWithCopyWarning:\n",
      "\n",
      "\n",
      "A value is trying to be set on a copy of a slice from a DataFrame.\n",
      "Try using .loc[row_indexer,col_indexer] = value instead\n",
      "\n",
      "See the caveats in the documentation: http://pandas.pydata.org/pandas-docs/stable/user_guide/indexing.html#returning-a-view-versus-a-copy\n",
      "\n",
      "D:\\DSM2_Planning_2023\\delta\\DSM2_v822plan\\pydelmod_plan\\lib\\site-packages\\ipykernel_launcher.py:4: SettingWithCopyWarning:\n",
      "\n",
      "\n",
      "A value is trying to be set on a copy of a slice from a DataFrame.\n",
      "Try using .loc[row_indexer,col_indexer] = value instead\n",
      "\n",
      "See the caveats in the documentation: http://pandas.pydata.org/pandas-docs/stable/user_guide/indexing.html#returning-a-view-versus-a-copy\n",
      "\n"
     ]
    }
   ],
   "source": [
    "df_davg_cl2 = df_davg_mi2\n",
    "df_davg_cl2['value'] = df_davg_cl2.apply(lambda x: max(x['value']*0.15-12.,x['value']*0.285-50),axis=1)\n",
    "df_davg_cl2['cl_minus_reg'] = df_davg_cl2.apply(lambda x: x['value'] - 150, axis=1)\n",
    "df_davg_cl2['cl_meet'] = df_davg_cl2['cl_minus_reg'].map(lambda x: x <= 0)\n",
    "# df_davg_cl2"
   ]
  },
  {
   "cell_type": "code",
   "execution_count": 51,
   "metadata": {
    "ExecuteTime": {
     "end_time": "2023-09-22T23:35:56.377017Z",
     "start_time": "2023-09-22T23:35:56.067288Z"
    }
   },
   "outputs": [],
   "source": [
    "# Define an aggregation function to count days when the regulation is met.\n",
    "# According to D1641:\n",
    "# Maximum mean daily 150 mg/l Cl−for at least the number of days shown\n",
    "# during the Calendar Year.\n",
    "# Must be provided in intervals of not less than two weeks duration.\n",
    "def sum_only_more_than_14days(series):\n",
    "    total = 0\n",
    "    cumsum = 0\n",
    "    for x in series:\n",
    "        if x:\n",
    "            cumsum += 1\n",
    "        else:\n",
    "            if cumsum >= 14:\n",
    "                total += cumsum\n",
    "            cumsum = 0\n",
    "    if cumsum >= 14:\n",
    "        total += cumsum\n",
    "    return total"
   ]
  },
  {
   "cell_type": "code",
   "execution_count": 52,
   "metadata": {
    "ExecuteTime": {
     "end_time": "2023-09-22T23:35:56.750374Z",
     "start_time": "2023-09-22T23:35:56.379008Z"
    },
    "scrolled": false
   },
   "outputs": [],
   "source": [
    "df_davg_cl2pl = df_davg_cl2.groupby(['scenario_name', 'year'])['cl_meet'].agg(sum_only_more_than_14days).to_frame()\n",
    "df_davg_cl2pl['n_records'] = df_davg_cl2.groupby(['scenario_name', 'year'])['year'].count()\n",
    "df_davg_cl2pl.reset_index(inplace=True)\n",
    "import calendar\n",
    "df_davg_cl2pl['days_in_year'] = df_davg_cl2pl['year'].map(lambda x: 366 if calendar.isleap(x) else 365)\n",
    "df_davg_cl2pl = df_davg_cl2pl[df_davg_cl2pl['n_records'] == df_davg_cl2pl['days_in_year']]\n",
    "df_davg_cl2pl['time'] = df_davg_cl2pl['year']\n",
    "df_davg_cl2pl.time = pd.to_datetime(df_davg_cl2pl.time, format='%Y')\n",
    "df_davg_cl2pl['value'] = df_davg_cl2pl['cl_meet']\n",
    "df_davg_cl2pl['station'] = 'ROLD024'\n",
    "df_davg_cl2pl['variable'] = 'Chloride-MEAN'\n",
    "df_davg_cl2pl = df_davg_cl2pl.merge(df_davg_cl2[[\"time\",\"scenario_name\",\"sac_yrtype\"]], on=[\"time\",\"scenario_name\"], how=\"left\")\n",
    "# df_davg_cl2pl"
   ]
  },
  {
   "cell_type": "markdown",
   "metadata": {},
   "source": [
    "Calendar year 1923-2014, only 92years applicable"
   ]
  },
  {
   "cell_type": "code",
   "execution_count": 53,
   "metadata": {
    "ExecuteTime": {
     "end_time": "2023-09-22T23:35:58.493196Z",
     "start_time": "2023-09-22T23:35:56.752364Z"
    }
   },
   "outputs": [
    {
     "data": {
      "application/vnd.jupyter.widget-view+json": {
       "model_id": "4e0b6340a69c4513ac51a8e26d050ff0",
       "version_major": 2,
       "version_minor": 0
      },
      "text/plain": [
       "VBox(children=(FigureWidget({\n",
       "    'data': [{'line': {'shape': 'hv'},\n",
       "              'name': 'alternative',\n",
       "    …"
      ]
     },
     "metadata": {},
     "output_type": "display_data"
    }
   ],
   "source": [
    "options = {'yaxis_name': 'Number of days in year under regulation (day)', \n",
    "           'title': 'Yearly number of days for D1641 MI 150 Timelines'}\n",
    "pdmn.plot_step_w_regulation(df_davg_cl2pl, df_reg_mi_ts2, df_stations_reg_mi2, options)"
   ]
  },
  {
   "cell_type": "code",
   "execution_count": 54,
   "metadata": {
    "ExecuteTime": {
     "end_time": "2023-09-22T23:35:59.784489Z",
     "start_time": "2023-09-22T23:35:58.495188Z"
    },
    "scrolled": false
   },
   "outputs": [
    {
     "data": {
      "application/vnd.jupyter.widget-view+json": {
       "model_id": "dc26d1a38f354f569f270a2c284de2cd",
       "version_major": 2,
       "version_minor": 0
      },
      "text/plain": [
       "VBox(children=(FigureWidget({\n",
       "    'data': [{'name': 'alternative',\n",
       "              'type': 'scatter',\n",
       "          …"
      ]
     },
     "metadata": {},
     "output_type": "display_data"
    }
   ],
   "source": [
    "options = {'yaxis_name': 'Number of days under regulation - standard (day)', \n",
    "           'title': 'Yearly number of days for D1641 MI 150 Exceedances'}\n",
    "pdmn.plot_exceedance_w_regulation(df_davg_cl2pl, df_reg_mi_ts2, df_stations_reg_mi2, options)"
   ]
  },
  {
   "cell_type": "code",
   "execution_count": null,
   "metadata": {},
   "outputs": [],
   "source": []
  }
 ],
 "metadata": {
  "kernelspec": {
   "display_name": "Python 3",
   "language": "python",
   "name": "python3"
  },
  "language_info": {
   "codemirror_mode": {
    "name": "ipython",
    "version": 3
   },
   "file_extension": ".py",
   "mimetype": "text/x-python",
   "name": "python",
   "nbconvert_exporter": "python",
   "pygments_lexer": "ipython3",
   "version": "3.7.6"
  },
  "varInspector": {
   "cols": {
    "lenName": 16,
    "lenType": 16,
    "lenVar": 40
   },
   "kernels_config": {
    "python": {
     "delete_cmd_postfix": "",
     "delete_cmd_prefix": "del ",
     "library": "var_list.py",
     "varRefreshCmd": "print(var_dic_list())"
    },
    "r": {
     "delete_cmd_postfix": ") ",
     "delete_cmd_prefix": "rm(",
     "library": "var_list.r",
     "varRefreshCmd": "cat(var_dic_list()) "
    }
   },
   "types_to_exclude": [
    "module",
    "function",
    "builtin_function_or_method",
    "instance",
    "_Feature"
   ],
   "window_display": false
  }
 },
 "nbformat": 4,
 "nbformat_minor": 2
}
