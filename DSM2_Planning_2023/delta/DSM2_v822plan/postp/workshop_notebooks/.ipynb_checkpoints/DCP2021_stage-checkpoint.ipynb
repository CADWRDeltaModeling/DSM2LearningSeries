{
 "cells": [
  {
   "cell_type": "markdown",
   "metadata": {},
   "source": [
    "# Python Notebook to analyze DCP Stage data\n",
    "\n",
    "Yu Zhou, 2023-9\n",
    "\n",
    "This tool is a proto-type to visualize Stage outputs for DSM2 DCR2021.\n",
    "\n",
    "The input files are post-processd (daily/monthly) DSS files."
   ]
  },
  {
   "cell_type": "code",
   "execution_count": 1,
   "metadata": {
    "ExecuteTime": {
     "end_time": "2023-09-08T20:12:32.988508Z",
     "start_time": "2023-09-08T20:12:32.940705Z"
    }
   },
   "outputs": [],
   "source": [
    "%load_ext autoreload\n",
    "%autoreload 2"
   ]
  },
  {
   "cell_type": "code",
   "execution_count": 2,
   "metadata": {
    "ExecuteTime": {
     "end_time": "2023-09-08T20:12:45.190583Z",
     "start_time": "2023-09-08T20:12:32.990501Z"
    }
   },
   "outputs": [],
   "source": [
    "# Import modules\n",
    "import pandas as pd\n",
    "# import plotly.offline as py\n",
    "# py.init_notebook_mode(connected=True)\n",
    "import pydelmod.utilities as pdmu\n",
    "import pydelmod.nbplot as pdmn"
   ]
  },
  {
   "cell_type": "code",
   "execution_count": 5,
   "metadata": {
    "ExecuteTime": {
     "end_time": "2023-09-08T20:13:29.513856Z",
     "start_time": "2023-09-08T20:13:29.372122Z"
    }
   },
   "outputs": [],
   "source": [
    "# Read output locations\n",
    "fpath_output_locations = \"../info/DSM2_ec_loc.csv\"\n",
    "df_stations = pd.read_csv(fpath_output_locations, comment='#')\n",
    "df_stations['ID'] = [x.upper() for x in df_stations['ID']]\n",
    "station_ids = df_stations['ID'].values\n",
    "stations_to_read = df_stations['ID'].values"
   ]
  },
  {
   "cell_type": "markdown",
   "metadata": {},
   "source": [
    "# Build Dataframe for All the Analyzed Data"
   ]
  },
  {
   "cell_type": "code",
   "execution_count": 6,
   "metadata": {
    "ExecuteTime": {
     "end_time": "2023-09-08T20:13:52.777124Z",
     "start_time": "2023-09-08T20:13:29.517883Z"
    }
   },
   "outputs": [],
   "source": [
    "# Read in scenarios\n",
    "dir2020dcp = 'D:/delta_dcp/dsm2v821/studies_dcp_2020/'\n",
    "dir2040dcp = 'D:/delta_dcp/dsm2v821/studies_dcp_2040/'\n",
    "dir2021dcr = 'D:/delta/LTO_DSM2_v822plan/DCR/'\n",
    "# dir2020lto = dir2020lto_backup\n",
    "scenarios = [\n",
    "#              {'name': 'EX_2020_DCP', 'fpath': dir2020dcp+\"ex_2020/output/dcp_ex_2020_stage_p.DSS\"},\n",
    "             {'name': 'DCR2021EX2020',   'fpath': dir2021dcr+\"DCR2021EX/output/dcr2021ex_stage_p.DSS\"},\n",
    "#              {'name': 'NAA_2040_DCP', 'fpath': dir2040dcp+\"naa_2040/output/dcp_naa_2040slr18_stage_p.DSS\"},\n",
    "             {'name': 'DCR2021FC2040',   'fpath': dir2021dcr+\"DCR2021FC/output/dcr2021fc_stage_p.DSS\"},\n",
    "#              {'name': 'DCR2021CC',   'fpath': dir2021dcr+\"DCR2021CC/output/dcr2021cc_stage_p.DSS\"},\n",
    "            ]\n",
    "# Read water year types\n",
    "# wyt_c3f2020 = dir2020dcp+\"ex_2020/timeseries/CALSIM/0_DCR19_12.30_120621_NDDOff_2020.DSS\"\n",
    "# wyt_c3f2020 = dir2020lto+\"1ex_2020/timeseries/CALSIM/LTO_Study1.6.DSS\"\n",
    "wyt_c3f2020 = dir2021dcr+\"DCR2021EX/timeseries/CALSIM/DCRBL_DV_6.68.DSS\"\n",
    "df_wyt2020 = pdmu.read_calsim3_wateryear_types(wyt_c3f2020)\n",
    "\n",
    "period93 = ['1922-10-1','2015-9-30']"
   ]
  },
  {
   "cell_type": "markdown",
   "metadata": {},
   "source": [
    "# Stage Daily Mean"
   ]
  },
  {
   "cell_type": "code",
   "execution_count": 7,
   "metadata": {
    "ExecuteTime": {
     "end_time": "2023-09-08T20:15:02.638185Z",
     "start_time": "2023-09-08T20:13:52.780068Z"
    }
   },
   "outputs": [],
   "source": [
    "df_davg = pdmu.prep_df(scenarios,stations_to_read,['STAGE-MEAN'],['1DAY'],df_wyt2020,period93)"
   ]
  },
  {
   "cell_type": "code",
   "execution_count": 8,
   "metadata": {
    "ExecuteTime": {
     "end_time": "2023-09-08T20:15:15.860505Z",
     "start_time": "2023-09-08T20:15:02.641172Z"
    },
    "scrolled": false
   },
   "outputs": [
    {
     "data": {
      "application/vnd.jupyter.widget-view+json": {
       "model_id": "1304dc9ca75747cc9a49daf71695cd07",
       "version_major": 2,
       "version_minor": 0
      },
      "text/plain": [
       "VBox(children=(FigureWidget({\n",
       "    'data': [{'line': {'shape': 'hv'},\n",
       "              'name': 'EX_2020_DCP',\n",
       "    …"
      ]
     },
     "metadata": {},
     "output_type": "display_data"
    }
   ],
   "source": [
    "options = {'yaxis_name': 'Daily Mean Stage (ft)', 'title': 'Stage Daily Mean Timelines'}\n",
    "pdmn.plot_step_w_variable_station_filters(df_davg, df_stations, options)"
   ]
  },
  {
   "cell_type": "code",
   "execution_count": 9,
   "metadata": {
    "ExecuteTime": {
     "end_time": "2023-09-08T20:15:18.540267Z",
     "start_time": "2023-09-08T20:15:15.861544Z"
    },
    "scrolled": false
   },
   "outputs": [
    {
     "data": {
      "application/vnd.jupyter.widget-view+json": {
       "model_id": "78c8ff6ac3ec48ea8d57621ed4967759",
       "version_major": 2,
       "version_minor": 0
      },
      "text/plain": [
       "VBox(children=(FigureWidget({\n",
       "    'data': [{'name': 'EX_2020_DCP',\n",
       "              'type': 'bar',\n",
       "              …"
      ]
     },
     "metadata": {},
     "output_type": "display_data"
    }
   ],
   "source": [
    "options = {'yaxis_name': 'Daily Mean Stage (ft)', 'title': 'Stage Monthly Barcharts of Daily Mean'}\n",
    "pdmn.plot_bar_monthly_w_controls(df_davg, df_stations, options)"
   ]
  },
  {
   "cell_type": "code",
   "execution_count": 10,
   "metadata": {
    "ExecuteTime": {
     "end_time": "2023-09-08T20:15:21.361387Z",
     "start_time": "2023-09-08T20:15:18.545247Z"
    },
    "scrolled": false
   },
   "outputs": [
    {
     "data": {
      "application/vnd.jupyter.widget-view+json": {
       "model_id": "8bc9fd7123384243a2da6ba6532dc574",
       "version_major": 2,
       "version_minor": 0
      },
      "text/plain": [
       "VBox(children=(FigureWidget({\n",
       "    'data': [{'name': 'EX_2020_DCP',\n",
       "              'type': 'scatter',\n",
       "          …"
      ]
     },
     "metadata": {},
     "output_type": "display_data"
    }
   ],
   "source": [
    "options = {'yaxis_name': 'Daily Min Stage (ft)', 'title': 'Stage Daily Mean Exceedances'}\n",
    "pdmn.plot_exceedance_w_variable_station_filters(df_davg, df_stations, options)"
   ]
  },
  {
   "cell_type": "code",
   "execution_count": 11,
   "metadata": {
    "ExecuteTime": {
     "end_time": "2023-09-08T20:15:24.225450Z",
     "start_time": "2023-09-08T20:15:21.365367Z"
    },
    "scrolled": false
   },
   "outputs": [
    {
     "data": {
      "application/vnd.jupyter.widget-view+json": {
       "model_id": "8c4ebcddef34417db061e1c488d43c63",
       "version_major": 2,
       "version_minor": 0
      },
      "text/plain": [
       "VBox(children=(FigureWidget({\n",
       "    'data': [{'name': 'EX_2020_DCP',\n",
       "              'type': 'box',\n",
       "              …"
      ]
     },
     "metadata": {},
     "output_type": "display_data"
    }
   ],
   "source": [
    "options = {'xaxis_name': 'Daily Min Stage (ft)', 'title': 'Stage Daily Mean Box-Whiskers'}\n",
    "pdmn.plot_box_w_variable_station_filters(df_davg, df_stations, options)"
   ]
  },
  {
   "cell_type": "markdown",
   "metadata": {},
   "source": [
    "### Stage Daily Mean Diff"
   ]
  },
  {
   "cell_type": "code",
   "execution_count": 12,
   "metadata": {
    "ExecuteTime": {
     "end_time": "2023-09-08T20:15:24.536973Z",
     "start_time": "2023-09-08T20:15:24.228438Z"
    }
   },
   "outputs": [],
   "source": [
    "# df_stage1 = df_davg[df_davg['scenario_name']=='EX_2020']\n",
    "# df_stage2 = df_davg[df_davg['scenario_name']=='PA6K_2020']\n",
    "# df_stage_dff = df_stage1\n",
    "# df_stage_dff['scenario_name'] = 'PA6K-EX_2020'\n",
    "# df_stage_dff['value'] = df_stage2['value'] - df_stage1['value']\n",
    "# # df_stage_dff"
   ]
  },
  {
   "cell_type": "code",
   "execution_count": 13,
   "metadata": {
    "ExecuteTime": {
     "end_time": "2023-09-08T20:15:24.846298Z",
     "start_time": "2023-09-08T20:15:24.538964Z"
    },
    "scrolled": false
   },
   "outputs": [],
   "source": [
    "# options = {'yaxis_name': 'Daily Min Stage Difference (ft)', 'title': 'Stage Daily Min Difference Timelines'}\n",
    "# pdmn.plot_step_w_variable_station_filters(df_stage_dff, df_stations, options)"
   ]
  },
  {
   "cell_type": "code",
   "execution_count": 14,
   "metadata": {
    "ExecuteTime": {
     "end_time": "2023-09-08T20:15:25.506679Z",
     "start_time": "2023-09-08T20:15:24.847295Z"
    }
   },
   "outputs": [
    {
     "ename": "NameError",
     "evalue": "name 'df_stage_dff' is not defined",
     "output_type": "error",
     "traceback": [
      "\u001b[1;31m---------------------------------------------------------------------------\u001b[0m",
      "\u001b[1;31mNameError\u001b[0m                                 Traceback (most recent call last)",
      "\u001b[1;32m<ipython-input-14-d733149d8e04>\u001b[0m in \u001b[0;36m<module>\u001b[1;34m\u001b[0m\n\u001b[0;32m      1\u001b[0m \u001b[0moptions\u001b[0m \u001b[1;33m=\u001b[0m \u001b[1;33m{\u001b[0m\u001b[1;34m'yaxis_name'\u001b[0m\u001b[1;33m:\u001b[0m \u001b[1;34m'Daily Mean Stage Difference (ft)'\u001b[0m\u001b[1;33m,\u001b[0m \u001b[1;34m'title'\u001b[0m\u001b[1;33m:\u001b[0m \u001b[1;34m'Stage Monthly Barcharts of Daily Mean Difference'\u001b[0m\u001b[1;33m}\u001b[0m\u001b[1;33m\u001b[0m\u001b[1;33m\u001b[0m\u001b[0m\n\u001b[1;32m----> 2\u001b[1;33m \u001b[0mpdmn\u001b[0m\u001b[1;33m.\u001b[0m\u001b[0mplot_bar_monthly_w_controls\u001b[0m\u001b[1;33m(\u001b[0m\u001b[0mdf_stage_dff\u001b[0m\u001b[1;33m,\u001b[0m \u001b[0mdf_stations\u001b[0m\u001b[1;33m,\u001b[0m \u001b[0moptions\u001b[0m\u001b[1;33m)\u001b[0m\u001b[1;33m\u001b[0m\u001b[1;33m\u001b[0m\u001b[0m\n\u001b[0m",
      "\u001b[1;31mNameError\u001b[0m: name 'df_stage_dff' is not defined"
     ]
    }
   ],
   "source": [
    "# options = {'yaxis_name': 'Daily Mean Stage Difference (ft)', 'title': 'Stage Monthly Barcharts of Daily Mean Difference'}\n",
    "# pdmn.plot_bar_monthly_w_controls(df_stage_dff, df_stations, options)"
   ]
  },
  {
   "cell_type": "code",
   "execution_count": null,
   "metadata": {
    "ExecuteTime": {
     "end_time": "2023-09-08T20:15:25.509666Z",
     "start_time": "2023-09-08T20:13:29.378Z"
    }
   },
   "outputs": [],
   "source": [
    "# options = {'yaxis_name': 'Daily Mean Stage Difference (cfs)', 'title': 'Stage Daily Mean Difference Exceedances'}\n",
    "# pdmn.plot_exceedance_w_variable_station_filters(df_stage_dff, df_stations, options)"
   ]
  },
  {
   "cell_type": "code",
   "execution_count": 15,
   "metadata": {
    "ExecuteTime": {
     "end_time": "2023-09-08T20:15:54.809452Z",
     "start_time": "2023-09-08T20:15:54.489599Z"
    }
   },
   "outputs": [],
   "source": [
    "# options = {'xaxis_name': 'Daily Mean Stage Difference (ft)', 'title': 'Stage Daily Mean Difference Box-Whiskers'}\n",
    "# pdmn.plot_box_w_variable_station_filters(df_stage_dff, df_stations, options)"
   ]
  },
  {
   "cell_type": "markdown",
   "metadata": {},
   "source": [
    "# Stage Daily Min"
   ]
  },
  {
   "cell_type": "code",
   "execution_count": 16,
   "metadata": {
    "ExecuteTime": {
     "end_time": "2023-09-08T20:17:06.788771Z",
     "start_time": "2023-09-08T20:15:54.811452Z"
    }
   },
   "outputs": [],
   "source": [
    "df_dmin = pdmu.prep_df(scenarios,stations_to_read,['STAGE-MIN'],['1DAY'],df_wyt2020,period93)"
   ]
  },
  {
   "cell_type": "code",
   "execution_count": 17,
   "metadata": {
    "ExecuteTime": {
     "end_time": "2023-09-08T20:17:13.675201Z",
     "start_time": "2023-09-08T20:17:06.791757Z"
    },
    "scrolled": false
   },
   "outputs": [
    {
     "data": {
      "application/vnd.jupyter.widget-view+json": {
       "model_id": "2a2693044adf462ca4e95ec037d67eed",
       "version_major": 2,
       "version_minor": 0
      },
      "text/plain": [
       "VBox(children=(FigureWidget({\n",
       "    'data': [{'line': {'shape': 'hv'},\n",
       "              'name': 'EX_2020_DCP',\n",
       "    …"
      ]
     },
     "metadata": {},
     "output_type": "display_data"
    }
   ],
   "source": [
    "options = {'yaxis_name': 'Daily Min Stage (ft)', 'title': 'Stage Daily Min Timelines'}\n",
    "pdmn.plot_step_w_variable_station_filters(df_dmin, df_stations, options)"
   ]
  },
  {
   "cell_type": "code",
   "execution_count": 18,
   "metadata": {
    "ExecuteTime": {
     "end_time": "2023-09-08T20:17:16.528275Z",
     "start_time": "2023-09-08T20:17:13.677192Z"
    },
    "scrolled": false
   },
   "outputs": [
    {
     "data": {
      "application/vnd.jupyter.widget-view+json": {
       "model_id": "2497c5189eb44482adc9fbde3e3cafae",
       "version_major": 2,
       "version_minor": 0
      },
      "text/plain": [
       "VBox(children=(FigureWidget({\n",
       "    'data': [{'name': 'EX_2020_DCP',\n",
       "              'type': 'bar',\n",
       "              …"
      ]
     },
     "metadata": {},
     "output_type": "display_data"
    }
   ],
   "source": [
    "options = {'yaxis_name': 'Daily Min Stage (ft)', 'title': 'Stage Monthly Barcharts of Daily Min'}\n",
    "pdmn.plot_bar_monthly_w_controls(df_dmin, df_stations, options)"
   ]
  },
  {
   "cell_type": "code",
   "execution_count": 19,
   "metadata": {
    "ExecuteTime": {
     "end_time": "2023-09-08T20:17:19.481667Z",
     "start_time": "2023-09-08T20:17:16.530266Z"
    },
    "scrolled": false
   },
   "outputs": [
    {
     "data": {
      "application/vnd.jupyter.widget-view+json": {
       "model_id": "80c8674fb099445fae9b14092a164911",
       "version_major": 2,
       "version_minor": 0
      },
      "text/plain": [
       "VBox(children=(FigureWidget({\n",
       "    'data': [{'name': 'EX_2020_DCP',\n",
       "              'type': 'scatter',\n",
       "          …"
      ]
     },
     "metadata": {},
     "output_type": "display_data"
    }
   ],
   "source": [
    "options = {'yaxis_name': 'Daily Min Stage (ft)', 'title': 'Stage Daily Min Exceedances'}\n",
    "pdmn.plot_exceedance_w_variable_station_filters(df_dmin, df_stations, options)"
   ]
  },
  {
   "cell_type": "code",
   "execution_count": 20,
   "metadata": {
    "ExecuteTime": {
     "end_time": "2023-09-08T20:17:22.438861Z",
     "start_time": "2023-09-08T20:17:19.483659Z"
    },
    "scrolled": false
   },
   "outputs": [
    {
     "data": {
      "application/vnd.jupyter.widget-view+json": {
       "model_id": "604d25a759924e7e9ad098eed4c60a65",
       "version_major": 2,
       "version_minor": 0
      },
      "text/plain": [
       "VBox(children=(FigureWidget({\n",
       "    'data': [{'name': 'EX_2020_DCP',\n",
       "              'type': 'box',\n",
       "              …"
      ]
     },
     "metadata": {},
     "output_type": "display_data"
    }
   ],
   "source": [
    "options = {'xaxis_name': 'Daily Min Stage (ft)', 'title': 'Stage Daily Min Box-Whiskers'}\n",
    "pdmn.plot_box_w_variable_station_filters(df_dmin, df_stations, options)"
   ]
  }
 ],
 "metadata": {
  "kernelspec": {
   "display_name": "Python 3",
   "language": "python",
   "name": "python3"
  },
  "language_info": {
   "codemirror_mode": {
    "name": "ipython",
    "version": 3
   },
   "file_extension": ".py",
   "mimetype": "text/x-python",
   "name": "python",
   "nbconvert_exporter": "python",
   "pygments_lexer": "ipython3",
   "version": "3.7.6"
  },
  "varInspector": {
   "cols": {
    "lenName": 16,
    "lenType": 16,
    "lenVar": 40
   },
   "kernels_config": {
    "python": {
     "delete_cmd_postfix": "",
     "delete_cmd_prefix": "del ",
     "library": "var_list.py",
     "varRefreshCmd": "print(var_dic_list())"
    },
    "r": {
     "delete_cmd_postfix": ") ",
     "delete_cmd_prefix": "rm(",
     "library": "var_list.r",
     "varRefreshCmd": "cat(var_dic_list()) "
    }
   },
   "types_to_exclude": [
    "module",
    "function",
    "builtin_function_or_method",
    "instance",
    "_Feature"
   ],
   "window_display": false
  }
 },
 "nbformat": 4,
 "nbformat_minor": 2
}
