{
 "cells": [
  {
   "cell_type": "markdown",
   "metadata": {},
   "source": [
    "# Python Notebook to Analyze EC Outputs\n",
    "\n",
    "2023-9\n",
    "\n",
    "This tool is a proto-type to visualize EC outputs for DSM2 DCR2021.\n",
    "\n",
    "The input files are post-processd (daily/monthly) DSS files."
   ]
  },
  {
   "cell_type": "code",
   "execution_count": 1,
   "metadata": {
    "ExecuteTime": {
     "end_time": "2023-09-21T22:25:43.666074Z",
     "start_time": "2023-09-21T22:25:43.623916Z"
    }
   },
   "outputs": [],
   "source": [
    "%load_ext autoreload\n",
    "%autoreload 2"
   ]
  },
  {
   "cell_type": "code",
   "execution_count": 2,
   "metadata": {
    "ExecuteTime": {
     "end_time": "2023-09-21T22:25:48.933874Z",
     "start_time": "2023-09-21T22:25:43.668065Z"
    }
   },
   "outputs": [],
   "source": [
    "# Import modules\n",
    "import pandas as pd\n",
    "# import plotly.offline as py\n",
    "# py.init_notebook_mode(connected=True)\n",
    "import pydelmod.utilities as pdmu\n",
    "import pydelmod.nbplot as pdmn"
   ]
  },
  {
   "cell_type": "code",
   "execution_count": 3,
   "metadata": {
    "ExecuteTime": {
     "end_time": "2023-09-21T22:25:49.059322Z",
     "start_time": "2023-09-21T22:25:48.935866Z"
    }
   },
   "outputs": [],
   "source": [
    "# Read output locations\n",
    "fpath_output_locations = \"../info/DSM2_ec_loc.csv\"\n",
    "df_stations = pd.read_csv(fpath_output_locations, comment='#')\n",
    "df_stations['ID'] = [x.upper() for x in df_stations['ID']]\n",
    "station_ids = df_stations['ID'].values\n",
    "stations_to_read = df_stations['ID'].values"
   ]
  },
  {
   "cell_type": "markdown",
   "metadata": {},
   "source": [
    "# Build Dataframe for All the Analyzed Data\n",
    "\n",
    "Only one scenario's Water Year Types (WYT) are used among all scenarios;\n",
    "\n",
    "i.e. users need to confirm all scenarios share the same WYT; otherwise, WYT tabs are not suggest to use\n",
    "\n",
    "Note: different climate change scenarios could have different Water Year types"
   ]
  },
  {
   "cell_type": "code",
   "execution_count": 4,
   "metadata": {
    "ExecuteTime": {
     "end_time": "2023-09-21T22:25:49.337749Z",
     "start_time": "2023-09-21T22:25:49.061313Z"
    }
   },
   "outputs": [
    {
     "ename": "FileNotFoundError",
     "evalue": "Attempt to create file: d:/testDSM2_Planning_2023/delta/DSM2_v822plan/DCR/DCR2021EX/timeseries/CALSIM/DCRBL_DV_6.68.DSS in non-existent directory: d:/testDSM2_Planning_2023/delta/DSM2_v822plan/DCR/DCR2021EX/timeseries/CALSIM ",
     "output_type": "error",
     "traceback": [
      "\u001b[1;31m---------------------------------------------------------------------------\u001b[0m",
      "\u001b[1;31mFileNotFoundError\u001b[0m                         Traceback (most recent call last)",
      "\u001b[1;32m<ipython-input-4-1fa99c8ed920>\u001b[0m in \u001b[0;36m<module>\u001b[1;34m\u001b[0m\n\u001b[0;32m     23\u001b[0m \u001b[1;31m# wyt_c3f2020 = dir2020lto+\"1ex_2020/timeseries/CALSIM/LTO_Study1.6.DSS\"\u001b[0m\u001b[1;33m\u001b[0m\u001b[1;33m\u001b[0m\u001b[1;33m\u001b[0m\u001b[0m\n\u001b[0;32m     24\u001b[0m \u001b[0mwyt_c3f2020\u001b[0m \u001b[1;33m=\u001b[0m \u001b[0mdir2021dcr\u001b[0m\u001b[1;33m+\u001b[0m\u001b[1;34m\"DCR2021EX/timeseries/CALSIM/DCRBL_DV_6.68.DSS\"\u001b[0m\u001b[1;33m\u001b[0m\u001b[1;33m\u001b[0m\u001b[0m\n\u001b[1;32m---> 25\u001b[1;33m \u001b[0mdf_wyt2020\u001b[0m \u001b[1;33m=\u001b[0m \u001b[0mpdmu\u001b[0m\u001b[1;33m.\u001b[0m\u001b[0mread_calsim3_wateryear_types\u001b[0m\u001b[1;33m(\u001b[0m\u001b[0mwyt_c3f2020\u001b[0m\u001b[1;33m)\u001b[0m\u001b[1;33m\u001b[0m\u001b[1;33m\u001b[0m\u001b[0m\n\u001b[0m\u001b[0;32m     26\u001b[0m \u001b[1;33m\u001b[0m\u001b[0m\n\u001b[0;32m     27\u001b[0m \u001b[0mperiod93\u001b[0m \u001b[1;33m=\u001b[0m \u001b[1;33m[\u001b[0m\u001b[1;34m'1922-10-1'\u001b[0m\u001b[1;33m,\u001b[0m\u001b[1;34m'2015-9-30'\u001b[0m\u001b[1;33m]\u001b[0m\u001b[1;33m\u001b[0m\u001b[1;33m\u001b[0m\u001b[0m\n",
      "\u001b[1;32mD:\\DSM2_Planning_2023\\delta\\DSM2_v822plan\\pydelmod_plan\\lib\\site-packages\\pydelmod\\utilities\\utilities.py\u001b[0m in \u001b[0;36mread_calsim3_wateryear_types\u001b[1;34m(fpath, bparts_to_read)\u001b[0m\n\u001b[0;32m    118\u001b[0m             \u001b[1;34m'wy'\u001b[0m\u001b[1;33m,\u001b[0m \u001b[1;34m'sac_yrtype'\u001b[0m\u001b[1;33m\u001b[0m\u001b[1;33m\u001b[0m\u001b[0m\n\u001b[0;32m    119\u001b[0m     \"\"\"\n\u001b[1;32m--> 120\u001b[1;33m     \u001b[0mdf_c3wyt\u001b[0m \u001b[1;33m=\u001b[0m \u001b[0mread_dss_to_df\u001b[0m\u001b[1;33m(\u001b[0m\u001b[0mfpath\u001b[0m\u001b[1;33m,\u001b[0m\u001b[0mbparts_to_read\u001b[0m\u001b[1;33m=\u001b[0m\u001b[0mbparts_to_read\u001b[0m\u001b[1;33m)\u001b[0m\u001b[1;33m\u001b[0m\u001b[1;33m\u001b[0m\u001b[0m\n\u001b[0m\u001b[0;32m    121\u001b[0m     df_c3wyt = df_c3wyt.assign(year=lambda x: x['time'].map(lambda y: y.year),\n\u001b[0;32m    122\u001b[0m                                month=lambda x: x['time'].map(lambda y: y.month))\n",
      "\u001b[1;32mD:\\DSM2_Planning_2023\\delta\\DSM2_v822plan\\pydelmod_plan\\lib\\site-packages\\pydelmod\\utilities\\utilities.py\u001b[0m in \u001b[0;36mread_dss_to_df\u001b[1;34m(fpath, bparts_to_read, cparts_to_read, eparts_to_read, fparts_to_read, start_date_str, end_date_str, with_metadata)\u001b[0m\n\u001b[0;32m    338\u001b[0m     \"\"\"\n\u001b[0;32m    339\u001b[0m     \u001b[0mpyhecdss\u001b[0m\u001b[1;33m.\u001b[0m\u001b[0mset_message_level\u001b[0m\u001b[1;33m(\u001b[0m\u001b[1;36m2\u001b[0m\u001b[1;33m)\u001b[0m\u001b[1;33m\u001b[0m\u001b[1;33m\u001b[0m\u001b[0m\n\u001b[1;32m--> 340\u001b[1;33m     \u001b[0mdssfile\u001b[0m \u001b[1;33m=\u001b[0m \u001b[0mpyhecdss\u001b[0m\u001b[1;33m.\u001b[0m\u001b[0mDSSFile\u001b[0m\u001b[1;33m(\u001b[0m\u001b[0mfpath\u001b[0m\u001b[1;33m)\u001b[0m  \u001b[1;31m# create DSSFile object\u001b[0m\u001b[1;33m\u001b[0m\u001b[1;33m\u001b[0m\u001b[0m\n\u001b[0m\u001b[0;32m    341\u001b[0m     \u001b[0mpaths\u001b[0m \u001b[1;33m=\u001b[0m \u001b[0mdssfile\u001b[0m\u001b[1;33m.\u001b[0m\u001b[0mget_pathnames\u001b[0m\u001b[1;33m(\u001b[0m\u001b[1;33m)\u001b[0m  \u001b[1;31m# fetch all internal paths\u001b[0m\u001b[1;33m\u001b[0m\u001b[1;33m\u001b[0m\u001b[0m\n\u001b[0;32m    342\u001b[0m     \u001b[0mdfs\u001b[0m \u001b[1;33m=\u001b[0m \u001b[1;33m[\u001b[0m\u001b[1;33m]\u001b[0m\u001b[1;33m\u001b[0m\u001b[1;33m\u001b[0m\u001b[0m\n",
      "\u001b[1;32mD:\\DSM2_Planning_2023\\delta\\DSM2_v822plan\\pydelmod_plan\\lib\\site-packages\\pyhecdss\\pyhecdss.py\u001b[0m in \u001b[0;36m__init__\u001b[1;34m(self, fname, create_new)\u001b[0m\n\u001b[0;32m    192\u001b[0m         \"\"\"\n\u001b[0;32m    193\u001b[0m         \u001b[0mself\u001b[0m\u001b[1;33m.\u001b[0m\u001b[0misopen\u001b[0m \u001b[1;33m=\u001b[0m \u001b[1;32mFalse\u001b[0m\u001b[1;33m\u001b[0m\u001b[1;33m\u001b[0m\u001b[0m\n\u001b[1;32m--> 194\u001b[1;33m         \u001b[0mself\u001b[0m\u001b[1;33m.\u001b[0m\u001b[0m_check_dir_exists\u001b[0m\u001b[1;33m(\u001b[0m\u001b[0mfname\u001b[0m\u001b[1;33m)\u001b[0m\u001b[1;33m\u001b[0m\u001b[1;33m\u001b[0m\u001b[0m\n\u001b[0m\u001b[0;32m    195\u001b[0m         \u001b[1;32mif\u001b[0m \u001b[1;32mnot\u001b[0m \u001b[0mcreate_new\u001b[0m\u001b[1;33m:\u001b[0m\u001b[1;33m\u001b[0m\u001b[1;33m\u001b[0m\u001b[0m\n\u001b[0;32m    196\u001b[0m             \u001b[1;32mif\u001b[0m \u001b[1;32mnot\u001b[0m \u001b[0mos\u001b[0m\u001b[1;33m.\u001b[0m\u001b[0mpath\u001b[0m\u001b[1;33m.\u001b[0m\u001b[0mexists\u001b[0m\u001b[1;33m(\u001b[0m\u001b[0mfname\u001b[0m\u001b[1;33m)\u001b[0m \u001b[1;32mand\u001b[0m \u001b[1;32mnot\u001b[0m \u001b[0mos\u001b[0m\u001b[1;33m.\u001b[0m\u001b[0mpath\u001b[0m\u001b[1;33m.\u001b[0m\u001b[0misfile\u001b[0m\u001b[1;33m(\u001b[0m\u001b[0mfname\u001b[0m\u001b[1;33m)\u001b[0m\u001b[1;33m:\u001b[0m\u001b[1;33m\u001b[0m\u001b[1;33m\u001b[0m\u001b[0m\n",
      "\u001b[1;32mD:\\DSM2_Planning_2023\\delta\\DSM2_v822plan\\pydelmod_plan\\lib\\site-packages\\pyhecdss\\pyhecdss.py\u001b[0m in \u001b[0;36m_check_dir_exists\u001b[1;34m(self, fname)\u001b[0m\n\u001b[0;32m    218\u001b[0m         \u001b[1;32melse\u001b[0m\u001b[1;33m:\u001b[0m\u001b[1;33m\u001b[0m\u001b[1;33m\u001b[0m\u001b[0m\n\u001b[0;32m    219\u001b[0m             raise FileNotFoundError(\n\u001b[1;32m--> 220\u001b[1;33m                 \"Attempt to create file: %s in non-existent directory: %s \" % (fname, dname))\n\u001b[0m\u001b[0;32m    221\u001b[0m \u001b[1;33m\u001b[0m\u001b[0m\n\u001b[0;32m    222\u001b[0m     \u001b[1;32mdef\u001b[0m \u001b[0mopen\u001b[0m\u001b[1;33m(\u001b[0m\u001b[0mself\u001b[0m\u001b[1;33m)\u001b[0m\u001b[1;33m:\u001b[0m\u001b[1;33m\u001b[0m\u001b[1;33m\u001b[0m\u001b[0m\n",
      "\u001b[1;31mFileNotFoundError\u001b[0m: Attempt to create file: d:/testDSM2_Planning_2023/delta/DSM2_v822plan/DCR/DCR2021EX/timeseries/CALSIM/DCRBL_DV_6.68.DSS in non-existent directory: d:/testDSM2_Planning_2023/delta/DSM2_v822plan/DCR/DCR2021EX/timeseries/CALSIM "
     ]
    }
   ],
   "source": [
    "# Read in scenarios\n",
    "#dir2020dcp = 'D:/delta_dcp/dsm2v821/studies_dcp_2020/' \n",
    "#dir2040dcp = 'D:/delta_dcp/dsm2v821/studies_dcp_2040/'\n",
    "#dir2021dcr = 'D:/delta/LTO_DSM2_v822plan/DCR/'\n",
    "\n",
    "dir2021dcr = 'd:/DSM2_Planning_2023/delta/DSM2_v822plan/DCR/'\n",
    "dir2021ex = 'd:/DSM2_Planning_2023/delta/DSM2_v822plan/DCR/DCR2021EX/'\n",
    "dir2021fc = 'd:/DSM2_Planning_2023/delta/DSM2_v822plan/DCR/DCR2021FC/'\n",
    "\n",
    "\n",
    "# dir2020lto = dir2020lto_backup\n",
    "scenarios = [\n",
    "#              {'name': 'EX_2020_DCP', 'fpath': dir2020dcp+\"ex_2020/output/dcp_ex_2020_ec_p.DSS\"},\n",
    "##             {'name': 'DCR2021_EX2020',   'fpath': dir2021dcr+\"DCR2021EX/output/dcr2021ex_ec_p.DSS\"},\n",
    "#              {'name': 'NAA_2040_DCP', 'fpath': dir2040dcp+\"naa_2040/output/dcp_naa_2040slr18_ec_p.DSS\"},\n",
    "##             {'name': 'DCR2021_FC2040',   'fpath': dir2021dcr+\"DCR2021FC/output/dcr2021fc_ec_p.DSS\"},\n",
    "#              {'name': 'DCR2021CC',   'fpath': dir2021dcr+\"DCR2021CC/output/dcr2021cc_ec_p.DSS\"},\n",
    "            {'name': 'EX_2021_DCR',     'fpath': dir2021ex+\"output/DCR2021EX_EC_p.dss\"},\n",
    "            {'name': 'FC_2021_DCR',     'fpath': dir2021fc+\"output/DCR2021FC_EC_p.dss\"}\n",
    "            ]\n",
    "# Read water year types\n",
    "# wyt_c3f2020 = dir2020dcp+\"ex_2020/timeseries/CALSIM/0_DCR19_12.30_120621_NDDOff_2020.DSS\"\n",
    "# wyt_c3f2020 = dir2020lto+\"1ex_2020/timeseries/CALSIM/LTO_Study1.6.DSS\"\n",
    "wyt_c3f2020 = dir2021dcr+\"DCR2021EX/timeseries/CALSIM/DCRBL_DV_6.68.DSS\"\n",
    "df_wyt2020 = pdmu.read_calsim3_wateryear_types(wyt_c3f2020)\n",
    "\n",
    "period93 = ['1922-10-1','2015-9-30']"
   ]
  },
  {
   "cell_type": "markdown",
   "metadata": {},
   "source": [
    "# EC Daily Mean"
   ]
  },
  {
   "cell_type": "code",
   "execution_count": null,
   "metadata": {
    "ExecuteTime": {
     "end_time": "2023-09-21T22:25:49.342727Z",
     "start_time": "2023-09-21T22:25:43.626Z"
    }
   },
   "outputs": [],
   "source": [
    "df_davg = pdmu.prep_df(scenarios,stations_to_read,['EC-MEAN'],['1DAY'],df_wyt2020,period93)"
   ]
  },
  {
   "cell_type": "markdown",
   "metadata": {
    "ExecuteTime": {
     "end_time": "2023-09-18T22:28:38.288081Z",
     "start_time": "2023-09-18T22:28:37.555590Z"
    },
    "scrolled": false
   },
   "source": [
    "##### options = {'yaxis_name': 'Daily Mean EC (mmhos/cm)', 'title': 'EC Daily Mean Timelines'}\n",
    "pdmn.plot_step_w_variable_station_filters(df_davg, df_stations, options)"
   ]
  },
  {
   "cell_type": "code",
   "execution_count": null,
   "metadata": {
    "ExecuteTime": {
     "end_time": "2023-09-21T22:25:49.343723Z",
     "start_time": "2023-09-21T22:25:43.627Z"
    },
    "scrolled": false
   },
   "outputs": [],
   "source": [
    "options = {'yaxis_name': 'Daily Mean EC (mmhos/cm)', 'title': 'EC Monthly Barcharts of Daily Mean'}\n",
    "pdmn.plot_bar_monthly_w_controls(df_davg, df_stations, options)"
   ]
  },
  {
   "cell_type": "code",
   "execution_count": null,
   "metadata": {
    "ExecuteTime": {
     "end_time": "2023-09-21T22:25:49.344720Z",
     "start_time": "2023-09-21T22:25:43.627Z"
    },
    "scrolled": false
   },
   "outputs": [],
   "source": [
    "options = {'yaxis_name': 'Daily Mean EC (mmhos/cm)', 'title': 'EC Daily Mean Exceedances'}\n",
    "pdmn.plot_exceedance_w_variable_station_filters(df_davg, df_stations, options)"
   ]
  },
  {
   "cell_type": "code",
   "execution_count": null,
   "metadata": {
    "ExecuteTime": {
     "end_time": "2023-09-21T22:25:49.344720Z",
     "start_time": "2023-09-21T22:25:43.628Z"
    },
    "scrolled": false
   },
   "outputs": [],
   "source": [
    "options = {'xaxis_name': 'Daily Mean EC (mmhos/cm)', 'title': 'EC Daily Mean Box-Whiskers'}\n",
    "pdmn.plot_box_w_variable_station_filters(df_davg, df_stations, options)"
   ]
  },
  {
   "cell_type": "markdown",
   "metadata": {},
   "source": [
    "### EC Daily Mean Diff"
   ]
  },
  {
   "cell_type": "code",
   "execution_count": null,
   "metadata": {
    "ExecuteTime": {
     "end_time": "2023-09-21T22:25:49.346709Z",
     "start_time": "2023-09-21T22:25:43.629Z"
    },
    "scrolled": true
   },
   "outputs": [],
   "source": [
    "# df_davg1 = df_davg[df_davg['scenario_name']=='EX_2020']\n",
    "# df_davg2 = df_davg[df_davg['scenario_name']=='PA6K_2020']\n",
    "# df_davg_dff = df_davg1.copy()\n",
    "# df_davg_dff['scenario_name'] = 'PA6K-EX_2020'\n",
    "# df_davg_dff['value'] = df_davg2['value'] - df_davg1['value']\n",
    "# # df_davg_dff"
   ]
  },
  {
   "cell_type": "code",
   "execution_count": null,
   "metadata": {
    "ExecuteTime": {
     "end_time": "2023-09-21T22:25:49.347704Z",
     "start_time": "2023-09-21T22:25:43.629Z"
    }
   },
   "outputs": [],
   "source": [
    "# options = {'yaxis_name': 'Daily Mean EC Difference (mmhos/cm)', 'title': 'EC Daily Mean Difference Timelines'}\n",
    "# pdmn.plot_step_w_variable_station_filters(df_davg_dff, df_stations, options)"
   ]
  },
  {
   "cell_type": "code",
   "execution_count": null,
   "metadata": {
    "ExecuteTime": {
     "end_time": "2023-09-21T22:25:49.348700Z",
     "start_time": "2023-09-21T22:25:43.630Z"
    }
   },
   "outputs": [],
   "source": [
    "# options = {'yaxis_name': 'Daily Mean EC Difference (mmhos/cm)', 'title': 'EC Monthly Barcharts of Daily Mean Difference'}\n",
    "# pdmn.plot_bar_monthly_w_controls(df_davg_dff, df_stations, options)"
   ]
  },
  {
   "cell_type": "code",
   "execution_count": null,
   "metadata": {
    "ExecuteTime": {
     "end_time": "2023-09-21T22:25:49.349696Z",
     "start_time": "2023-09-21T22:25:43.631Z"
    }
   },
   "outputs": [],
   "source": [
    "# options = {'yaxis_name': 'Daily Mean EC Difference (mmhos/cm)', 'title': 'EC Daily Mean Difference Exceedances'}\n",
    "# pdmn.plot_exceedance_w_variable_station_filters(df_davg_dff, df_stations, options)"
   ]
  },
  {
   "cell_type": "code",
   "execution_count": null,
   "metadata": {
    "ExecuteTime": {
     "end_time": "2023-09-21T22:25:49.350692Z",
     "start_time": "2023-09-21T22:25:43.631Z"
    }
   },
   "outputs": [],
   "source": [
    "# options = {'xaxis_name': 'Daily Mean EC Difference (mmhos/cm)', 'title': 'EC Daily Mean Difference Box-Whiskers'}\n",
    "# pdmn.plot_box_w_variable_station_filters(df_davg_dff, df_stations, options)"
   ]
  },
  {
   "cell_type": "markdown",
   "metadata": {},
   "source": [
    "# EC Monthly Mean"
   ]
  },
  {
   "cell_type": "code",
   "execution_count": null,
   "metadata": {
    "ExecuteTime": {
     "end_time": "2023-09-21T22:25:49.350692Z",
     "start_time": "2023-09-21T22:25:43.632Z"
    }
   },
   "outputs": [],
   "source": [
    "# df_mavg = pdmu.prep_df(scenarios,stations_to_read,['EC-MEAN'],['1MON'],df_wyt2020,period93)"
   ]
  },
  {
   "cell_type": "code",
   "execution_count": null,
   "metadata": {
    "ExecuteTime": {
     "end_time": "2023-09-21T22:25:49.351687Z",
     "start_time": "2023-09-21T22:25:43.632Z"
    },
    "scrolled": false
   },
   "outputs": [],
   "source": [
    "# options = {'yaxis_name': 'Monthly Mean EC (mmhos/cm)', 'title': 'EC Monthly Mean Timelines'}\n",
    "# pdmn.plot_step_w_variable_station_filters(df_mavg, df_stations,options)"
   ]
  },
  {
   "cell_type": "code",
   "execution_count": null,
   "metadata": {
    "ExecuteTime": {
     "end_time": "2023-09-21T22:25:49.352683Z",
     "start_time": "2023-09-21T22:25:43.633Z"
    },
    "scrolled": false
   },
   "outputs": [],
   "source": [
    "# options = {'yaxis_name': 'Monthly Mean EC (mmhos/cm)', 'title': 'EC Monthly Barcharts of Monthly Mean'}\n",
    "# pdmn.plot_bar_monthly_w_controls(df_mavg, df_stations, options)"
   ]
  },
  {
   "cell_type": "code",
   "execution_count": null,
   "metadata": {
    "ExecuteTime": {
     "end_time": "2023-09-21T22:25:49.353679Z",
     "start_time": "2023-09-21T22:25:43.634Z"
    }
   },
   "outputs": [],
   "source": [
    "# options = {'yaxis_name': 'Monthly Mean EC (mmhos/cm)', 'title': 'EC Monthly Mean Exceedances'}\n",
    "# pdmn.plot_exceedance_w_variable_station_filters(df_mavg, df_stations, options)"
   ]
  },
  {
   "cell_type": "code",
   "execution_count": null,
   "metadata": {
    "ExecuteTime": {
     "end_time": "2023-09-21T22:25:49.354674Z",
     "start_time": "2023-09-21T22:25:43.634Z"
    },
    "scrolled": false
   },
   "outputs": [],
   "source": [
    "# options = {'xaxis_name': 'Monthly Mean EC (mmhos/cm)', 'title': 'EC Monthly Mean Box-Whiskers'}\n",
    "# pdmn.plot_box_w_variable_station_filters(df_mavg, df_stations, options)"
   ]
  },
  {
   "cell_type": "code",
   "execution_count": null,
   "metadata": {},
   "outputs": [],
   "source": []
  }
 ],
 "metadata": {
  "kernelspec": {
   "display_name": "Python 3",
   "language": "python",
   "name": "python3"
  },
  "language_info": {
   "codemirror_mode": {
    "name": "ipython",
    "version": 3
   },
   "file_extension": ".py",
   "mimetype": "text/x-python",
   "name": "python",
   "nbconvert_exporter": "python",
   "pygments_lexer": "ipython3",
   "version": "3.7.6"
  },
  "varInspector": {
   "cols": {
    "lenName": 16,
    "lenType": 16,
    "lenVar": 40
   },
   "kernels_config": {
    "python": {
     "delete_cmd_postfix": "",
     "delete_cmd_prefix": "del ",
     "library": "var_list.py",
     "varRefreshCmd": "print(var_dic_list())"
    },
    "r": {
     "delete_cmd_postfix": ") ",
     "delete_cmd_prefix": "rm(",
     "library": "var_list.r",
     "varRefreshCmd": "cat(var_dic_list()) "
    }
   },
   "types_to_exclude": [
    "module",
    "function",
    "builtin_function_or_method",
    "instance",
    "_Feature"
   ],
   "window_display": false
  }
 },
 "nbformat": 4,
 "nbformat_minor": 2
}
