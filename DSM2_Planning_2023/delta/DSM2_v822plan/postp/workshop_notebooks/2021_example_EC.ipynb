{
 "cells": [
  {
   "cell_type": "markdown",
   "metadata": {},
   "source": [
    "# Jupyter Notebook to Analyze EC Outputs\n",
    "\n",
    "2023-9\n",
    "\n",
    "This notebook is used to visualize EC outputs for DSM2 planning studies.\n",
    "\n",
    "The input files are post-processd (daily/monthly) DSS files."
   ]
  },
  {
   "cell_type": "code",
   "execution_count": 50,
   "metadata": {
    "ExecuteTime": {
     "end_time": "2023-10-10T19:57:13.291288Z",
     "start_time": "2023-10-10T19:57:12.964724Z"
    }
   },
   "outputs": [
    {
     "name": "stdout",
     "output_type": "stream",
     "text": [
      "The autoreload extension is already loaded. To reload it, use:\n",
      "  %reload_ext autoreload\n"
     ]
    }
   ],
   "source": [
    "%load_ext autoreload\n",
    "%autoreload 2"
   ]
  },
  {
   "cell_type": "code",
   "execution_count": 51,
   "metadata": {
    "ExecuteTime": {
     "end_time": "2023-10-10T19:57:13.605742Z",
     "start_time": "2023-10-10T19:57:13.293277Z"
    }
   },
   "outputs": [],
   "source": [
    "# Import modules\n",
    "import pandas as pd\n",
    "# import plotly.offline as py\n",
    "# py.init_notebook_mode(connected=True)\n",
    "import pydelmod.utilities as pdmu\n",
    "import pydelmod.nbplot as pdmn"
   ]
  },
  {
   "cell_type": "code",
   "execution_count": 52,
   "metadata": {
    "ExecuteTime": {
     "end_time": "2023-10-10T19:57:13.932233Z",
     "start_time": "2023-10-10T19:57:13.607734Z"
    }
   },
   "outputs": [],
   "source": [
    "# Read output locations\n",
    "fpath_output_locations = \"../info/DSM2_ec_loc.csv\"\n",
    "df_stations = pd.read_csv(fpath_output_locations, comment='#')\n",
    "df_stations['ID'] = [x.upper() for x in df_stations['ID']]\n",
    "station_ids = df_stations['ID'].values\n",
    "stations_to_read = df_stations['ID'].values"
   ]
  },
  {
   "cell_type": "markdown",
   "metadata": {},
   "source": [
    "# Build Dataframe for All the Analyzed Data\n",
    "\n",
    "Only one scenario's Water Year Types (WYT) are used among all scenarios;\n",
    "\n",
    "i.e. users need to confirm all scenarios share the same WYT; otherwise, WYT tabs are not suggest to use\n",
    "\n",
    "Note: different climate change scenarios could have different Water Year types"
   ]
  },
  {
   "cell_type": "code",
   "execution_count": 53,
   "metadata": {
    "ExecuteTime": {
     "end_time": "2023-10-10T19:57:38.160173Z",
     "start_time": "2023-10-10T19:57:13.934224Z"
    }
   },
   "outputs": [],
   "source": [
    "# Read in scenarios\n",
    "dir_plan = 'd:/DSM2_Planning_2023/delta/DSM2_v822plan/studies_planning/'\n",
    "dir2021base = dir_plan+'baseline/'\n",
    "dir2040alt = dir_plan+'alternative/'\n",
    "\n",
    "scenarios = [\n",
    "            {'name': 'baseline',        'fpath': dir2021base+\"output/2021ex_EC_p.dss\"},\n",
    "            {'name': 'alternative',     'fpath': dir2040alt+\"output/2040alt_EC_p.dss\"}\n",
    "]\n",
    "\n",
    "# Add a wateryear type column\n",
    "wyt_c3f2020 = dir_plan+\"baseline/timeseries/CALSIM/calsim_2021ex.DSS\"\n",
    "df_wyt2020 = pdmu.read_calsim3_wateryear_types(wyt_c3f2020)\n",
    "\n",
    "period93 = ['1922-10-1','2015-9-30']"
   ]
  },
  {
   "cell_type": "markdown",
   "metadata": {},
   "source": [
    "# EC Daily Mean"
   ]
  },
  {
   "cell_type": "code",
   "execution_count": 54,
   "metadata": {
    "ExecuteTime": {
     "end_time": "2023-10-10T19:58:19.987955Z",
     "start_time": "2023-10-10T19:57:38.162164Z"
    }
   },
   "outputs": [],
   "source": [
    "df_davg = pdmu.prep_df(scenarios,stations_to_read,['EC-MEAN'],['1DAY'],df_wyt2020,period93)"
   ]
  },
  {
   "cell_type": "markdown",
   "metadata": {
    "ExecuteTime": {
     "end_time": "2023-09-18T22:28:38.288081Z",
     "start_time": "2023-09-18T22:28:37.555590Z"
    },
    "scrolled": false
   },
   "source": [
    "##### options = {'yaxis_name': 'Daily Mean EC (mmhos/cm)', 'title': 'EC Daily Mean Timelines'}\n",
    "pdmn.plot_step_w_variable_station_filters(df_davg, df_stations, options)"
   ]
  },
  {
   "cell_type": "code",
   "execution_count": 55,
   "metadata": {
    "ExecuteTime": {
     "end_time": "2023-10-10T19:58:21.839274Z",
     "start_time": "2023-10-10T19:58:19.991937Z"
    },
    "scrolled": false
   },
   "outputs": [
    {
     "data": {
      "application/vnd.jupyter.widget-view+json": {
       "model_id": "7bc2e258ed424e83845cfea38c24efde",
       "version_major": 2,
       "version_minor": 0
      },
      "text/plain": [
       "VBox(children=(FigureWidget({\n",
       "    'data': [{'name': 'baseline',\n",
       "              'type': 'bar',\n",
       "              'ui…"
      ]
     },
     "metadata": {},
     "output_type": "display_data"
    }
   ],
   "source": [
    "options = {'yaxis_name': 'Daily Mean EC (mmhos/cm)', 'title': 'EC Monthly Barcharts of Daily Mean'}\n",
    "pdmn.plot_bar_monthly_w_controls(df_davg, df_stations, options)"
   ]
  },
  {
   "cell_type": "code",
   "execution_count": 56,
   "metadata": {
    "ExecuteTime": {
     "end_time": "2023-10-10T19:58:23.815502Z",
     "start_time": "2023-10-10T19:58:21.846243Z"
    },
    "scrolled": false
   },
   "outputs": [
    {
     "data": {
      "application/vnd.jupyter.widget-view+json": {
       "model_id": "57298c4cd5674d4ca430be19761e3c67",
       "version_major": 2,
       "version_minor": 0
      },
      "text/plain": [
       "VBox(children=(FigureWidget({\n",
       "    'data': [{'name': 'baseline',\n",
       "              'type': 'scatter',\n",
       "             …"
      ]
     },
     "metadata": {},
     "output_type": "display_data"
    }
   ],
   "source": [
    "options = {'yaxis_name': 'Daily Mean EC (mmhos/cm)', 'title': 'EC Daily Mean Exceedances'}\n",
    "pdmn.plot_exceedance_w_variable_station_filters(df_davg, df_stations, options)"
   ]
  },
  {
   "cell_type": "code",
   "execution_count": 57,
   "metadata": {
    "ExecuteTime": {
     "end_time": "2023-10-10T19:58:25.829210Z",
     "start_time": "2023-10-10T19:58:23.822472Z"
    },
    "scrolled": false
   },
   "outputs": [
    {
     "data": {
      "application/vnd.jupyter.widget-view+json": {
       "model_id": "519ef24c72e246fd94bba5889643f96b",
       "version_major": 2,
       "version_minor": 0
      },
      "text/plain": [
       "VBox(children=(FigureWidget({\n",
       "    'data': [{'name': 'baseline',\n",
       "              'type': 'box',\n",
       "              'ui…"
      ]
     },
     "metadata": {},
     "output_type": "display_data"
    }
   ],
   "source": [
    "options = {'xaxis_name': 'Daily Mean EC (mmhos/cm)', 'title': 'EC Daily Mean Box-Whiskers'}\n",
    "pdmn.plot_box_w_variable_station_filters(df_davg, df_stations, options)"
   ]
  },
  {
   "cell_type": "markdown",
   "metadata": {},
   "source": [
    "### EC Daily Mean Diff"
   ]
  },
  {
   "cell_type": "code",
   "execution_count": 58,
   "metadata": {
    "ExecuteTime": {
     "end_time": "2023-10-10T19:58:26.152402Z",
     "start_time": "2023-10-10T19:58:25.831201Z"
    },
    "scrolled": true
   },
   "outputs": [],
   "source": [
    "# df_davg1 = df_davg[df_davg['scenario_name']=='EX_2020']\n",
    "# df_davg2 = df_davg[df_davg['scenario_name']=='PA6K_2020']\n",
    "# df_davg_dff = df_davg1.copy()\n",
    "# df_davg_dff['scenario_name'] = 'PA6K-EX_2020'\n",
    "# df_davg_dff['value'] = df_davg2['value'] - df_davg1['value']\n",
    "# df_davg_dff"
   ]
  },
  {
   "cell_type": "code",
   "execution_count": 59,
   "metadata": {
    "ExecuteTime": {
     "end_time": "2023-10-10T19:58:26.475976Z",
     "start_time": "2023-10-10T19:58:26.154393Z"
    }
   },
   "outputs": [],
   "source": [
    "# options = {'yaxis_name': 'Daily Mean EC Difference (mmhos/cm)', 'title': 'EC Daily Mean Difference Timelines'}\n",
    "# pdmn.plot_step_w_variable_station_filters(df_davg_dff, df_stations, options)"
   ]
  },
  {
   "cell_type": "code",
   "execution_count": 60,
   "metadata": {
    "ExecuteTime": {
     "end_time": "2023-10-10T19:58:26.802266Z",
     "start_time": "2023-10-10T19:58:26.477968Z"
    }
   },
   "outputs": [],
   "source": [
    "# options = {'yaxis_name': 'Daily Mean EC Difference (mmhos/cm)', 'title': 'EC Monthly Barcharts of Daily Mean Difference'}\n",
    "# pdmn.plot_bar_monthly_w_controls(df_davg_dff, df_stations, options)"
   ]
  },
  {
   "cell_type": "code",
   "execution_count": 61,
   "metadata": {
    "ExecuteTime": {
     "end_time": "2023-10-10T19:58:27.124169Z",
     "start_time": "2023-10-10T19:58:26.804258Z"
    }
   },
   "outputs": [],
   "source": [
    "# options = {'yaxis_name': 'Daily Mean EC Difference (mmhos/cm)', 'title': 'EC Daily Mean Difference Exceedances'}\n",
    "# pdmn.plot_exceedance_w_variable_station_filters(df_davg_dff, df_stations, options)"
   ]
  },
  {
   "cell_type": "code",
   "execution_count": 62,
   "metadata": {
    "ExecuteTime": {
     "end_time": "2023-10-10T19:58:27.442766Z",
     "start_time": "2023-10-10T19:58:27.126160Z"
    }
   },
   "outputs": [],
   "source": [
    "# options = {'xaxis_name': 'Daily Mean EC Difference (mmhos/cm)', 'title': 'EC Daily Mean Difference Box-Whiskers'}\n",
    "# pdmn.plot_box_w_variable_station_filters(df_davg_dff, df_stations, options)"
   ]
  },
  {
   "cell_type": "markdown",
   "metadata": {},
   "source": [
    "# EC Monthly Mean"
   ]
  },
  {
   "cell_type": "code",
   "execution_count": 63,
   "metadata": {
    "ExecuteTime": {
     "end_time": "2023-10-10T19:58:27.762926Z",
     "start_time": "2023-10-10T19:58:27.444758Z"
    }
   },
   "outputs": [],
   "source": [
    "# df_mavg = pdmu.prep_df(scenarios,stations_to_read,['EC-MEAN'],['1MON'],df_wyt2020,period93)"
   ]
  },
  {
   "cell_type": "code",
   "execution_count": 64,
   "metadata": {
    "ExecuteTime": {
     "end_time": "2023-10-10T19:58:28.086623Z",
     "start_time": "2023-10-10T19:58:27.764917Z"
    },
    "scrolled": false
   },
   "outputs": [],
   "source": [
    "# options = {'yaxis_name': 'Monthly Mean EC (mmhos/cm)', 'title': 'EC Monthly Mean Timelines'}\n",
    "# pdmn.plot_step_w_variable_station_filters(df_mavg, df_stations,options)"
   ]
  },
  {
   "cell_type": "code",
   "execution_count": 65,
   "metadata": {
    "ExecuteTime": {
     "end_time": "2023-10-10T19:58:28.398251Z",
     "start_time": "2023-10-10T19:58:28.088614Z"
    },
    "scrolled": false
   },
   "outputs": [],
   "source": [
    "# options = {'yaxis_name': 'Monthly Mean EC (mmhos/cm)', 'title': 'EC Monthly Barcharts of Monthly Mean'}\n",
    "# pdmn.plot_bar_monthly_w_controls(df_mavg, df_stations, options)"
   ]
  },
  {
   "cell_type": "code",
   "execution_count": 66,
   "metadata": {
    "ExecuteTime": {
     "end_time": "2023-10-10T19:58:28.710141Z",
     "start_time": "2023-10-10T19:58:28.400242Z"
    }
   },
   "outputs": [],
   "source": [
    "# options = {'yaxis_name': 'Monthly Mean EC (mmhos/cm)', 'title': 'EC Monthly Mean Exceedances'}\n",
    "# pdmn.plot_exceedance_w_variable_station_filters(df_mavg, df_stations, options)"
   ]
  },
  {
   "cell_type": "code",
   "execution_count": 67,
   "metadata": {
    "ExecuteTime": {
     "end_time": "2023-10-10T19:58:29.033466Z",
     "start_time": "2023-10-10T19:58:28.712132Z"
    },
    "scrolled": false
   },
   "outputs": [],
   "source": [
    "# options = {'xaxis_name': 'Monthly Mean EC (mmhos/cm)', 'title': 'EC Monthly Mean Box-Whiskers'}\n",
    "# pdmn.plot_box_w_variable_station_filters(df_mavg, df_stations, options)"
   ]
  },
  {
   "cell_type": "code",
   "execution_count": null,
   "metadata": {},
   "outputs": [],
   "source": []
  }
 ],
 "metadata": {
  "kernelspec": {
   "display_name": "Python 3",
   "language": "python",
   "name": "python3"
  },
  "language_info": {
   "codemirror_mode": {
    "name": "ipython",
    "version": 3
   },
   "file_extension": ".py",
   "mimetype": "text/x-python",
   "name": "python",
   "nbconvert_exporter": "python",
   "pygments_lexer": "ipython3",
   "version": "3.7.6"
  },
  "varInspector": {
   "cols": {
    "lenName": 16,
    "lenType": 16,
    "lenVar": 40
   },
   "kernels_config": {
    "python": {
     "delete_cmd_postfix": "",
     "delete_cmd_prefix": "del ",
     "library": "var_list.py",
     "varRefreshCmd": "print(var_dic_list())"
    },
    "r": {
     "delete_cmd_postfix": ") ",
     "delete_cmd_prefix": "rm(",
     "library": "var_list.r",
     "varRefreshCmd": "cat(var_dic_list()) "
    }
   },
   "types_to_exclude": [
    "module",
    "function",
    "builtin_function_or_method",
    "instance",
    "_Feature"
   ],
   "window_display": false
  }
 },
 "nbformat": 4,
 "nbformat_minor": 2
}
