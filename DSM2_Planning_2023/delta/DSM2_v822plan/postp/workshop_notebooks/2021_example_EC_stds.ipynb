{
 "cells": [
  {
   "cell_type": "markdown",
   "metadata": {},
   "source": [
    "# Jupyter Notebook to Analyze EC Standards\n",
    "\n",
    "2023-9\n",
    "\n",
    "This notebook is used to compare EC outputs to EC standards for DSM2 planning studies.\n",
    "\n",
    "The input files are post-processd (daily/monthly) DSS files."
   ]
  },
  {
   "cell_type": "code",
   "execution_count": 1,
   "metadata": {
    "ExecuteTime": {
     "end_time": "2023-10-10T19:14:17.891757Z",
     "start_time": "2023-10-10T19:14:17.817305Z"
    }
   },
   "outputs": [],
   "source": [
    "%load_ext autoreload\n",
    "%autoreload 2"
   ]
  },
  {
   "cell_type": "code",
   "execution_count": 2,
   "metadata": {
    "ExecuteTime": {
     "end_time": "2023-10-10T19:14:19.513350Z",
     "start_time": "2023-10-10T19:14:17.893748Z"
    }
   },
   "outputs": [],
   "source": [
    "# Import modules\n",
    "import pandas as pd\n",
    "# import plotly.offline as py\n",
    "# py.init_notebook_mode(connected=True)\n",
    "import pydelmod.utilities as pdmu\n",
    "import pydelmod.nbplot as pdmn"
   ]
  },
  {
   "cell_type": "code",
   "execution_count": 3,
   "metadata": {
    "ExecuteTime": {
     "end_time": "2023-10-10T19:14:19.637802Z",
     "start_time": "2023-10-10T19:14:19.515342Z"
    }
   },
   "outputs": [],
   "source": [
    "# Read output locations\n",
    "fpath_output_locations = \"../info/DSM2_ec_loc_stds.csv\"\n",
    "df_stations = pd.read_csv(fpath_output_locations, comment='#')\n",
    "df_stations['ID'] = [x.upper() for x in df_stations['ID']]\n",
    "station_ids = df_stations['ID'].values\n",
    "stations_to_read = df_stations['ID'].values"
   ]
  },
  {
   "cell_type": "markdown",
   "metadata": {},
   "source": [
    "# Build Dataframe for All the Analyzed Data\n",
    "\n",
    "Only one scenario's Water Year Types (WYT) are used among all scenarios;\n",
    "\n",
    "i.e. users need to confirm all scenarios share the same WYT; otherwise, WYT tabs and calculation are not suggest to use\n",
    "\n",
    "Note: different climate change scenarios could have different Water Year types"
   ]
  },
  {
   "cell_type": "code",
   "execution_count": 4,
   "metadata": {
    "ExecuteTime": {
     "end_time": "2023-10-10T19:14:45.328007Z",
     "start_time": "2023-10-10T19:14:19.640790Z"
    }
   },
   "outputs": [],
   "source": [
    "# Read in scenarios\n",
    "dir_plan = 'd:/DSM2_Planning_2023/delta/DSM2_v822plan/studies_planning/'\n",
    "dir2021base = dir_plan+'baseline/'\n",
    "dir2040alt = dir_plan+'alternative/'\n",
    "\n",
    "scenarios = [\n",
    "            {'name': 'baseline',        'fpath': dir2021base+\"output/2021ex_EC_p.dss\"},\n",
    "            {'name': 'alternative',     'fpath': dir2040alt+\"output/2040alt_EC_p.dss\"}\n",
    "]\n",
    "\n",
    "# Add a wateryear type column\n",
    "wyt_c3f2020 = dir_plan+\"baseline/timeseries/CALSIM/calsim_2021ex.DSS\"\n",
    "df_wyt2020 = pdmu.read_calsim3_wateryear_types(wyt_c3f2020)\n",
    "\n",
    "period93 = ['1922-10-1','2015-9-30']"
   ]
  },
  {
   "cell_type": "code",
   "execution_count": 5,
   "metadata": {
    "ExecuteTime": {
     "end_time": "2023-10-10T19:15:08.169594Z",
     "start_time": "2023-10-10T19:14:45.329999Z"
    }
   },
   "outputs": [],
   "source": [
    "# df_ec = pdmu.prep_df(scenarios,stations_to_read,['EC-MEAN', 'EC-MAX', 'EC-HT-MEAN'],['1DAY', '1MON'],df_wyt2020,period93)\n",
    "df_ec = pdmu.prep_df(scenarios,stations_to_read,['EC-MEAN'],['1DAY'],df_wyt2020,period93)\n",
    "df_1day = df_ec[df_ec['interval'] == '1DAY']\n",
    "df_davg = df_1day[df_1day['variable'] == 'EC-MEAN']"
   ]
  },
  {
   "cell_type": "markdown",
   "metadata": {},
   "source": [
    "## D1641 Agricultural Standards"
   ]
  },
  {
   "cell_type": "markdown",
   "metadata": {},
   "source": [
    "Check D1641 details\n",
    "\n",
    "https://www.waterboards.ca.gov/waterrights/board_decisions/adopted_orders/decisions/d1600_d1649/wrd1641_1999dec29.pdf\n",
    "\n",
    "Page 182-187, Table 2-3"
   ]
  },
  {
   "cell_type": "markdown",
   "metadata": {},
   "source": [
    "### D1641_AG West&Interior Delta: 14-day running average of daily mean EC"
   ]
  },
  {
   "cell_type": "code",
   "execution_count": 6,
   "metadata": {
    "ExecuteTime": {
     "end_time": "2023-10-10T19:15:09.392002Z",
     "start_time": "2023-10-10T19:15:08.171585Z"
    }
   },
   "outputs": [],
   "source": [
    "fpath_d1641_ag = '../info/D1641_AG_wiDelta.csv'\n",
    "df_reg_ag = pdmu.read_regulations(fpath_d1641_ag, df_wyt2020)\n",
    "df_reg_ag['value'] = df_reg_ag['value'] * 1000.  # Convert milli to micro\n",
    "reg_ag_loc = df_reg_ag.location.unique()\n",
    "df_stations_reg_ag = df_stations[df_stations['ID'].isin(reg_ag_loc)]\n",
    "# df_stations_reg_ag"
   ]
  },
  {
   "cell_type": "code",
   "execution_count": 7,
   "metadata": {
    "ExecuteTime": {
     "end_time": "2023-10-10T19:15:09.666792Z",
     "start_time": "2023-10-10T19:15:09.393993Z"
    },
    "scrolled": true
   },
   "outputs": [],
   "source": [
    "# df_1day = df_ec[df_ec['interval'] == '1DAY']\n",
    "# df_davg = df_1day[df_1day['variable'] == 'EC-MEAN']\n",
    "df_davg_ag = df_davg[df_davg['station'].isin(reg_ag_loc)]"
   ]
  },
  {
   "cell_type": "code",
   "execution_count": 8,
   "metadata": {
    "ExecuteTime": {
     "end_time": "2023-10-10T19:15:12.175773Z",
     "start_time": "2023-10-10T19:15:09.669778Z"
    }
   },
   "outputs": [],
   "source": [
    "# Get the time range from the data set\n",
    "df_reg_ag_ts = pdmu.generate_regulation_timeseries(df_reg_ag, df_davg_ag, freq='D')\n",
    "df_reg_ag_ts['variable'] = 'EC-MEAN-14DAY'\n",
    "df_reg_ag_ts['scenario_name'] = 'D1641 AG WI'\n",
    "# df_reg_ag_ts.hvplot.line()"
   ]
  },
  {
   "cell_type": "code",
   "execution_count": 9,
   "metadata": {
    "ExecuteTime": {
     "end_time": "2023-10-10T19:15:20.538012Z",
     "start_time": "2023-10-10T19:15:12.177764Z"
    },
    "scrolled": false
   },
   "outputs": [
    {
     "data": {
      "application/vnd.jupyter.widget-view+json": {
       "model_id": "51cbb26d6a4e445e8fcc07e65f03d340",
       "version_major": 2,
       "version_minor": 0
      },
      "text/plain": [
       "VBox(children=(FigureWidget({\n",
       "    'data': [{'line': {'shape': 'hv'},\n",
       "              'name': 'baseline',\n",
       "       …"
      ]
     },
     "metadata": {},
     "output_type": "display_data"
    }
   ],
   "source": [
    "options = {'yaxis_name': '14-day running average EC (mmhos/cm)', \n",
    "           'title': 'EC 14-Day Mean for D1641_AG West&Interior Delta Timelines'}\n",
    "pdmn.plot_step_w_regulation(df_davg_ag, df_reg_ag_ts, df_stations_reg_ag, options)"
   ]
  },
  {
   "cell_type": "code",
   "execution_count": 10,
   "metadata": {
    "ExecuteTime": {
     "end_time": "2023-10-10T19:15:22.607529Z",
     "start_time": "2023-10-10T19:15:20.540003Z"
    },
    "scrolled": false
   },
   "outputs": [
    {
     "data": {
      "application/vnd.jupyter.widget-view+json": {
       "model_id": "d5bda147fa7c4af79db4646fbe0852f4",
       "version_major": 2,
       "version_minor": 0
      },
      "text/plain": [
       "VBox(children=(FigureWidget({\n",
       "    'data': [{'name': 'baseline',\n",
       "              'type': 'scatter',\n",
       "             …"
      ]
     },
     "metadata": {},
     "output_type": "display_data"
    }
   ],
   "source": [
    "options = {'yaxis_name': '14-day running average EC - standard (mmhos/cm)', \n",
    "           'title': 'EC 14-Day Mean for D1641_AG West&Interior Delta Exceedances'}\n",
    "pdmn.plot_exceedance_w_regulation(df_davg_ag, df_reg_ag_ts, df_stations_reg_ag, options)"
   ]
  },
  {
   "cell_type": "markdown",
   "metadata": {},
   "source": [
    "### D1641_AG South Delta: 30-day running average of daily mean EC"
   ]
  },
  {
   "cell_type": "code",
   "execution_count": 11,
   "metadata": {
    "ExecuteTime": {
     "end_time": "2023-10-10T19:15:24.019768Z",
     "start_time": "2023-10-10T19:15:22.609520Z"
    }
   },
   "outputs": [],
   "source": [
    "fpath_d1641_ag2 = '../info/D1641_AG_sDelta.csv'\n",
    "df_reg_ag2 = pdmu.read_regulations(fpath_d1641_ag2, df_wyt2020)\n",
    "df_reg_ag2['value'] = df_reg_ag2['value'] * 1000.  # Convert milli to micro\n",
    "reg_ag_loc2 = df_reg_ag2.location.unique()\n",
    "df_stations_reg_ag2 = df_stations[df_stations['ID'].isin(reg_ag_loc2)]\n",
    "# df_stations_reg_ag2"
   ]
  },
  {
   "cell_type": "code",
   "execution_count": 12,
   "metadata": {
    "ExecuteTime": {
     "end_time": "2023-10-10T19:15:24.527532Z",
     "start_time": "2023-10-10T19:15:24.021759Z"
    }
   },
   "outputs": [],
   "source": [
    "df_davg_ag2 = df_davg[df_davg['station'].isin(reg_ag_loc2)]"
   ]
  },
  {
   "cell_type": "code",
   "execution_count": 13,
   "metadata": {
    "ExecuteTime": {
     "end_time": "2023-10-10T19:15:27.182707Z",
     "start_time": "2023-10-10T19:15:24.528528Z"
    }
   },
   "outputs": [],
   "source": [
    "# Get the time range from the data set\n",
    "df_reg_ag_ts2 = pdmu.generate_regulation_timeseries(df_reg_ag2, df_davg_ag2, freq='D')\n",
    "df_reg_ag_ts2['variable'] = 'EC-MEAN-30DAY'\n",
    "df_reg_ag_ts2['scenario_name'] = 'D1641 AG South'\n",
    "# df_reg_ag_ts2.hvplot.line()"
   ]
  },
  {
   "cell_type": "markdown",
   "metadata": {},
   "source": [
    "O&M:\n",
    "\n",
    "start checking on Apr.30, check prev30d-avg; if exceed 700, count 30day, the entire month\n",
    "\n",
    "May.1, if exceed, count 1day\n",
    "\n",
    "notebook:\n",
    "\n",
    "didn't follow the 1st\n",
    "\n",
    "start checking on Apr.1, count days"
   ]
  },
  {
   "cell_type": "code",
   "execution_count": 14,
   "metadata": {
    "ExecuteTime": {
     "end_time": "2023-10-10T19:15:32.091207Z",
     "start_time": "2023-10-10T19:15:27.184698Z"
    }
   },
   "outputs": [
    {
     "data": {
      "application/vnd.jupyter.widget-view+json": {
       "model_id": "63086414592b473bad17fab1deeff7e9",
       "version_major": 2,
       "version_minor": 0
      },
      "text/plain": [
       "VBox(children=(FigureWidget({\n",
       "    'data': [{'line': {'shape': 'hv'},\n",
       "              'name': 'baseline',\n",
       "       …"
      ]
     },
     "metadata": {},
     "output_type": "display_data"
    }
   ],
   "source": [
    "options = {'yaxis_name': '30-day running average EC (mmhos/cm)', \n",
    "           'title': 'EC 30-Day Mean for D1641_AG South Delta Timelines'}\n",
    "pdmn.plot_step_w_regulation(df_davg_ag2, df_reg_ag_ts2, df_stations_reg_ag2, options)"
   ]
  },
  {
   "cell_type": "code",
   "execution_count": 15,
   "metadata": {
    "ExecuteTime": {
     "end_time": "2023-10-10T19:15:34.386645Z",
     "start_time": "2023-10-10T19:15:32.093198Z"
    },
    "scrolled": false
   },
   "outputs": [
    {
     "data": {
      "application/vnd.jupyter.widget-view+json": {
       "model_id": "f8e152c5d3ee4ddc9b408f371c75800b",
       "version_major": 2,
       "version_minor": 0
      },
      "text/plain": [
       "VBox(children=(FigureWidget({\n",
       "    'data': [{'name': 'baseline',\n",
       "              'type': 'scatter',\n",
       "             …"
      ]
     },
     "metadata": {},
     "output_type": "display_data"
    }
   ],
   "source": [
    "options = {'yaxis_name': '30-day running average EC - standard (mmhos/cm)', \n",
    "           'title': 'EC 30-Day Mean for D1641_AG South Delta Exceedances'}\n",
    "pdmn.plot_exceedance_w_regulation(df_davg_ag2, df_reg_ag_ts2, df_stations_reg_ag2, options)"
   ]
  },
  {
   "cell_type": "markdown",
   "metadata": {},
   "source": [
    "### todo, change to monthly"
   ]
  },
  {
   "cell_type": "markdown",
   "metadata": {},
   "source": [
    "### D1641_AG Export Area: monthly average of daily mean EC"
   ]
  },
  {
   "cell_type": "code",
   "execution_count": 16,
   "metadata": {
    "ExecuteTime": {
     "end_time": "2023-10-10T19:15:35.103473Z",
     "start_time": "2023-10-10T19:15:34.388666Z"
    }
   },
   "outputs": [],
   "source": [
    "fpath_d1641_ag3 = '../info/D1641_AG_export.csv'\n",
    "df_reg_ag3 = pdmu.read_regulations(fpath_d1641_ag3, df_wyt2020)\n",
    "df_reg_ag3['value'] = df_reg_ag3['value'] * 1000.  # Convert milli to micro\n",
    "reg_ag_loc3 = df_reg_ag3.location.unique()\n",
    "df_stations_reg_ag3 = df_stations[df_stations['ID'].isin(reg_ag_loc3)]\n",
    "# df_stations_reg_ag3"
   ]
  },
  {
   "cell_type": "code",
   "execution_count": 17,
   "metadata": {
    "ExecuteTime": {
     "end_time": "2023-10-10T19:15:35.541544Z",
     "start_time": "2023-10-10T19:15:35.105464Z"
    }
   },
   "outputs": [],
   "source": [
    "df_davg_ag3 = df_davg[df_davg['station'].isin(reg_ag_loc3)]"
   ]
  },
  {
   "cell_type": "code",
   "execution_count": 18,
   "metadata": {
    "ExecuteTime": {
     "end_time": "2023-10-10T19:15:36.641298Z",
     "start_time": "2023-10-10T19:15:35.542540Z"
    }
   },
   "outputs": [],
   "source": [
    "# Get the time range from the data set\n",
    "df_reg_ag_ts3 = pdmu.generate_regulation_timeseries(df_reg_ag3, df_davg_ag3, freq='D')\n",
    "df_reg_ag_ts3['variable'] = 'EC-MEAN-30DAY'\n",
    "df_reg_ag_ts3['scenario_name'] = 'D1641 AG Export'\n",
    "# df_reg_ag_ts3.hvplot.line()"
   ]
  },
  {
   "cell_type": "code",
   "execution_count": 19,
   "metadata": {
    "ExecuteTime": {
     "end_time": "2023-10-10T19:15:38.800908Z",
     "start_time": "2023-10-10T19:15:36.643290Z"
    }
   },
   "outputs": [
    {
     "data": {
      "application/vnd.jupyter.widget-view+json": {
       "model_id": "3e68858fb86243dbb899063655e06828",
       "version_major": 2,
       "version_minor": 0
      },
      "text/plain": [
       "VBox(children=(FigureWidget({\n",
       "    'data': [{'line': {'shape': 'hv'},\n",
       "              'name': 'baseline',\n",
       "       …"
      ]
     },
     "metadata": {},
     "output_type": "display_data"
    }
   ],
   "source": [
    "options = {'yaxis_name': 'monthly average EC (mmhos/cm)', \n",
    "           'title': 'EC Monthly Mean for D1641_AG Export Timelines'}\n",
    "pdmn.plot_step_w_regulation(df_davg_ag3, df_reg_ag_ts3, df_stations_reg_ag3, options)"
   ]
  },
  {
   "cell_type": "code",
   "execution_count": 20,
   "metadata": {
    "ExecuteTime": {
     "end_time": "2023-10-10T19:15:41.883540Z",
     "start_time": "2023-10-10T19:15:38.802900Z"
    },
    "scrolled": false
   },
   "outputs": [
    {
     "data": {
      "application/vnd.jupyter.widget-view+json": {
       "model_id": "ebe03fe1a7e4456a956c3c25f6ccf68f",
       "version_major": 2,
       "version_minor": 0
      },
      "text/plain": [
       "VBox(children=(FigureWidget({\n",
       "    'data': [{'name': 'baseline',\n",
       "              'type': 'scatter',\n",
       "             …"
      ]
     },
     "metadata": {},
     "output_type": "display_data"
    }
   ],
   "source": [
    "options = {'yaxis_name': 'monthly average EC - standard (mmhos/cm)', \n",
    "           'title': 'EC Monthly Mean for D1641_AG Export Exceedances'}\n",
    "pdmn.plot_exceedance_w_regulation(df_davg, df_reg_ag_ts3, df_stations_reg_ag3, options)"
   ]
  },
  {
   "cell_type": "markdown",
   "metadata": {},
   "source": [
    "## D1641 Fish and Wildlife standards"
   ]
  },
  {
   "cell_type": "markdown",
   "metadata": {},
   "source": [
    "### D1641_FWS San Joaquin River: 14-day running average of daily mean EC"
   ]
  },
  {
   "cell_type": "code",
   "execution_count": 21,
   "metadata": {
    "ExecuteTime": {
     "end_time": "2023-10-10T19:15:42.288326Z",
     "start_time": "2023-10-10T19:15:41.885531Z"
    }
   },
   "outputs": [],
   "source": [
    "# df_1day = df_ec[df_ec['interval'] == '1DAY']\n",
    "# df_davg = df_1day[df_1day['variable'] == 'EC-MEAN']"
   ]
  },
  {
   "cell_type": "code",
   "execution_count": 22,
   "metadata": {
    "ExecuteTime": {
     "end_time": "2023-10-10T19:15:43.221817Z",
     "start_time": "2023-10-10T19:15:42.290317Z"
    }
   },
   "outputs": [],
   "source": [
    "fpath_d1641_fws_sjr = '../info/D1641_FWS_SJR.csv'\n",
    "df_reg_fws_sjr = pdmu.read_regulations(fpath_d1641_fws_sjr, df_wyt2020)\n",
    "df_reg_fws_sjr['value'] = df_reg_fws_sjr['value'] * 1000.  # Convert milli to micro\n",
    "reg_fws_sjr_loc = df_reg_fws_sjr.location.unique()\n",
    "df_stations_reg_fws_sjr = df_stations[df_stations['ID'].isin(reg_fws_sjr_loc)]\n",
    "# df_stations_reg_fws_sjr"
   ]
  },
  {
   "cell_type": "code",
   "execution_count": 23,
   "metadata": {
    "ExecuteTime": {
     "end_time": "2023-10-10T19:15:43.657568Z",
     "start_time": "2023-10-10T19:15:43.225799Z"
    }
   },
   "outputs": [],
   "source": [
    "df_davg_fws_sjr = df_davg[df_davg['station'].isin(reg_fws_sjr_loc)]"
   ]
  },
  {
   "cell_type": "code",
   "execution_count": 24,
   "metadata": {
    "ExecuteTime": {
     "end_time": "2023-10-10T19:15:45.176461Z",
     "start_time": "2023-10-10T19:15:43.660555Z"
    }
   },
   "outputs": [],
   "source": [
    "# Get the time range from the data set\n",
    "df_reg_fws_ts_sjr = pdmu.generate_regulation_timeseries(df_reg_fws_sjr, df_davg_fws_sjr, freq='D')\n",
    "df_reg_fws_ts_sjr['variable'] = 'EC-MEAN-14DAY'\n",
    "df_reg_fws_ts_sjr['scenario_name'] = 'D1641 FWS SJR'\n",
    "# df_reg_fws_ts_sjr.hvplot.line()"
   ]
  },
  {
   "cell_type": "code",
   "execution_count": 25,
   "metadata": {
    "ExecuteTime": {
     "end_time": "2023-10-10T19:15:48.918216Z",
     "start_time": "2023-10-10T19:15:45.178452Z"
    },
    "scrolled": false
   },
   "outputs": [
    {
     "data": {
      "application/vnd.jupyter.widget-view+json": {
       "model_id": "f53b6473cde54c8aa6ca88bd2a48a767",
       "version_major": 2,
       "version_minor": 0
      },
      "text/plain": [
       "VBox(children=(FigureWidget({\n",
       "    'data': [{'line': {'shape': 'hv'},\n",
       "              'name': 'baseline',\n",
       "       …"
      ]
     },
     "metadata": {},
     "output_type": "display_data"
    }
   ],
   "source": [
    "options = {'yaxis_name': '14-day running average EC (mmhos/cm)', \n",
    "           'title': 'EC 14-Day Mean for D1641_FWS San Joaquin River Timelines'}\n",
    "pdmn.plot_step_w_regulation(df_davg_fws_sjr, df_reg_fws_ts_sjr, df_stations_reg_fws_sjr, options)"
   ]
  },
  {
   "cell_type": "code",
   "execution_count": 26,
   "metadata": {
    "ExecuteTime": {
     "end_time": "2023-10-10T19:15:50.353107Z",
     "start_time": "2023-10-10T19:15:48.920208Z"
    },
    "scrolled": false
   },
   "outputs": [
    {
     "data": {
      "application/vnd.jupyter.widget-view+json": {
       "model_id": "264320fa2d2c426aa47b407ca093a930",
       "version_major": 2,
       "version_minor": 0
      },
      "text/plain": [
       "VBox(children=(FigureWidget({\n",
       "    'data': [{'name': 'baseline',\n",
       "              'type': 'scatter',\n",
       "             …"
      ]
     },
     "metadata": {},
     "output_type": "display_data"
    }
   ],
   "source": [
    "options = {'yaxis_name': '14-day running average EC - standard (mmhos/cm)', \n",
    "           'title': 'EC 14-Day Mean for D1641_FWS San Joaquin River Exceedances'}\n",
    "pdmn.plot_exceedance_w_regulation(df_davg_fws_sjr, df_reg_fws_ts_sjr, df_stations_reg_fws_sjr, options)"
   ]
  },
  {
   "cell_type": "markdown",
   "metadata": {},
   "source": [
    "### D1641_FWS Suisun Area: monthly average of daily max EC"
   ]
  },
  {
   "cell_type": "code",
   "execution_count": 27,
   "metadata": {
    "ExecuteTime": {
     "end_time": "2023-10-10T19:16:14.350287Z",
     "start_time": "2023-10-10T19:15:50.355098Z"
    }
   },
   "outputs": [],
   "source": [
    "df_dmax = pdmu.prep_df(scenarios,stations_to_read,['EC-MAX'],['1DAY'],df_wyt2020,period93)"
   ]
  },
  {
   "cell_type": "code",
   "execution_count": 28,
   "metadata": {
    "ExecuteTime": {
     "end_time": "2023-10-10T19:16:14.693776Z",
     "start_time": "2023-10-10T19:16:14.352279Z"
    },
    "scrolled": true
   },
   "outputs": [],
   "source": [
    "# df_dmax = df_1day[df_1day['variable'] == 'EC-MAX']"
   ]
  },
  {
   "cell_type": "code",
   "execution_count": 29,
   "metadata": {
    "ExecuteTime": {
     "end_time": "2023-10-10T19:16:16.640149Z",
     "start_time": "2023-10-10T19:16:14.695766Z"
    }
   },
   "outputs": [],
   "source": [
    "fpath_d1641_fws_suisun = '../info/D1641_FWS_Suisun.csv'\n",
    "df_reg_fws_suisun = pdmu.read_regulations(fpath_d1641_fws_suisun, df_wyt2020)\n",
    "df_reg_fws_suisun['value'] = df_reg_fws_suisun['value'] * 1000.  # Convert milli to micro\n",
    "reg_fws_suisun_loc = df_reg_fws_suisun['location'].unique()\n",
    "df_stations_reg_fws_suisun = df_stations[df_stations['ID'].isin(reg_fws_suisun_loc)]\n",
    "# df_stations_reg_fws_suisun"
   ]
  },
  {
   "cell_type": "code",
   "execution_count": 30,
   "metadata": {
    "ExecuteTime": {
     "end_time": "2023-10-10T19:16:17.168034Z",
     "start_time": "2023-10-10T19:16:16.642141Z"
    }
   },
   "outputs": [],
   "source": [
    "df_dmax_fws_suisun = df_dmax[df_dmax['station'].isin(reg_fws_suisun_loc)]"
   ]
  },
  {
   "cell_type": "code",
   "execution_count": 31,
   "metadata": {
    "ExecuteTime": {
     "end_time": "2023-10-10T19:16:22.332510Z",
     "start_time": "2023-10-10T19:16:17.169030Z"
    }
   },
   "outputs": [],
   "source": [
    "# Get the time range from the data set\n",
    "df_reg_fws_suisun_ts = pdmu.generate_regulation_timeseries(df_reg_fws_suisun, df_dmax_fws_suisun, freq='D')\n",
    "df_reg_fws_suisun_ts['variable'] = 'EC-MAX-MEAN'\n",
    "df_reg_fws_suisun_ts['scenario_name'] = 'D1641 FWS Suisun'\n",
    "# df_reg_fws_suisun_ts.hvplot.line()"
   ]
  },
  {
   "cell_type": "code",
   "execution_count": 32,
   "metadata": {
    "ExecuteTime": {
     "end_time": "2023-10-10T19:16:25.525652Z",
     "start_time": "2023-10-10T19:16:22.334502Z"
    },
    "scrolled": false
   },
   "outputs": [
    {
     "data": {
      "application/vnd.jupyter.widget-view+json": {
       "model_id": "171b0cafbbac4ca38715b9fde2d2ea91",
       "version_major": 2,
       "version_minor": 0
      },
      "text/plain": [
       "VBox(children=(FigureWidget({\n",
       "    'data': [{'line': {'shape': 'hv'},\n",
       "              'name': 'baseline',\n",
       "       …"
      ]
     },
     "metadata": {},
     "output_type": "display_data"
    }
   ],
   "source": [
    "options = {'yaxis_name': 'EC Monthly Mean of Daily Max (mmhos/cm)', \n",
    "           'title': 'EC Monthly Mean of Daily Max for D1641_FWS Suisun Timelines'}\n",
    "pdmn.plot_step_w_regulation(df_dmax_fws_suisun, df_reg_fws_suisun_ts, df_stations_reg_fws_suisun, options)"
   ]
  },
  {
   "cell_type": "code",
   "execution_count": 33,
   "metadata": {
    "ExecuteTime": {
     "end_time": "2023-10-10T19:16:28.498464Z",
     "start_time": "2023-10-10T19:16:25.527643Z"
    },
    "scrolled": false
   },
   "outputs": [
    {
     "data": {
      "application/vnd.jupyter.widget-view+json": {
       "model_id": "cbe3bcc6c36246f89d50760d80b977af",
       "version_major": 2,
       "version_minor": 0
      },
      "text/plain": [
       "VBox(children=(FigureWidget({\n",
       "    'data': [{'name': 'baseline',\n",
       "              'type': 'scatter',\n",
       "             …"
      ]
     },
     "metadata": {},
     "output_type": "display_data"
    }
   ],
   "source": [
    "options = {'yaxis_name': 'Diff in EC scenario-standard (mmhos/cm)', \n",
    "           'title': 'EC Monthly Mean of Daily Max for D1641_FWS Suisun Exceedances'} \n",
    "pdmn.plot_exceedance_w_regulation(df_dmax_fws_suisun, df_reg_fws_suisun_ts, df_stations_reg_fws_suisun, options)"
   ]
  },
  {
   "cell_type": "markdown",
   "metadata": {},
   "source": [
    "D1641-FWS Suisun Stations: monthly average of daily average of two high-tide EC"
   ]
  },
  {
   "cell_type": "code",
   "execution_count": 34,
   "metadata": {
    "ExecuteTime": {
     "end_time": "2023-10-10T19:16:28.829999Z",
     "start_time": "2023-10-10T19:16:28.500455Z"
    }
   },
   "outputs": [],
   "source": [
    "# df_1day = df_ec[df_ec['interval'] == '1DAY']\n",
    "# df_dht = df_1day[df_1day['variable'] == 'EC-HT-MEAN']"
   ]
  },
  {
   "cell_type": "code",
   "execution_count": 35,
   "metadata": {
    "ExecuteTime": {
     "end_time": "2023-10-10T19:16:29.158204Z",
     "start_time": "2023-10-10T19:16:28.832035Z"
    },
    "scrolled": true
   },
   "outputs": [],
   "source": [
    "# df_dht"
   ]
  },
  {
   "cell_type": "code",
   "execution_count": 36,
   "metadata": {
    "ExecuteTime": {
     "end_time": "2023-10-10T19:16:29.468836Z",
     "start_time": "2023-10-10T19:16:29.159200Z"
    }
   },
   "outputs": [],
   "source": [
    "# fpath_d1641_fwss = '../info/D1641_FWS_Standards_Suisun1.csv'\n",
    "# df_reg_fwss = pdmu.read_regulations(fpath_d1641_fwss, df_wyt)\n",
    "# df_reg_fwss['value'] = df_reg_fwss['value'] * 1000.  # Convert milli to micro\n",
    "# df_stations_reg_fwss = df_stations[df_stations['ID'].isin(df_reg_fwss['location'].unique())]\n",
    "# df_stations_reg_fwss"
   ]
  },
  {
   "cell_type": "code",
   "execution_count": 37,
   "metadata": {
    "ExecuteTime": {
     "end_time": "2023-10-10T19:16:29.781055Z",
     "start_time": "2023-10-10T19:16:29.470827Z"
    },
    "scrolled": false
   },
   "outputs": [],
   "source": [
    "# options = {'yaxis_name': 'EC Monthly Mean of Daily Average of High-Tide (mmhos/cm)', 'title': 'D1641 FWS Suisun'}\n",
    "# pdmn.plot_step_w_regulation(df_dht, df_reg_fws_tss, df_stations_reg_fwss, options)"
   ]
  },
  {
   "cell_type": "code",
   "execution_count": 38,
   "metadata": {
    "ExecuteTime": {
     "end_time": "2023-10-10T19:16:30.091749Z",
     "start_time": "2023-10-10T19:16:29.783047Z"
    },
    "scrolled": false
   },
   "outputs": [],
   "source": [
    "# options = {'yaxis_name': 'Diff in EC scenario-standard (mmhos/cm)', 'title': 'EC Monthly Mean of Daily Average of High-Tide'}\n",
    "# pdmn.plot_exceedance_w_regulation(df_dht, df_reg_fws_tss, df_stations_reg_fwss, options)"
   ]
  },
  {
   "cell_type": "markdown",
   "metadata": {},
   "source": [
    "## D1641 Municipal & Industrial standards"
   ]
  },
  {
   "cell_type": "markdown",
   "metadata": {},
   "source": [
    "### D1641_MI Contra Costa: daily mean Chloride 250 mg/L"
   ]
  },
  {
   "cell_type": "code",
   "execution_count": 39,
   "metadata": {
    "ExecuteTime": {
     "end_time": "2023-10-10T19:16:31.447211Z",
     "start_time": "2023-10-10T19:16:30.093740Z"
    }
   },
   "outputs": [],
   "source": [
    "fpath_d1641_mi = '../info/D1641_MI_250.csv'\n",
    "df_reg_mi = pdmu.read_regulations(fpath_d1641_mi, df_wyt2020)\n",
    "reg_mi_loc = df_reg_mi.location.unique()\n",
    "df_stations_reg_mi = df_stations[df_stations['ID'].isin(reg_mi_loc)]\n",
    "# df_stations_reg_mi"
   ]
  },
  {
   "cell_type": "code",
   "execution_count": 40,
   "metadata": {
    "ExecuteTime": {
     "end_time": "2023-10-10T19:16:31.775071Z",
     "start_time": "2023-10-10T19:16:31.449201Z"
    }
   },
   "outputs": [
    {
     "data": {
      "text/plain": [
       "array(['ROLD024', 'CHSWP003', 'CHDMC006', 'SLBAR002', 'SLCCH016'],\n",
       "      dtype=object)"
      ]
     },
     "execution_count": 40,
     "metadata": {},
     "output_type": "execute_result"
    }
   ],
   "source": [
    "reg_mi_loc"
   ]
  },
  {
   "cell_type": "code",
   "execution_count": 41,
   "metadata": {
    "ExecuteTime": {
     "end_time": "2023-10-10T19:16:32.295309Z",
     "start_time": "2023-10-10T19:16:31.777062Z"
    }
   },
   "outputs": [
    {
     "data": {
      "text/plain": [
       "array(['CHDMC006', 'CHSWP003', 'OLD_MID', 'RMKL005', 'ROLD024', 'ROLD034',\n",
       "       'ROLD059', 'RSAC081', 'RSAC092', 'RSAN007', 'RSAN018', 'RSAN032',\n",
       "       'RSAN037', 'RSAN072', 'RSAN112', 'RSMKL008', 'SLBAR002',\n",
       "       'SLCBN002', 'SLCCH016', 'SLMZU011', 'SLMZU025', 'SLSUS012'],\n",
       "      dtype=object)"
      ]
     },
     "execution_count": 41,
     "metadata": {},
     "output_type": "execute_result"
    }
   ],
   "source": [
    "df_davg.station.unique()"
   ]
  },
  {
   "cell_type": "code",
   "execution_count": 42,
   "metadata": {
    "ExecuteTime": {
     "end_time": "2023-10-10T19:16:32.767638Z",
     "start_time": "2023-10-10T19:16:32.297300Z"
    },
    "scrolled": true
   },
   "outputs": [],
   "source": [
    "df_davg_mi = df_davg[df_davg['station'].isin(reg_mi_loc)]"
   ]
  },
  {
   "cell_type": "code",
   "execution_count": 43,
   "metadata": {
    "ExecuteTime": {
     "end_time": "2023-10-10T19:16:41.127684Z",
     "start_time": "2023-10-10T19:16:32.769147Z"
    },
    "scrolled": true
   },
   "outputs": [
    {
     "name": "stderr",
     "output_type": "stream",
     "text": [
      "D:\\DSM2_Planning_2023\\delta\\DSM2_v822plan\\pydelmod_plan\\lib\\site-packages\\ipykernel_launcher.py:2: SettingWithCopyWarning:\n",
      "\n",
      "\n",
      "A value is trying to be set on a copy of a slice from a DataFrame.\n",
      "Try using .loc[row_indexer,col_indexer] = value instead\n",
      "\n",
      "See the caveats in the documentation: http://pandas.pydata.org/pandas-docs/stable/user_guide/indexing.html#returning-a-view-versus-a-copy\n",
      "\n",
      "D:\\DSM2_Planning_2023\\delta\\DSM2_v822plan\\pydelmod_plan\\lib\\site-packages\\ipykernel_launcher.py:3: SettingWithCopyWarning:\n",
      "\n",
      "\n",
      "A value is trying to be set on a copy of a slice from a DataFrame.\n",
      "Try using .loc[row_indexer,col_indexer] = value instead\n",
      "\n",
      "See the caveats in the documentation: http://pandas.pydata.org/pandas-docs/stable/user_guide/indexing.html#returning-a-view-versus-a-copy\n",
      "\n"
     ]
    }
   ],
   "source": [
    "df_davg_cl = df_davg_mi\n",
    "df_davg_cl['value'] = df_davg_cl.apply(lambda x: max(x['value']*0.15-12.,x['value']*0.285-50),axis=1)\n",
    "df_davg_cl['variable'] = 'Chloride-MEAN'\n",
    "# df_davg_cl"
   ]
  },
  {
   "cell_type": "code",
   "execution_count": 44,
   "metadata": {
    "ExecuteTime": {
     "end_time": "2023-10-10T19:16:43.126032Z",
     "start_time": "2023-10-10T19:16:41.129675Z"
    }
   },
   "outputs": [],
   "source": [
    "# Get the time range from the data set\n",
    "df_reg_mi_ts = pdmu.generate_regulation_timeseries(df_reg_mi, df_davg_mi, freq='D')\n",
    "df_reg_mi_ts['variable'] = 'Chloride-MEAN'\n",
    "df_reg_mi_ts['scenario_name'] = 'D1641 MI 250'\n",
    "# df_reg_mi_ts"
   ]
  },
  {
   "cell_type": "code",
   "execution_count": 45,
   "metadata": {
    "ExecuteTime": {
     "end_time": "2023-10-10T19:16:47.981284Z",
     "start_time": "2023-10-10T19:16:43.128024Z"
    }
   },
   "outputs": [
    {
     "data": {
      "application/vnd.jupyter.widget-view+json": {
       "model_id": "cdbad99e5c8b4ba28cf4a7d187b26040",
       "version_major": 2,
       "version_minor": 0
      },
      "text/plain": [
       "VBox(children=(FigureWidget({\n",
       "    'data': [{'line': {'shape': 'hv'},\n",
       "              'name': 'baseline',\n",
       "       …"
      ]
     },
     "metadata": {},
     "output_type": "display_data"
    }
   ],
   "source": [
    "options = {'yaxis_name': 'Chloride Daily (mg/L)', \n",
    "           'title': 'Chloride Daily for D1641 MI 250 Timelines'}\n",
    "pdmn.plot_step_w_regulation(df_davg_cl, df_reg_mi_ts, df_stations_reg_mi, options)"
   ]
  },
  {
   "cell_type": "code",
   "execution_count": 46,
   "metadata": {
    "ExecuteTime": {
     "end_time": "2023-10-10T19:16:50.519682Z",
     "start_time": "2023-10-10T19:16:47.983276Z"
    },
    "scrolled": false
   },
   "outputs": [
    {
     "data": {
      "application/vnd.jupyter.widget-view+json": {
       "model_id": "64a7db6a2664456a9447dfdd7e0039eb",
       "version_major": 2,
       "version_minor": 0
      },
      "text/plain": [
       "VBox(children=(FigureWidget({\n",
       "    'data': [{'name': 'baseline',\n",
       "              'type': 'scatter',\n",
       "             …"
      ]
     },
     "metadata": {},
     "output_type": "display_data"
    }
   ],
   "source": [
    "options = {'yaxis_name': 'Chloride Daily -standard (mg/L)', \n",
    "           'title': 'Chloride Daily for D1641 MI 250 Exceedances'}\n",
    "pdmn.plot_exceedance_w_regulation(df_davg_cl, df_reg_mi_ts, df_stations_reg_mi, options)"
   ]
  },
  {
   "cell_type": "markdown",
   "metadata": {},
   "source": [
    "### D1641_MI Contra Costa: daily mean Chloride 150 mg/L"
   ]
  },
  {
   "cell_type": "code",
   "execution_count": 47,
   "metadata": {
    "ExecuteTime": {
     "end_time": "2023-10-10T19:16:51.035582Z",
     "start_time": "2023-10-10T19:16:50.521673Z"
    },
    "scrolled": true
   },
   "outputs": [],
   "source": [
    "fpath_d1641_mi2 = '../info/D1641_MI_150.csv'\n",
    "df_reg_mi2 = pdmu.read_regulations(fpath_d1641_mi2, df_wyt2020)\n",
    "reg_mi_loc2 = df_reg_mi2.location.unique()\n",
    "df_stations_reg_mi2 = df_stations[df_stations['ID'].isin(reg_mi_loc2)]\n",
    "# df_stations_reg_mi2"
   ]
  },
  {
   "cell_type": "code",
   "execution_count": 48,
   "metadata": {
    "ExecuteTime": {
     "end_time": "2023-10-10T19:16:51.438807Z",
     "start_time": "2023-10-10T19:16:51.037575Z"
    }
   },
   "outputs": [],
   "source": [
    "df_davg_mi2 = df_davg[df_davg['station'].isin(reg_mi_loc2)]"
   ]
  },
  {
   "cell_type": "code",
   "execution_count": 49,
   "metadata": {
    "ExecuteTime": {
     "end_time": "2023-10-10T19:16:52.306293Z",
     "start_time": "2023-10-10T19:16:51.440798Z"
    },
    "scrolled": false
   },
   "outputs": [],
   "source": [
    "# Get the time range from the data set\n",
    "df_reg_mi_ts2 = pdmu.generate_regulation_timeseries(df_reg_mi2, df_davg_mi2, freq='D')\n",
    "df_reg_mi_ts2['variable'] = 'Chloride-MEAN'\n",
    "df_reg_mi_ts2['scenario_name'] = 'D1641 MI 150'\n",
    "# df_reg_mi_ts2"
   ]
  },
  {
   "cell_type": "code",
   "execution_count": 50,
   "metadata": {
    "ExecuteTime": {
     "end_time": "2023-10-10T19:16:55.139138Z",
     "start_time": "2023-10-10T19:16:52.308284Z"
    },
    "scrolled": false
   },
   "outputs": [
    {
     "name": "stderr",
     "output_type": "stream",
     "text": [
      "D:\\DSM2_Planning_2023\\delta\\DSM2_v822plan\\pydelmod_plan\\lib\\site-packages\\ipykernel_launcher.py:2: SettingWithCopyWarning:\n",
      "\n",
      "\n",
      "A value is trying to be set on a copy of a slice from a DataFrame.\n",
      "Try using .loc[row_indexer,col_indexer] = value instead\n",
      "\n",
      "See the caveats in the documentation: http://pandas.pydata.org/pandas-docs/stable/user_guide/indexing.html#returning-a-view-versus-a-copy\n",
      "\n",
      "D:\\DSM2_Planning_2023\\delta\\DSM2_v822plan\\pydelmod_plan\\lib\\site-packages\\ipykernel_launcher.py:3: SettingWithCopyWarning:\n",
      "\n",
      "\n",
      "A value is trying to be set on a copy of a slice from a DataFrame.\n",
      "Try using .loc[row_indexer,col_indexer] = value instead\n",
      "\n",
      "See the caveats in the documentation: http://pandas.pydata.org/pandas-docs/stable/user_guide/indexing.html#returning-a-view-versus-a-copy\n",
      "\n",
      "D:\\DSM2_Planning_2023\\delta\\DSM2_v822plan\\pydelmod_plan\\lib\\site-packages\\ipykernel_launcher.py:4: SettingWithCopyWarning:\n",
      "\n",
      "\n",
      "A value is trying to be set on a copy of a slice from a DataFrame.\n",
      "Try using .loc[row_indexer,col_indexer] = value instead\n",
      "\n",
      "See the caveats in the documentation: http://pandas.pydata.org/pandas-docs/stable/user_guide/indexing.html#returning-a-view-versus-a-copy\n",
      "\n"
     ]
    }
   ],
   "source": [
    "df_davg_cl2 = df_davg_mi2\n",
    "df_davg_cl2['value'] = df_davg_cl2.apply(lambda x: max(x['value']*0.15-12.,x['value']*0.285-50),axis=1)\n",
    "df_davg_cl2['cl_minus_reg'] = df_davg_cl2.apply(lambda x: x['value'] - 150, axis=1)\n",
    "df_davg_cl2['cl_meet'] = df_davg_cl2['cl_minus_reg'].map(lambda x: x <= 0)\n",
    "# df_davg_cl2"
   ]
  },
  {
   "cell_type": "code",
   "execution_count": 51,
   "metadata": {
    "ExecuteTime": {
     "end_time": "2023-10-10T19:16:55.454748Z",
     "start_time": "2023-10-10T19:16:55.141128Z"
    }
   },
   "outputs": [],
   "source": [
    "# Define an aggregation function to count days when the regulation is met.\n",
    "# According to D1641:\n",
    "# Maximum mean daily 150 mg/l Cl−for at least the number of days shown\n",
    "# during the Calendar Year.\n",
    "# Must be provided in intervals of not less than two weeks duration.\n",
    "def sum_only_more_than_14days(series):\n",
    "    total = 0\n",
    "    cumsum = 0\n",
    "    for x in series:\n",
    "        if x:\n",
    "            cumsum += 1\n",
    "        else:\n",
    "            if cumsum >= 14:\n",
    "                total += cumsum\n",
    "            cumsum = 0\n",
    "    if cumsum >= 14:\n",
    "        total += cumsum\n",
    "    return total"
   ]
  },
  {
   "cell_type": "code",
   "execution_count": 52,
   "metadata": {
    "ExecuteTime": {
     "end_time": "2023-10-10T19:16:55.831088Z",
     "start_time": "2023-10-10T19:16:55.456739Z"
    },
    "scrolled": false
   },
   "outputs": [],
   "source": [
    "df_davg_cl2pl = df_davg_cl2.groupby(['scenario_name', 'year'])['cl_meet'].agg(sum_only_more_than_14days).to_frame()\n",
    "df_davg_cl2pl['n_records'] = df_davg_cl2.groupby(['scenario_name', 'year'])['year'].count()\n",
    "df_davg_cl2pl.reset_index(inplace=True)\n",
    "import calendar\n",
    "df_davg_cl2pl['days_in_year'] = df_davg_cl2pl['year'].map(lambda x: 366 if calendar.isleap(x) else 365)\n",
    "df_davg_cl2pl = df_davg_cl2pl[df_davg_cl2pl['n_records'] == df_davg_cl2pl['days_in_year']]\n",
    "df_davg_cl2pl['time'] = df_davg_cl2pl['year']\n",
    "df_davg_cl2pl.time = pd.to_datetime(df_davg_cl2pl.time, format='%Y')\n",
    "df_davg_cl2pl['value'] = df_davg_cl2pl['cl_meet']\n",
    "df_davg_cl2pl['station'] = 'ROLD024'\n",
    "df_davg_cl2pl['variable'] = 'Chloride-MEAN'\n",
    "df_davg_cl2pl = df_davg_cl2pl.merge(df_davg_cl2[[\"time\",\"scenario_name\",\"sac_yrtype\"]], on=[\"time\",\"scenario_name\"], how=\"left\")\n",
    "# df_davg_cl2pl"
   ]
  },
  {
   "cell_type": "markdown",
   "metadata": {},
   "source": [
    "Calendar year 1923-2014, only 92years applicable"
   ]
  },
  {
   "cell_type": "code",
   "execution_count": 53,
   "metadata": {
    "ExecuteTime": {
     "end_time": "2023-10-10T19:16:57.733756Z",
     "start_time": "2023-10-10T19:16:55.833080Z"
    }
   },
   "outputs": [
    {
     "data": {
      "application/vnd.jupyter.widget-view+json": {
       "model_id": "e54dc6397cc14b9f991eb17407715b9d",
       "version_major": 2,
       "version_minor": 0
      },
      "text/plain": [
       "VBox(children=(FigureWidget({\n",
       "    'data': [{'line': {'shape': 'hv'},\n",
       "              'name': 'alternative',\n",
       "    …"
      ]
     },
     "metadata": {},
     "output_type": "display_data"
    }
   ],
   "source": [
    "options = {'yaxis_name': 'Number of days in year under regulation (day)', \n",
    "           'title': 'Yearly number of days for D1641 MI 150 Timelines'}\n",
    "pdmn.plot_step_w_regulation(df_davg_cl2pl, df_reg_mi_ts2, df_stations_reg_mi2, options)"
   ]
  },
  {
   "cell_type": "code",
   "execution_count": 54,
   "metadata": {
    "ExecuteTime": {
     "end_time": "2023-10-10T19:16:58.688344Z",
     "start_time": "2023-10-10T19:16:57.735262Z"
    },
    "scrolled": false
   },
   "outputs": [
    {
     "data": {
      "application/vnd.jupyter.widget-view+json": {
       "model_id": "9e7d0893243f4fddb23c6c38ac36574c",
       "version_major": 2,
       "version_minor": 0
      },
      "text/plain": [
       "VBox(children=(FigureWidget({\n",
       "    'data': [{'name': 'alternative',\n",
       "              'type': 'scatter',\n",
       "          …"
      ]
     },
     "metadata": {},
     "output_type": "display_data"
    }
   ],
   "source": [
    "options = {'yaxis_name': 'Number of days under regulation - standard (day)', \n",
    "           'title': 'Yearly number of days for D1641 MI 150 Exceedances'}\n",
    "pdmn.plot_exceedance_w_regulation(df_davg_cl2pl, df_reg_mi_ts2, df_stations_reg_mi2, options)"
   ]
  },
  {
   "cell_type": "code",
   "execution_count": null,
   "metadata": {},
   "outputs": [],
   "source": []
  }
 ],
 "metadata": {
  "kernelspec": {
   "display_name": "Python 3",
   "language": "python",
   "name": "python3"
  },
  "language_info": {
   "codemirror_mode": {
    "name": "ipython",
    "version": 3
   },
   "file_extension": ".py",
   "mimetype": "text/x-python",
   "name": "python",
   "nbconvert_exporter": "python",
   "pygments_lexer": "ipython3",
   "version": "3.7.6"
  },
  "varInspector": {
   "cols": {
    "lenName": 16,
    "lenType": 16,
    "lenVar": 40
   },
   "kernels_config": {
    "python": {
     "delete_cmd_postfix": "",
     "delete_cmd_prefix": "del ",
     "library": "var_list.py",
     "varRefreshCmd": "print(var_dic_list())"
    },
    "r": {
     "delete_cmd_postfix": ") ",
     "delete_cmd_prefix": "rm(",
     "library": "var_list.r",
     "varRefreshCmd": "cat(var_dic_list()) "
    }
   },
   "types_to_exclude": [
    "module",
    "function",
    "builtin_function_or_method",
    "instance",
    "_Feature"
   ],
   "window_display": false
  }
 },
 "nbformat": 4,
 "nbformat_minor": 2
}
