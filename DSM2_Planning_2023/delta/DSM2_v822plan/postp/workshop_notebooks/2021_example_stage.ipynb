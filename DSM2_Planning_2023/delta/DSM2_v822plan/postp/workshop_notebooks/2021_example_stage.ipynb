{
 "cells": [
  {
   "cell_type": "markdown",
   "metadata": {},
   "source": [
    "# Jupyter Notebook to analyze DCR Stage data\n",
    "\n",
    "2023-9\n",
    "\n",
    "This notebook is used to visualize Stage outputs for DSM2 planning studies.\n",
    "\n",
    "The input files are post-processd (daily/monthly) DSS files."
   ]
  },
  {
   "cell_type": "code",
   "execution_count": 1,
   "metadata": {
    "ExecuteTime": {
     "end_time": "2023-10-10T19:14:22.876776Z",
     "start_time": "2023-10-10T19:14:22.829383Z"
    }
   },
   "outputs": [],
   "source": [
    "%load_ext autoreload\n",
    "%autoreload 2"
   ]
  },
  {
   "cell_type": "code",
   "execution_count": 2,
   "metadata": {
    "ExecuteTime": {
     "end_time": "2023-10-10T19:14:24.438160Z",
     "start_time": "2023-10-10T19:14:22.878767Z"
    }
   },
   "outputs": [],
   "source": [
    "# Import modules\n",
    "import pandas as pd\n",
    "# import plotly.offline as py\n",
    "# py.init_notebook_mode(connected=True)\n",
    "import pydelmod.utilities as pdmu\n",
    "import pydelmod.nbplot as pdmn"
   ]
  },
  {
   "cell_type": "code",
   "execution_count": 3,
   "metadata": {
    "ExecuteTime": {
     "end_time": "2023-10-10T19:14:24.547678Z",
     "start_time": "2023-10-10T19:14:24.440152Z"
    }
   },
   "outputs": [],
   "source": [
    "# Read output locations\n",
    "fpath_output_locations = \"../info/DSM2_ec_loc.csv\"\n",
    "df_stations = pd.read_csv(fpath_output_locations, comment='#')\n",
    "df_stations['ID'] = [x.upper() for x in df_stations['ID']]\n",
    "station_ids = df_stations['ID'].values\n",
    "stations_to_read = df_stations['ID'].values"
   ]
  },
  {
   "cell_type": "markdown",
   "metadata": {},
   "source": [
    "# Build Dataframe for All the Analyzed Data\n",
    "\n",
    "Only one scenario's Water Year Types (WYT) are used among all scenarios;\n",
    "\n",
    "i.e. users need to confirm all scenarios share the same WYT; otherwise, WYT tabs are not suggest to use\n",
    "\n",
    "Note: different climate change scenarios could have different Water Year types"
   ]
  },
  {
   "cell_type": "code",
   "execution_count": 4,
   "metadata": {
    "ExecuteTime": {
     "end_time": "2023-10-10T19:14:50.275729Z",
     "start_time": "2023-10-10T19:14:24.549669Z"
    }
   },
   "outputs": [],
   "source": [
    "# Read in scenarios\n",
    "dir_plan = 'd:/DSM2_Planning_2023/delta/DSM2_v822plan/studies_planning/'\n",
    "dir2021base = dir_plan+'baseline/'\n",
    "dir2040alt = dir_plan+'alternative/'\n",
    "\n",
    "scenarios = [\n",
    "            {'name': 'baseline',        'fpath': dir2021base+\"output/2021ex_STAGE_p.dss\"},\n",
    "            {'name': 'alternative',     'fpath': dir2040alt+\"output/2040alt_STAGE_p.dss\"}\n",
    "]\n",
    "\n",
    "# Add a wateryear type column\n",
    "wyt_c3f2020 = dir_plan+\"baseline/timeseries/CALSIM/calsim_2021ex.DSS\"\n",
    "df_wyt2020 = pdmu.read_calsim3_wateryear_types(wyt_c3f2020)\n",
    "\n",
    "period93 = ['1922-10-1','2015-9-30']"
   ]
  },
  {
   "cell_type": "markdown",
   "metadata": {},
   "source": [
    "# Stage Daily Mean"
   ]
  },
  {
   "cell_type": "code",
   "execution_count": 5,
   "metadata": {
    "ExecuteTime": {
     "end_time": "2023-10-10T19:15:28.530784Z",
     "start_time": "2023-10-10T19:14:50.277721Z"
    }
   },
   "outputs": [],
   "source": [
    "df_davg = pdmu.prep_df(scenarios,stations_to_read,['STAGE-MEAN'],['1DAY'],df_wyt2020,period93)"
   ]
  },
  {
   "cell_type": "code",
   "execution_count": 6,
   "metadata": {
    "ExecuteTime": {
     "end_time": "2023-10-10T19:15:35.881643Z",
     "start_time": "2023-10-10T19:15:28.531780Z"
    },
    "scrolled": false
   },
   "outputs": [
    {
     "data": {
      "application/vnd.jupyter.widget-view+json": {
       "model_id": "60ff6230fe3e4d4db8aa068235449379",
       "version_major": 2,
       "version_minor": 0
      },
      "text/plain": [
       "VBox(children=(FigureWidget({\n",
       "    'data': [{'line': {'shape': 'hv'},\n",
       "              'name': 'baseline',\n",
       "       …"
      ]
     },
     "metadata": {},
     "output_type": "display_data"
    }
   ],
   "source": [
    "options = {'yaxis_name': 'Daily Mean Stage (ft)', 'title': 'Stage Daily Mean Timelines'}\n",
    "pdmn.plot_step_w_variable_station_filters(df_davg, df_stations, options)"
   ]
  },
  {
   "cell_type": "code",
   "execution_count": 7,
   "metadata": {
    "ExecuteTime": {
     "end_time": "2023-10-10T19:15:37.493233Z",
     "start_time": "2023-10-10T19:15:35.883635Z"
    },
    "scrolled": false
   },
   "outputs": [
    {
     "data": {
      "application/vnd.jupyter.widget-view+json": {
       "model_id": "dbd138227be3448c80c2805085a42c15",
       "version_major": 2,
       "version_minor": 0
      },
      "text/plain": [
       "VBox(children=(FigureWidget({\n",
       "    'data': [{'name': 'baseline',\n",
       "              'type': 'bar',\n",
       "              'ui…"
      ]
     },
     "metadata": {},
     "output_type": "display_data"
    }
   ],
   "source": [
    "options = {'yaxis_name': 'Daily Mean Stage (ft)', 'title': 'Stage Monthly Barcharts of Daily Mean'}\n",
    "pdmn.plot_bar_monthly_w_controls(df_davg, df_stations, options)"
   ]
  },
  {
   "cell_type": "code",
   "execution_count": 8,
   "metadata": {
    "ExecuteTime": {
     "end_time": "2023-10-10T19:15:39.347667Z",
     "start_time": "2023-10-10T19:15:37.496221Z"
    },
    "scrolled": false
   },
   "outputs": [
    {
     "data": {
      "application/vnd.jupyter.widget-view+json": {
       "model_id": "c72b06bf731249cdb65b2e5bdd3539eb",
       "version_major": 2,
       "version_minor": 0
      },
      "text/plain": [
       "VBox(children=(FigureWidget({\n",
       "    'data': [{'name': 'baseline',\n",
       "              'type': 'scatter',\n",
       "             …"
      ]
     },
     "metadata": {},
     "output_type": "display_data"
    }
   ],
   "source": [
    "options = {'yaxis_name': 'Daily Min Stage (ft)', 'title': 'Stage Daily Mean Exceedances'}\n",
    "pdmn.plot_exceedance_w_variable_station_filters(df_davg, df_stations, options)"
   ]
  },
  {
   "cell_type": "code",
   "execution_count": 9,
   "metadata": {
    "ExecuteTime": {
     "end_time": "2023-10-10T19:15:41.194458Z",
     "start_time": "2023-10-10T19:15:39.349659Z"
    },
    "scrolled": false
   },
   "outputs": [
    {
     "data": {
      "application/vnd.jupyter.widget-view+json": {
       "model_id": "649def0acecf49ac80590b960f07accf",
       "version_major": 2,
       "version_minor": 0
      },
      "text/plain": [
       "VBox(children=(FigureWidget({\n",
       "    'data': [{'name': 'baseline',\n",
       "              'type': 'box',\n",
       "              'ui…"
      ]
     },
     "metadata": {},
     "output_type": "display_data"
    }
   ],
   "source": [
    "options = {'xaxis_name': 'Daily Min Stage (ft)', 'title': 'Stage Daily Mean Box-Whiskers'}\n",
    "pdmn.plot_box_w_variable_station_filters(df_davg, df_stations, options)"
   ]
  },
  {
   "cell_type": "markdown",
   "metadata": {},
   "source": [
    "### Stage Daily Mean Diff"
   ]
  },
  {
   "cell_type": "code",
   "execution_count": 10,
   "metadata": {
    "ExecuteTime": {
     "end_time": "2023-10-10T19:15:41.525003Z",
     "start_time": "2023-10-10T19:15:41.196449Z"
    }
   },
   "outputs": [],
   "source": [
    "# df_stage1 = df_davg[df_davg['scenario_name']=='EX_2020']\n",
    "# df_stage2 = df_davg[df_davg['scenario_name']=='PA6K_2020']\n",
    "# df_stage_dff = df_stage1\n",
    "# df_stage_dff['scenario_name'] = 'PA6K-EX_2020'\n",
    "# df_stage_dff['value'] = df_stage2['value'] - df_stage1['value']\n",
    "# # df_stage_dff"
   ]
  },
  {
   "cell_type": "code",
   "execution_count": 11,
   "metadata": {
    "ExecuteTime": {
     "end_time": "2023-10-10T19:15:41.883540Z",
     "start_time": "2023-10-10T19:15:41.525998Z"
    },
    "scrolled": false
   },
   "outputs": [],
   "source": [
    "# options = {'yaxis_name': 'Daily Min Stage Difference (ft)', 'title': 'Stage Daily Min Difference Timelines'}\n",
    "# pdmn.plot_step_w_variable_station_filters(df_stage_dff, df_stations, options)"
   ]
  },
  {
   "cell_type": "code",
   "execution_count": 12,
   "metadata": {
    "ExecuteTime": {
     "end_time": "2023-10-10T19:15:42.288326Z",
     "start_time": "2023-10-10T19:15:41.885531Z"
    }
   },
   "outputs": [],
   "source": [
    "# options = {'yaxis_name': 'Daily Mean Stage Difference (ft)', 'title': 'Stage Monthly Barcharts of Daily Mean Difference'}\n",
    "# pdmn.plot_bar_monthly_w_controls(df_stage_dff, df_stations, options)"
   ]
  },
  {
   "cell_type": "code",
   "execution_count": 13,
   "metadata": {
    "ExecuteTime": {
     "end_time": "2023-10-10T19:15:42.677612Z",
     "start_time": "2023-10-10T19:15:42.290317Z"
    }
   },
   "outputs": [],
   "source": [
    "# options = {'yaxis_name': 'Daily Mean Stage Difference (cfs)', 'title': 'Stage Daily Mean Difference Exceedances'}\n",
    "# pdmn.plot_exceedance_w_variable_station_filters(df_stage_dff, df_stations, options)"
   ]
  },
  {
   "cell_type": "code",
   "execution_count": 14,
   "metadata": {
    "ExecuteTime": {
     "end_time": "2023-10-10T19:15:43.002781Z",
     "start_time": "2023-10-10T19:15:42.679603Z"
    }
   },
   "outputs": [],
   "source": [
    "# options = {'xaxis_name': 'Daily Mean Stage Difference (ft)', 'title': 'Stage Daily Mean Difference Box-Whiskers'}\n",
    "# pdmn.plot_box_w_variable_station_filters(df_stage_dff, df_stations, options)"
   ]
  },
  {
   "cell_type": "markdown",
   "metadata": {},
   "source": [
    "# Stage Daily Min"
   ]
  },
  {
   "cell_type": "code",
   "execution_count": 15,
   "metadata": {
    "ExecuteTime": {
     "end_time": "2023-10-10T19:16:22.921692Z",
     "start_time": "2023-10-10T19:15:43.004772Z"
    }
   },
   "outputs": [],
   "source": [
    "df_dmin = pdmu.prep_df(scenarios,stations_to_read,['STAGE-MIN'],['1DAY'],df_wyt2020,period93)"
   ]
  },
  {
   "cell_type": "code",
   "execution_count": 16,
   "metadata": {
    "ExecuteTime": {
     "end_time": "2023-10-10T19:16:26.512615Z",
     "start_time": "2023-10-10T19:16:22.923683Z"
    },
    "scrolled": false
   },
   "outputs": [
    {
     "data": {
      "application/vnd.jupyter.widget-view+json": {
       "model_id": "51c865d0933e4c94ab8a4129b6cd474a",
       "version_major": 2,
       "version_minor": 0
      },
      "text/plain": [
       "VBox(children=(FigureWidget({\n",
       "    'data': [{'line': {'shape': 'hv'},\n",
       "              'name': 'baseline',\n",
       "       …"
      ]
     },
     "metadata": {},
     "output_type": "display_data"
    }
   ],
   "source": [
    "options = {'yaxis_name': 'Daily Min Stage (ft)', 'title': 'Stage Daily Min Timelines'}\n",
    "pdmn.plot_step_w_variable_station_filters(df_dmin, df_stations, options)"
   ]
  },
  {
   "cell_type": "code",
   "execution_count": 17,
   "metadata": {
    "ExecuteTime": {
     "end_time": "2023-10-10T19:16:28.309296Z",
     "start_time": "2023-10-10T19:16:26.514606Z"
    },
    "scrolled": false
   },
   "outputs": [
    {
     "data": {
      "application/vnd.jupyter.widget-view+json": {
       "model_id": "a42bc040299a4236aec0493c4a01593c",
       "version_major": 2,
       "version_minor": 0
      },
      "text/plain": [
       "VBox(children=(FigureWidget({\n",
       "    'data': [{'name': 'baseline',\n",
       "              'type': 'bar',\n",
       "              'ui…"
      ]
     },
     "metadata": {},
     "output_type": "display_data"
    }
   ],
   "source": [
    "options = {'yaxis_name': 'Daily Min Stage (ft)', 'title': 'Stage Monthly Barcharts of Daily Min'}\n",
    "pdmn.plot_bar_monthly_w_controls(df_dmin, df_stations, options)"
   ]
  },
  {
   "cell_type": "code",
   "execution_count": 18,
   "metadata": {
    "ExecuteTime": {
     "end_time": "2023-10-10T19:16:30.214209Z",
     "start_time": "2023-10-10T19:16:28.311288Z"
    },
    "scrolled": false
   },
   "outputs": [
    {
     "data": {
      "application/vnd.jupyter.widget-view+json": {
       "model_id": "9b603d9252614d59ad050bd84ca7824d",
       "version_major": 2,
       "version_minor": 0
      },
      "text/plain": [
       "VBox(children=(FigureWidget({\n",
       "    'data': [{'name': 'baseline',\n",
       "              'type': 'scatter',\n",
       "             …"
      ]
     },
     "metadata": {},
     "output_type": "display_data"
    }
   ],
   "source": [
    "options = {'yaxis_name': 'Daily Min Stage (ft)', 'title': 'Stage Daily Min Exceedances'}\n",
    "pdmn.plot_exceedance_w_variable_station_filters(df_dmin, df_stations, options)"
   ]
  },
  {
   "cell_type": "code",
   "execution_count": 19,
   "metadata": {
    "ExecuteTime": {
     "end_time": "2023-10-10T19:16:32.123067Z",
     "start_time": "2023-10-10T19:16:30.216201Z"
    },
    "scrolled": false
   },
   "outputs": [
    {
     "data": {
      "application/vnd.jupyter.widget-view+json": {
       "model_id": "a44a383692bf4d42b9e6a838a98201cc",
       "version_major": 2,
       "version_minor": 0
      },
      "text/plain": [
       "VBox(children=(FigureWidget({\n",
       "    'data': [{'name': 'baseline',\n",
       "              'type': 'box',\n",
       "              'ui…"
      ]
     },
     "metadata": {},
     "output_type": "display_data"
    }
   ],
   "source": [
    "options = {'xaxis_name': 'Daily Min Stage (ft)', 'title': 'Stage Daily Min Box-Whiskers'}\n",
    "pdmn.plot_box_w_variable_station_filters(df_dmin, df_stations, options)"
   ]
  }
 ],
 "metadata": {
  "kernelspec": {
   "display_name": "Python 3",
   "language": "python",
   "name": "python3"
  },
  "language_info": {
   "codemirror_mode": {
    "name": "ipython",
    "version": 3
   },
   "file_extension": ".py",
   "mimetype": "text/x-python",
   "name": "python",
   "nbconvert_exporter": "python",
   "pygments_lexer": "ipython3",
   "version": "3.7.6"
  },
  "varInspector": {
   "cols": {
    "lenName": 16,
    "lenType": 16,
    "lenVar": 40
   },
   "kernels_config": {
    "python": {
     "delete_cmd_postfix": "",
     "delete_cmd_prefix": "del ",
     "library": "var_list.py",
     "varRefreshCmd": "print(var_dic_list())"
    },
    "r": {
     "delete_cmd_postfix": ") ",
     "delete_cmd_prefix": "rm(",
     "library": "var_list.r",
     "varRefreshCmd": "cat(var_dic_list()) "
    }
   },
   "types_to_exclude": [
    "module",
    "function",
    "builtin_function_or_method",
    "instance",
    "_Feature"
   ],
   "window_display": false
  }
 },
 "nbformat": 4,
 "nbformat_minor": 2
}
